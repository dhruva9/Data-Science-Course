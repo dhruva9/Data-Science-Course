{
 "cells": [
  {
   "cell_type": "code",
   "execution_count": 1,
   "id": "1ebd3449-b21e-484b-8d95-e2a265d39fce",
   "metadata": {},
   "outputs": [],
   "source": [
    "import numpy as np\n",
    "import matplotlib.pyplot as plt\n",
    "import seaborn as sns"
   ]
  },
  {
   "cell_type": "markdown",
   "id": "ca01ca01-ed3e-429a-b41c-7b1f4e125a30",
   "metadata": {},
   "source": [
    "## 1. We shall use the same dataset used in previous assignment - digits. Make a 80-20 train/test split."
   ]
  },
  {
   "cell_type": "code",
   "execution_count": 2,
   "id": "feb10535-3521-49ca-8e35-7b30f4bf4116",
   "metadata": {},
   "outputs": [],
   "source": [
    "from sklearn.datasets import load_digits"
   ]
  },
  {
   "cell_type": "code",
   "execution_count": 3,
   "id": "5a7f68e5-d0f3-4dd7-b504-9d79255daf98",
   "metadata": {},
   "outputs": [],
   "source": [
    "digits = load_digits()"
   ]
  },
  {
   "cell_type": "code",
   "execution_count": 4,
   "id": "e8ed5d87-3367-4ae0-b9b6-86cba755f21c",
   "metadata": {},
   "outputs": [
    {
     "data": {
      "text/plain": [
       "(1797, 64)"
      ]
     },
     "execution_count": 4,
     "metadata": {},
     "output_type": "execute_result"
    }
   ],
   "source": [
    "digits.data.shape"
   ]
  },
  {
   "cell_type": "code",
   "execution_count": 5,
   "id": "253fe276-ec6e-41f6-8b16-58344b6a66f6",
   "metadata": {},
   "outputs": [
    {
     "data": {
      "text/plain": [
       "<Figure size 432x288 with 0 Axes>"
      ]
     },
     "metadata": {},
     "output_type": "display_data"
    },
    {
     "data": {
      "image/png": "[encoded data removed]",
      "text/plain": [
       "<Figure size 288x288 with 1 Axes>"
      ]
     },
     "metadata": {
      "needs_background": "light"
     },
     "output_type": "display_data"
    }
   ],
   "source": [
    "plt.gray()\n",
    "plt.matshow(digits.images[0])\n",
    "plt.show()"
   ]
  },
  {
   "cell_type": "code",
   "execution_count": 6,
   "id": "bb920b63-0e23-4ca1-aec9-7616fbdccf92",
   "metadata": {},
   "outputs": [],
   "source": [
    "X = digits.data\n",
    "y = digits.target"
   ]
  },
  {
   "cell_type": "code",
   "execution_count": 7,
   "id": "334d0eb8-7222-4b06-8f4b-043e08bcfb4b",
   "metadata": {},
   "outputs": [],
   "source": [
    "from sklearn.model_selection import train_test_split"
   ]
  },
  {
   "cell_type": "code",
   "execution_count": 8,
   "id": "73edcad8-74b5-4bbe-a0bc-8fd976aeb79a",
   "metadata": {},
   "outputs": [],
   "source": [
    "X_train, X_test, y_train, y_test = train_test_split(X, y, test_size=0.2, random_state=85)"
   ]
  },
  {
   "cell_type": "markdown",
   "id": "3be45cc5-7a93-4b2d-82dc-53af6411d42d",
   "metadata": {},
   "source": [
    "## 2. Using scikit learn perform a LDA on the dataset. Find out the number of components in the projected subspace."
   ]
  },
  {
   "cell_type": "code",
   "execution_count": 9,
   "id": "084b6547-b52a-4a16-8d2c-f6dd584db2ca",
   "metadata": {},
   "outputs": [],
   "source": [
    "from sklearn.discriminant_analysis import LinearDiscriminantAnalysis as LDA"
   ]
  },
  {
   "cell_type": "code",
   "execution_count": 10,
   "id": "63d7dfd5-e6f2-4a03-8ff2-6874b8044ecc",
   "metadata": {},
   "outputs": [],
   "source": [
    "lda = LDA(n_components=5)"
   ]
  },
  {
   "cell_type": "code",
   "execution_count": 11,
   "id": "94ebdcc7-da1c-4613-aa01-047b034b4b55",
   "metadata": {},
   "outputs": [
    {
     "data": {
      "text/plain": [
       "LinearDiscriminantAnalysis(n_components=5)"
      ]
     },
     "execution_count": 11,
     "metadata": {},
     "output_type": "execute_result"
    }
   ],
   "source": [
    "lda.fit(X_train, y_train)"
   ]
  },
  {
   "cell_type": "code",
   "execution_count": 12,
   "id": "99fbf8fb-efca-4c25-90ad-24f96a46a12f",
   "metadata": {},
   "outputs": [
    {
     "name": "stdout",
     "output_type": "stream",
     "text": [
      "[0.28320613 0.18471045 0.17107444 0.1164807  0.08508005]\n"
     ]
    }
   ],
   "source": [
    "print(lda.explained_variance_ratio_)"
   ]
  },
  {
   "cell_type": "markdown",
   "id": "d32280f0-e73a-4e07-9de6-ffc2aad926d7",
   "metadata": {},
   "source": [
    "## 3. Transform the dataset and fit a logistic regression and observe the accuracy. Compare it with the previous model based on PCA in terms of accuracy and model complexity"
   ]
  },
  {
   "cell_type": "code",
   "execution_count": 13,
   "id": "878c5c1c-bec4-4a79-bf59-dfbd4a696fbb",
   "metadata": {},
   "outputs": [],
   "source": [
    "from sklearn.linear_model import LinearRegression"
   ]
  },
  {
   "cell_type": "code",
   "execution_count": 14,
   "id": "6fc57842-62a9-4d9f-9f97-c64f36d4aa0f",
   "metadata": {},
   "outputs": [],
   "source": [
    "X_train = lda.transform(X_train)\n",
    "X_test = lda.transform(X_test)"
   ]
  },
  {
   "cell_type": "code",
   "execution_count": 15,
   "id": "27f8730c-f618-4802-865d-070fc17b0bcc",
   "metadata": {},
   "outputs": [],
   "source": [
    "regressor = LinearRegression()"
   ]
  },
  {
   "cell_type": "code",
   "execution_count": 16,
   "id": "2efabad1-dd0b-4b97-a90d-30b4ba6da007",
   "metadata": {},
   "outputs": [
    {
     "data": {
      "text/plain": [
       "LinearRegression()"
      ]
     },
     "execution_count": 16,
     "metadata": {},
     "output_type": "execute_result"
    }
   ],
   "source": [
    "regressor.fit(X_train, y_train)"
   ]
  },
  {
   "cell_type": "code",
   "execution_count": 17,
   "id": "4de742ef-30ad-406e-896d-c773a9cf9e2e",
   "metadata": {},
   "outputs": [],
   "source": [
    "y_pred = regressor.predict(X_test)"
   ]
  },
  {
   "cell_type": "code",
   "execution_count": 18,
   "id": "8552eef9-6ecd-4f74-a5e5-978427c265c2",
   "metadata": {},
   "outputs": [],
   "source": [
    "from sklearn.metrics import accuracy_score"
   ]
  },
  {
   "cell_type": "code",
   "execution_count": 19,
   "id": "c5096a97-9818-4725-8458-b6919fd41636",
   "metadata": {},
   "outputs": [
    {
     "data": {
      "text/plain": [
       "array([4, 3, 9, 6, 7, 1, 9, 3, 3, 6, 5, 4, 4, 8, 2, 0, 0, 4, 6, 5, 9, 7,\n",
       "       5, 1, 4, 0, 9, 8, 2, 3, 6, 3, 1, 4, 3, 3, 5, 7, 0, 1, 5, 6, 3, 3,\n",
       "       4, 7, 5, 6, 5, 2, 1, 3, 4, 1, 7, 8, 1, 6, 4, 1, 1, 0, 3, 3, 3, 7,\n",
       "       2, 3, 6, 1, 0, 9, 9, 5, 0, 9, 7, 3, 8, 7, 1, 8, 0, 4, 0, 4, 4, 2,\n",
       "       0, 3, 5, 7, 0, 5, 0, 6, 3, 4, 8, 1, 6, 1, 3, 9, 1, 9, 3, 4, 2, 1,\n",
       "       3, 5, 6, 0, 1, 4, 0, 4, 1, 7, 2, 8, 2, 5, 8, 1, 6, 5, 2, 4, 1, 0,\n",
       "       6, 4, 7, 2, 4, 7, 9, 3, 6, 4, 6, 2, 4, 1, 4, 8, 0, 6, 2, 7, 9, 5,\n",
       "       8, 0, 2, 4, 1, 3, 2, 7, 6, 1, 5, 6, 4, 6, 2, 5, 3, 8, 7, 1, 6, 9,\n",
       "       7, 8, 6, 8, 4, 3, 0, 2, 5, 6, 9, 1, 9, 1, 4, 9, 9, 6, 5, 5, 8, 3,\n",
       "       9, 4, 7, 3, 1, 8, 2, 5, 8, 1, 7, 0, 4, 3, 4, 7, 0, 7, 2, 6, 3, 4,\n",
       "       1, 7, 6, 9, 1, 5, 0, 6, 1, 6, 7, 1, 2, 4, 3, 5, 6, 5, 1, 0, 5, 6,\n",
       "       2, 1, 3, 9, 6, 6, 8, 7, 6, 7, 7, 7, 2, 1, 3, 1, 2, 9, 6, 2, 0, 4,\n",
       "       5, 7, 6, 5, 5, 5, 1, 0, 7, 1, 6, 9, 6, 4, 3, 8, 1, 1, 3, 3, 3, 3,\n",
       "       2, 2, 0, 2, 5, 6, 2, 9, 8, 8, 4, 6, 7, 9, 1, 4, 0, 6, 9, 7, 5, 4,\n",
       "       4, 9, 0, 6, 3, 4, 7, 6, 8, 0, 0, 0, 9, 2, 4, 5, 7, 7, 1, 7, 8, 4,\n",
       "       1, 0, 2, 7, 1, 8, 3, 1, 4, 1, 8, 0, 0, 3, 3, 6, 4, 0, 5, 2, 2, 1,\n",
       "       3, 1, 6, 2, 2, 5, 5, 0])"
      ]
     },
     "execution_count": 19,
     "metadata": {},
     "output_type": "execute_result"
    }
   ],
   "source": [
    "y_test"
   ]
  },
  {
   "cell_type": "code",
   "execution_count": 20,
   "id": "33a704d3-7b31-4269-9cb8-92b1d9be53e3",
   "metadata": {},
   "outputs": [
    {
     "data": {
      "text/plain": [
       "array([2.84739651, 5.31140471, 6.95040884, 2.74649536, 5.65177533,\n",
       "       4.42193901, 5.23725372, 5.63223221, 5.16955502, 4.7044518 ,\n",
       "       6.42689257, 4.41508247, 5.52284296, 6.33512357, 2.79944906,\n",
       "       2.22933705, 1.86032657, 6.99480157, 2.59027794, 5.18688353,\n",
       "       6.55338599, 5.93408116, 6.75447552, 3.68512736, 4.40112727,\n",
       "       1.46690034, 5.48942859, 6.53661662, 2.07301089, 5.30764008,\n",
       "       2.10056312, 4.35191628, 5.34806194, 6.55223887, 2.57773464,\n",
       "       5.76650383, 5.76426099, 5.97725574, 0.61062726, 5.59606049,\n",
       "       6.5833489 , 3.5565054 , 5.32827649, 4.39132882, 4.53041399,\n",
       "       5.94704102, 6.03629608, 3.13492014, 6.93650127, 0.83920474,\n",
       "       4.81668907, 6.07615298, 3.38908712, 5.17454706, 6.12753198,\n",
       "       5.34205957, 5.42022253, 3.71414152, 4.65787413, 5.17951622,\n",
       "       5.17217186, 3.11716525, 4.55320253, 5.17234876, 4.18097683,\n",
       "       5.82170954, 0.76606144, 4.79595743, 4.04987706, 5.00562272,\n",
       "       0.77494736, 5.40599295, 6.15029604, 5.69616523, 2.04745338,\n",
       "       5.05536324, 5.39984781, 3.9265505 , 6.0285977 , 5.84282793,\n",
       "       4.60907362, 4.2168194 , 3.02552464, 5.2914774 , 2.24787193,\n",
       "       3.56103696, 5.74482138, 1.35080289, 2.6316254 , 4.49468732,\n",
       "       6.58952197, 5.84335551, 1.89276221, 6.93183351, 3.20501201,\n",
       "       3.47154522, 4.64822771, 5.58948657, 5.64333907, 6.33096335,\n",
       "       3.15609723, 4.79948538, 4.63356629, 5.77594024, 4.66810196,\n",
       "       4.14488525, 6.10611203, 3.85371734, 1.76523077, 5.2845553 ,\n",
       "       4.45173547, 7.39018941, 3.04570135, 3.37554962, 3.63548146,\n",
       "       3.82519128, 1.28039061, 5.20788756, 5.60880592, 5.59536673,\n",
       "       2.37739301, 6.13235036, 1.37592263, 4.33954143, 5.58244265,\n",
       "       4.96211412, 2.63166474, 6.37467078, 2.1663516 , 4.31430302,\n",
       "       5.04210821, 3.68409993, 5.27838795, 4.60443495, 5.21771538,\n",
       "       1.06995485, 6.26798511, 5.73535931, 5.40180475, 5.61883958,\n",
       "       3.08790524, 4.00365994, 4.10008894, 1.22550727, 3.62357006,\n",
       "       5.18848885, 4.68716469, 4.92606894, 1.55077622, 2.33538128,\n",
       "       1.13707225, 6.31540417, 8.10263256, 4.66567536, 5.43335622,\n",
       "       3.55463852, 1.44779175, 5.29746874, 3.24742964, 4.22689099,\n",
       "       1.35002151, 6.66193358, 3.94715806, 3.1274594 , 6.91365853,\n",
       "       3.49100581, 5.88865825, 3.68649626, 2.29393323, 6.06054471,\n",
       "       4.63245465, 4.48304054, 5.85413575, 5.64718434, 2.38401225,\n",
       "       4.46350442, 5.31394616, 5.5053943 , 3.61216064, 5.26820543,\n",
       "       3.42669672, 5.03161031, 0.94537993, 2.40617689, 6.27480232,\n",
       "       3.81754525, 5.50564946, 5.93935006, 7.19740097, 5.1819003 ,\n",
       "       4.52747979, 7.67524682, 5.92744296, 3.25991476, 5.50011381,\n",
       "       7.38187231, 5.16864453, 3.08650188, 7.24194313, 4.92058257,\n",
       "       5.66379845, 5.14756987, 5.40841683, 5.20236332, 1.93701279,\n",
       "       6.96045633, 6.64124461, 5.52932392, 6.32458083, 1.7980171 ,\n",
       "       2.6402696 , 5.97312139, 3.0935222 , 5.43601093, 1.87121294,\n",
       "       5.20098723, 0.77975523, 4.70062945, 4.36868744, 5.76972231,\n",
       "       2.63836829, 5.97458047, 3.17271406, 4.08660625, 3.12876129,\n",
       "       6.42487961, 2.25364467, 3.5950584 , 3.91567583, 4.5380537 ,\n",
       "       5.40570595, 4.35653462, 1.82980014, 5.40343501, 4.82431177,\n",
       "       7.05523108, 4.09789794, 5.74298853, 5.17148306, 2.28028402,\n",
       "       5.596022  , 3.31040692, 2.38553205, 5.93597742, 4.42178946,\n",
       "       7.37194184, 2.77270859, 4.11528459, 6.81533712, 6.40924049,\n",
       "       5.01322847, 6.70245158, 6.35206781, 4.96774443, 2.28609162,\n",
       "       5.33954592, 5.05614771, 4.45741927, 2.27290328, 6.69606632,\n",
       "       4.0349779 , 1.01839309, 1.93928752, 4.55899317, 7.39330006,\n",
       "       6.34552566, 4.22575285, 5.69243793, 4.22793007, 6.31085356,\n",
       "       6.06126835, 1.42906932, 4.69263622, 3.37276665, 3.29705499,\n",
       "       5.67110046, 3.31582301, 3.90444485, 5.8640984 , 4.31409907,\n",
       "       5.12973697, 4.01621876, 5.32937373, 4.16337515, 4.59707052,\n",
       "       5.71637819, 1.79708004, 3.03188978, 2.82930121, 0.78561483,\n",
       "       4.69087205, 4.86350287, 1.82462489, 4.49773096, 6.00000748,\n",
       "       6.1911356 , 4.6061745 , 3.49560363, 5.22288424, 5.15113716,\n",
       "       5.25612509, 3.5877399 , 2.22955765, 3.83770234, 5.09071322,\n",
       "       6.4174175 , 7.14643718, 3.18146884, 5.48310294, 7.075385  ,\n",
       "       2.36142657, 3.7959334 , 5.62512583, 4.34746422, 5.41133268,\n",
       "       3.44897917, 4.6952972 , 1.19820661, 2.058355  , 2.19880763,\n",
       "       6.1606149 , 0.67530583, 3.50282156, 6.57291863, 6.33420513,\n",
       "       4.31625957, 4.54412597, 6.19127631, 5.88132784, 3.46202773,\n",
       "       7.77189523, 2.47369973, 0.21029978, 5.07612292, 5.35681327,\n",
       "       6.14565589, 3.68094879, 5.28500723, 6.40594333, 3.4680333 ,\n",
       "       6.02521789, 1.19712189, 1.57460408, 3.80214424, 4.61454862,\n",
       "       3.10375075, 4.64041973, 1.85144956, 6.09537497, 1.233338  ,\n",
       "       0.83300489, 5.71080183, 5.28134922, 3.81618063, 3.35018902,\n",
       "       2.85006647, 1.9025472 , 6.80380642, 5.93159218, 1.36918963])"
      ]
     },
     "execution_count": 20,
     "metadata": {},
     "output_type": "execute_result"
    }
   ],
   "source": [
    "y_pred"
   ]
  },
  {
   "cell_type": "code",
   "execution_count": 21,
   "id": "44a12330-2d5b-4660-98cc-dd1f87d7082c",
   "metadata": {},
   "outputs": [
    {
     "data": {
      "text/plain": [
       "numpy.ndarray"
      ]
     },
     "execution_count": 21,
     "metadata": {},
     "output_type": "execute_result"
    }
   ],
   "source": [
    "type(y_pred)"
   ]
  },
  {
   "cell_type": "code",
   "execution_count": 22,
   "id": "6ce25966-d333-4b7b-830c-7b016d71eb2b",
   "metadata": {},
   "outputs": [],
   "source": [
    "y_pred = np.round(y_pred)"
   ]
  },
  {
   "cell_type": "code",
   "execution_count": 23,
   "id": "e199e840-c88c-47ae-937d-71b2f50dfe73",
   "metadata": {},
   "outputs": [
    {
     "data": {
      "text/plain": [
       "array([3., 5., 7., 3., 6., 4., 5., 6., 5., 5., 6., 4., 6., 6., 3., 2., 2.,\n",
       "       7., 3., 5., 7., 6., 7., 4., 4., 1., 5., 7., 2., 5., 2., 4., 5., 7.,\n",
       "       3., 6., 6., 6., 1., 6., 7., 4., 5., 4., 5., 6., 6., 3., 7., 1., 5.,\n",
       "       6., 3., 5., 6., 5., 5., 4., 5., 5., 5., 3., 5., 5., 4., 6., 1., 5.,\n",
       "       4., 5., 1., 5., 6., 6., 2., 5., 5., 4., 6., 6., 5., 4., 3., 5., 2.,\n",
       "       4., 6., 1., 3., 4., 7., 6., 2., 7., 3., 3., 5., 6., 6., 6., 3., 5.,\n",
       "       5., 6., 5., 4., 6., 4., 2., 5., 4., 7., 3., 3., 4., 4., 1., 5., 6.,\n",
       "       6., 2., 6., 1., 4., 6., 5., 3., 6., 2., 4., 5., 4., 5., 5., 5., 1.,\n",
       "       6., 6., 5., 6., 3., 4., 4., 1., 4., 5., 5., 5., 2., 2., 1., 6., 8.,\n",
       "       5., 5., 4., 1., 5., 3., 4., 1., 7., 4., 3., 7., 3., 6., 4., 2., 6.,\n",
       "       5., 4., 6., 6., 2., 4., 5., 6., 4., 5., 3., 5., 1., 2., 6., 4., 6.,\n",
       "       6., 7., 5., 5., 8., 6., 3., 6., 7., 5., 3., 7., 5., 6., 5., 5., 5.,\n",
       "       2., 7., 7., 6., 6., 2., 3., 6., 3., 5., 2., 5., 1., 5., 4., 6., 3.,\n",
       "       6., 3., 4., 3., 6., 2., 4., 4., 5., 5., 4., 2., 5., 5., 7., 4., 6.,\n",
       "       5., 2., 6., 3., 2., 6., 4., 7., 3., 4., 7., 6., 5., 7., 6., 5., 2.,\n",
       "       5., 5., 4., 2., 7., 4., 1., 2., 5., 7., 6., 4., 6., 4., 6., 6., 1.,\n",
       "       5., 3., 3., 6., 3., 4., 6., 4., 5., 4., 5., 4., 5., 6., 2., 3., 3.,\n",
       "       1., 5., 5., 2., 4., 6., 6., 5., 3., 5., 5., 5., 4., 2., 4., 5., 6.,\n",
       "       7., 3., 5., 7., 2., 4., 6., 4., 5., 3., 5., 1., 2., 2., 6., 1., 4.,\n",
       "       7., 6., 4., 5., 6., 6., 3., 8., 2., 0., 5., 5., 6., 4., 5., 6., 3.,\n",
       "       6., 1., 2., 4., 5., 3., 5., 2., 6., 1., 1., 6., 5., 4., 3., 3., 2.,\n",
       "       7., 6., 1.])"
      ]
     },
     "execution_count": 23,
     "metadata": {},
     "output_type": "execute_result"
    }
   ],
   "source": [
    "y_pred"
   ]
  },
  {
   "cell_type": "code",
   "execution_count": 25,
   "id": "9dddcec7-4ff8-4239-8621-b22c34747166",
   "metadata": {},
   "outputs": [
    {
     "data": {
      "text/plain": [
       "0.09166666666666666"
      ]
     },
     "execution_count": 25,
     "metadata": {},
     "output_type": "execute_result"
    }
   ],
   "source": [
    "accuracy_score(y_test, y_pred)"
   ]
  },
  {
   "cell_type": "code",
   "execution_count": null,
   "id": "d3820524-52c6-4b4b-ad52-549898293245",
   "metadata": {},
   "outputs": [],
   "source": []
  }
 ],
 "metadata": {
  "kernelspec": {
   "display_name": "Python 3",
   "language": "python",
   "name": "python3"
  },
  "language_info": {
   "codemirror_mode": {
    "name": "ipython",
    "version": 3
   },
   "file_extension": ".py",
   "mimetype": "text/x-python",
   "name": "python",
   "nbconvert_exporter": "python",
   "pygments_lexer": "ipython3",
   "version": "3.8.8"
  }
 },
 "nbformat": 4,
 "nbformat_minor": 5
}
