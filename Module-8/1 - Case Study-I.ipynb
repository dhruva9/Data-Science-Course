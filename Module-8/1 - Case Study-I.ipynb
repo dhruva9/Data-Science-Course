{
 "cells": [
  {
   "cell_type": "code",
   "execution_count": 14,
   "id": "9120c4f7-d800-40d6-b13e-607d20d0b45a",
   "metadata": {},
   "outputs": [],
   "source": [
    "import pandas as pd\n",
    "import numpy as np\n",
    "import seaborn as sns\n",
    "import matplotlib.pyplot as plt"
   ]
  },
  {
   "cell_type": "markdown",
   "id": "eaadbec3-837c-4599-8478-f51a645e764d",
   "metadata": {},
   "source": [
    "## 1. Scikit learn comes with pre-loaded dataset, load the digits dataset from that collection and write a helper function to plot the image using matplotlib."
   ]
  },
  {
   "cell_type": "code",
   "execution_count": 9,
   "id": "88fa8eb2-0b2b-4de6-8ff0-47ee683af378",
   "metadata": {},
   "outputs": [],
   "source": [
    "from sklearn.datasets import load_digits"
   ]
  },
  {
   "cell_type": "code",
   "execution_count": 10,
   "id": "b382460f-d1d7-490e-b51d-5dc9a3e1c129",
   "metadata": {},
   "outputs": [],
   "source": [
    "digits = load_digits()"
   ]
  },
  {
   "cell_type": "code",
   "execution_count": 12,
   "id": "c446dde3-9f8e-4c91-93ea-8f0bc42305cc",
   "metadata": {},
   "outputs": [
    {
     "data": {
      "text/plain": [
       "(1797, 64)"
      ]
     },
     "execution_count": 12,
     "metadata": {},
     "output_type": "execute_result"
    }
   ],
   "source": [
    "digits.data.shape"
   ]
  },
  {
   "cell_type": "code",
   "execution_count": 17,
   "id": "4c7c9aef-9698-444b-95cc-071d436f1ec9",
   "metadata": {},
   "outputs": [
    {
     "data": {
      "text/plain": [
       "<Figure size 432x288 with 0 Axes>"
      ]
     },
     "metadata": {},
     "output_type": "display_data"
    },
    {
     "data": {
      "image/png": "[encoded data removed]",
      "text/plain": [
       "<Figure size 288x288 with 1 Axes>"
      ]
     },
     "metadata": {
      "needs_background": "light"
     },
     "output_type": "display_data"
    }
   ],
   "source": [
    "plt.gray()\n",
    "plt.matshow(digits.images[0])\n",
    "plt.show()"
   ]
  },
  {
   "cell_type": "code",
   "execution_count": 18,
   "id": "9afc72eb-bd15-48f6-a3ba-f7181458d44d",
   "metadata": {},
   "outputs": [],
   "source": [
    "X = digits.data\n",
    "y = digits.target"
   ]
  },
  {
   "cell_type": "code",
   "execution_count": 23,
   "id": "a29bb759-93b5-4a51-af23-69241b51a13f",
   "metadata": {},
   "outputs": [
    {
     "data": {
      "text/plain": [
       "array([[ 0.,  0.,  5., ...,  0.,  0.,  0.],\n",
       "       [ 0.,  0.,  0., ..., 10.,  0.,  0.],\n",
       "       [ 0.,  0.,  0., ..., 16.,  9.,  0.],\n",
       "       ...,\n",
       "       [ 0.,  0.,  1., ...,  6.,  0.,  0.],\n",
       "       [ 0.,  0.,  2., ..., 12.,  0.,  0.],\n",
       "       [ 0.,  0., 10., ..., 12.,  1.,  0.]])"
      ]
     },
     "execution_count": 23,
     "metadata": {},
     "output_type": "execute_result"
    }
   ],
   "source": [
    "X"
   ]
  },
  {
   "cell_type": "code",
   "execution_count": 24,
   "id": "981b983a-44fb-43d0-b622-753e216820e6",
   "metadata": {},
   "outputs": [
    {
     "data": {
      "text/plain": [
       "array([0, 1, 2, ..., 8, 9, 8])"
      ]
     },
     "execution_count": 24,
     "metadata": {},
     "output_type": "execute_result"
    }
   ],
   "source": [
    "y"
   ]
  },
  {
   "cell_type": "code",
   "execution_count": 27,
   "id": "6d4e6e0d-b829-442e-8ba8-e08c397836a2",
   "metadata": {},
   "outputs": [
    {
     "name": "stdout",
     "output_type": "stream",
     "text": [
      "[[ 0.  0.  5. 13.  9.  1.  0.  0.  0.  0. 13. 15. 10. 15.  5.  0.  0.  3.\n",
      "  15.  2.  0. 11.  8.  0.  0.  4. 12.  0.  0.  8.  8.  0.  0.  5.  8.  0.\n",
      "   0.  9.  8.  0.  0.  4. 11.  0.  1. 12.  7.  0.  0.  2. 14.  5. 10. 12.\n",
      "   0.  0.  0.  0.  6. 13. 10.  0.  0.  0.]\n",
      " [ 0.  0.  0. 12. 13.  5.  0.  0.  0.  0.  0. 11. 16.  9.  0.  0.  0.  0.\n",
      "   3. 15. 16.  6.  0.  0.  0.  7. 15. 16. 16.  2.  0.  0.  0.  0.  1. 16.\n",
      "  16.  3.  0.  0.  0.  0.  1. 16. 16.  6.  0.  0.  0.  0.  1. 16. 16.  6.\n",
      "   0.  0.  0.  0.  0. 11. 16. 10.  0.  0.]]\n"
     ]
    }
   ],
   "source": [
    "print(X[0:2])"
   ]
  },
  {
   "cell_type": "code",
   "execution_count": 28,
   "id": "b4f360aa-beb9-4ead-aff6-26b1a266f69c",
   "metadata": {},
   "outputs": [
    {
     "name": "stdout",
     "output_type": "stream",
     "text": [
      "[0 1]\n"
     ]
    }
   ],
   "source": [
    "print(y[0:2])"
   ]
  },
  {
   "cell_type": "markdown",
   "id": "0fdd0044-e0b3-4013-ae8f-cccb0afc7224",
   "metadata": {},
   "source": [
    "## 2. Make a train -test split with 20% of the data set aside for testing. Fit a logistic regression model and observe the accuracy"
   ]
  },
  {
   "cell_type": "code",
   "execution_count": 29,
   "id": "be8bf771-9abc-4458-b1dd-6c01081081bc",
   "metadata": {},
   "outputs": [],
   "source": [
    "from sklearn.model_selection import train_test_split"
   ]
  },
  {
   "cell_type": "code",
   "execution_count": 34,
   "id": "487991a1-5abe-476d-9853-9fb6feac6e41",
   "metadata": {},
   "outputs": [],
   "source": [
    "X_train, X_test, y_train, y_test = train_test_split(X, y, random_state=85, test_size=0.2, stratify=y)"
   ]
  },
  {
   "cell_type": "code",
   "execution_count": 37,
   "id": "6b7defa8-dae0-4b6b-8994-ca858f3eb4cd",
   "metadata": {},
   "outputs": [],
   "source": [
    "from sklearn.linear_model import LogisticRegression\n",
    "regressor = LogisticRegression(max_iter=10000)"
   ]
  },
  {
   "cell_type": "code",
   "execution_count": 38,
   "id": "e5f9982c-9ce2-4bab-bf24-95b8fd05e30a",
   "metadata": {},
   "outputs": [
    {
     "data": {
      "text/plain": [
       "LogisticRegression(max_iter=10000)"
      ]
     },
     "execution_count": 38,
     "metadata": {},
     "output_type": "execute_result"
    }
   ],
   "source": [
    "regressor.fit(X_train, y_train)"
   ]
  },
  {
   "cell_type": "code",
   "execution_count": 39,
   "id": "ff4b9862-1d13-4f79-bafd-364dbb67a5cc",
   "metadata": {},
   "outputs": [],
   "source": [
    "y_pred = regressor.predict(X_test)"
   ]
  },
  {
   "cell_type": "code",
   "execution_count": 40,
   "id": "92e0b445-13a2-4913-9844-6e43351296b6",
   "metadata": {},
   "outputs": [],
   "source": [
    "from sklearn.metrics import accuracy_score"
   ]
  },
  {
   "cell_type": "code",
   "execution_count": 45,
   "id": "c7335984-0e94-4647-be9b-9b903e1156a3",
   "metadata": {},
   "outputs": [
    {
     "name": "stdout",
     "output_type": "stream",
     "text": [
      "0.9666666666666667\n"
     ]
    }
   ],
   "source": [
    "print(accuracy_score(y_test, y_pred))"
   ]
  },
  {
   "cell_type": "markdown",
   "id": "4896bb69-8c14-4d46-8c40-c5b0faf41fad",
   "metadata": {},
   "source": [
    "## 3. Using scikit learn perform a PCA transformation such that the transformed dataset can explain 95% of the variance in the original dataset. Find out the number of components in the projected subspace."
   ]
  },
  {
   "cell_type": "code",
   "execution_count": 46,
   "id": "8dd9fac7-dca9-4b44-8046-102da4d2d0e8",
   "metadata": {},
   "outputs": [],
   "source": [
    "from sklearn.decomposition import PCA"
   ]
  },
  {
   "cell_type": "code",
   "execution_count": 49,
   "id": "0bfc8555-26eb-4603-8c7b-21997b0b97f2",
   "metadata": {},
   "outputs": [
    {
     "data": {
      "text/plain": [
       "PCA(n_components=10)"
      ]
     },
     "execution_count": 49,
     "metadata": {},
     "output_type": "execute_result"
    }
   ],
   "source": [
    "model_pca = PCA(n_components=10)\n",
    "model_pca.fit(digits.data)"
   ]
  },
  {
   "cell_type": "code",
   "execution_count": 50,
   "id": "362e5c42-0f62-43a1-842a-ad518290ce90",
   "metadata": {},
   "outputs": [],
   "source": [
    "model_pca.fit(X_train, y_train)\n",
    "X_train = model_pca.transform(X_train)\n",
    "X_test = model_pca.transform(X_test)"
   ]
  },
  {
   "cell_type": "code",
   "execution_count": 56,
   "id": "3bcfeb61-d974-4058-926f-297e137b75b4",
   "metadata": {},
   "outputs": [
    {
     "name": "stdout",
     "output_type": "stream",
     "text": [
      "Variance Ratio : \n",
      "\n",
      " [0.14780625 0.13611001 0.11747899 0.08595222 0.05807748 0.0492839\n",
      " 0.04292954 0.03682626 0.03342983 0.03060522]\n"
     ]
    }
   ],
   "source": [
    "print(\"Variance Ratio : \\n\\n\", model_pca.explained_variance_ratio_)"
   ]
  },
  {
   "cell_type": "markdown",
   "id": "dd88cc44-b0a3-429e-9375-902670311a7b",
   "metadata": {},
   "source": [
    "## 4. Transform the dataset and fit a logistic regression and observe the accuracy. Compare it with the previous model and comment on the accuracy"
   ]
  },
  {
   "cell_type": "code",
   "execution_count": 61,
   "id": "9dff23f0-0070-4d2b-872c-5a79d26b671c",
   "metadata": {},
   "outputs": [],
   "source": [
    "from sklearn.linear_model import LogisticRegression\n",
    "regressor_2 = LogisticRegression(max_iter=10000)"
   ]
  },
  {
   "cell_type": "code",
   "execution_count": 62,
   "id": "db4fe158-a974-489e-a8f3-f35b4add4399",
   "metadata": {},
   "outputs": [
    {
     "data": {
      "text/plain": [
       "LogisticRegression(max_iter=10000)"
      ]
     },
     "execution_count": 62,
     "metadata": {},
     "output_type": "execute_result"
    }
   ],
   "source": [
    "regressor_2.fit(X_train, y_train)"
   ]
  },
  {
   "cell_type": "code",
   "execution_count": 63,
   "id": "8b82bbbe-d187-4c4b-9acb-fde123f97f49",
   "metadata": {},
   "outputs": [],
   "source": [
    "y_pred_2 = regressor_2.predict(X_test)"
   ]
  },
  {
   "cell_type": "code",
   "execution_count": 64,
   "id": "ac523087-91ad-4072-99bd-1d9cb63b0e3d",
   "metadata": {},
   "outputs": [
    {
     "name": "stdout",
     "output_type": "stream",
     "text": [
      "0.95\n"
     ]
    }
   ],
   "source": [
    "print(accuracy_score(y_test, y_pred_2))"
   ]
  },
  {
   "cell_type": "markdown",
   "id": "6067c933-4f02-46f9-8cb6-69fd2a1d906b",
   "metadata": {},
   "source": [
    "## 5. Compute the confusion matrix and count the number of instances that has gone wrong. For each of the wrong sample, plot the digit along with predicted and original label."
   ]
  },
  {
   "cell_type": "code",
   "execution_count": 66,
   "id": "d967d167-16b7-4739-8d80-628a697c758a",
   "metadata": {},
   "outputs": [
    {
     "data": {
      "text/plain": [
       "array([[34,  0,  0,  0,  1,  0,  1,  0,  0,  0],\n",
       "       [ 0, 33,  0,  0,  1,  0,  0,  0,  1,  2],\n",
       "       [ 0,  1, 33,  1,  0,  0,  0,  0,  0,  0],\n",
       "       [ 0,  0,  0, 36,  0,  1,  0,  0,  0,  0],\n",
       "       [ 0,  0,  0,  0, 35,  0,  0,  1,  0,  0],\n",
       "       [ 0,  0,  0,  0,  0, 36,  0,  0,  0,  0],\n",
       "       [ 1,  0,  0,  0,  0,  0, 34,  0,  1,  0],\n",
       "       [ 0,  0,  0,  0,  0,  0,  0, 36,  0,  0],\n",
       "       [ 0,  3,  0,  0,  0,  0,  0,  0, 32,  0],\n",
       "       [ 0,  1,  0,  0,  0,  1,  0,  0,  1, 33]], dtype=int64)"
      ]
     },
     "execution_count": 66,
     "metadata": {},
     "output_type": "execute_result"
    }
   ],
   "source": [
    "conf_metrics = confusion_matrix(y_test, y_pred_2)\n",
    "conf_metrics"
   ]
  },
  {
   "cell_type": "code",
   "execution_count": 70,
   "id": "99a5d135-01a7-40d1-b544-38d6f74a0fca",
   "metadata": {},
   "outputs": [],
   "source": [
    "from sklearn import metrics"
   ]
  },
  {
   "cell_type": "code",
   "execution_count": 68,
   "id": "7a28d0e4-786d-43dd-a75d-110364a2d915",
   "metadata": {},
   "outputs": [],
   "source": [
    "final_report = metrics.classification_report(y_pred_2, y_test)"
   ]
  },
  {
   "cell_type": "code",
   "execution_count": 69,
   "id": "1d2c836e-4df7-4832-b7e2-95fbeef1469c",
   "metadata": {},
   "outputs": [
    {
     "name": "stdout",
     "output_type": "stream",
     "text": [
      "Confusion Metrics\n",
      "\n",
      "[[34  0  0  0  1  0  1  0  0  0]\n",
      " [ 0 33  0  0  1  0  0  0  1  2]\n",
      " [ 0  1 33  1  0  0  0  0  0  0]\n",
      " [ 0  0  0 36  0  1  0  0  0  0]\n",
      " [ 0  0  0  0 35  0  0  1  0  0]\n",
      " [ 0  0  0  0  0 36  0  0  0  0]\n",
      " [ 1  0  0  0  0  0 34  0  1  0]\n",
      " [ 0  0  0  0  0  0  0 36  0  0]\n",
      " [ 0  3  0  0  0  0  0  0 32  0]\n",
      " [ 0  1  0  0  0  1  0  0  1 33]]\n",
      "\n",
      "\n",
      "\n",
      "Classfication Report\n",
      "\n",
      "              precision    recall  f1-score   support\n",
      "\n",
      "           0       0.94      0.97      0.96        35\n",
      "           1       0.89      0.87      0.88        38\n",
      "           2       0.94      1.00      0.97        33\n",
      "           3       0.97      0.97      0.97        37\n",
      "           4       0.97      0.95      0.96        37\n",
      "           5       1.00      0.95      0.97        38\n",
      "           6       0.94      0.97      0.96        35\n",
      "           7       1.00      0.97      0.99        37\n",
      "           8       0.91      0.91      0.91        35\n",
      "           9       0.92      0.94      0.93        35\n",
      "\n",
      "    accuracy                           0.95       360\n",
      "   macro avg       0.95      0.95      0.95       360\n",
      "weighted avg       0.95      0.95      0.95       360\n",
      "\n",
      "\n",
      "\n",
      "\n"
     ]
    }
   ],
   "source": [
    "print(\"Confusion Metrics\\n\")\n",
    "print(conf_metrics)\n",
    "print(\"\\n\\n\")\n",
    "\n",
    "print(\"Classfication Report\\n\")\n",
    "print(final_report)\n",
    "print(\"\\n\\n\")"
   ]
  },
  {
   "cell_type": "code",
   "execution_count": null,
   "id": "9504faa2-8319-4bb1-b1fa-0ec73e7e2257",
   "metadata": {},
   "outputs": [],
   "source": []
  },
  {
   "cell_type": "code",
   "execution_count": null,
   "id": "933c99fc-d314-4c42-89ab-0ee2b01c1538",
   "metadata": {},
   "outputs": [],
   "source": []
  }
 ],
 "metadata": {
  "kernelspec": {
   "display_name": "Python 3",
   "language": "python",
   "name": "python3"
  },
  "language_info": {
   "codemirror_mode": {
    "name": "ipython",
    "version": 3
   },
   "file_extension": ".py",
   "mimetype": "text/x-python",
   "name": "python",
   "nbconvert_exporter": "python",
   "pygments_lexer": "ipython3",
   "version": "3.8.8"
  }
 },
 "nbformat": 4,
 "nbformat_minor": 5
}
