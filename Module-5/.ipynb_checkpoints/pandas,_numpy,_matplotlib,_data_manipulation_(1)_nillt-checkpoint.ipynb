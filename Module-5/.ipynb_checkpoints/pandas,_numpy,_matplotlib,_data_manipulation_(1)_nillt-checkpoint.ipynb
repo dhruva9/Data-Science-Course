{
 "cells": [
  {
   "cell_type": "code",
   "execution_count": 1,
   "metadata": {},
   "outputs": [],
   "source": [
    "import numpy as np"
   ]
  },
  {
   "cell_type": "code",
   "execution_count": 2,
   "metadata": {},
   "outputs": [],
   "source": [
    "list1=[1,2,3]\n",
    "a = np.array(list1)"
   ]
  },
  {
   "cell_type": "code",
   "execution_count": 3,
   "metadata": {},
   "outputs": [
    {
     "data": {
      "text/plain": [
       "[1, 2, 3]"
      ]
     },
     "execution_count": 3,
     "metadata": {},
     "output_type": "execute_result"
    }
   ],
   "source": [
    "list1 "
   ]
  },
  {
   "cell_type": "code",
   "execution_count": 4,
   "metadata": {},
   "outputs": [
    {
     "data": {
      "text/plain": [
       "array([1, 2, 3])"
      ]
     },
     "execution_count": 4,
     "metadata": {},
     "output_type": "execute_result"
    }
   ],
   "source": [
    "a"
   ]
  },
  {
   "cell_type": "code",
   "execution_count": 5,
   "metadata": {},
   "outputs": [],
   "source": [
    "list2 = [[1,2,3],[4,5,6]]"
   ]
  },
  {
   "cell_type": "code",
   "execution_count": 6,
   "metadata": {},
   "outputs": [
    {
     "data": {
      "text/plain": [
       "[[1, 2, 3], [4, 5, 6]]"
      ]
     },
     "execution_count": 6,
     "metadata": {},
     "output_type": "execute_result"
    }
   ],
   "source": [
    "list2"
   ]
  },
  {
   "cell_type": "code",
   "execution_count": 7,
   "metadata": {},
   "outputs": [],
   "source": [
    "b = np.array(list2)"
   ]
  },
  {
   "cell_type": "code",
   "execution_count": 8,
   "metadata": {},
   "outputs": [
    {
     "data": {
      "text/plain": [
       "array([[1, 2, 3],\n",
       "       [4, 5, 6]])"
      ]
     },
     "execution_count": 8,
     "metadata": {},
     "output_type": "execute_result"
    }
   ],
   "source": [
    "b"
   ]
  },
  {
   "cell_type": "code",
   "execution_count": 9,
   "metadata": {},
   "outputs": [],
   "source": [
    "list3 = [[1,2,3],[4,5]]"
   ]
  },
  {
   "cell_type": "code",
   "execution_count": 10,
   "metadata": {},
   "outputs": [
    {
     "data": {
      "text/plain": [
       "[[1, 2, 3], [4, 5]]"
      ]
     },
     "execution_count": 10,
     "metadata": {},
     "output_type": "execute_result"
    }
   ],
   "source": [
    "list3"
   ]
  },
  {
   "cell_type": "code",
   "execution_count": 12,
   "metadata": {},
   "outputs": [],
   "source": [
    "c=np.array(list3)"
   ]
  },
  {
   "cell_type": "code",
   "execution_count": 71,
   "metadata": {},
   "outputs": [
    {
     "data": {
      "text/plain": [
       "array([list([1, 2, 3]), list([4, 5])], dtype=object)"
      ]
     },
     "execution_count": 71,
     "metadata": {},
     "output_type": "execute_result"
    }
   ],
   "source": [
    "c"
   ]
  },
  {
   "cell_type": "code",
   "execution_count": 72,
   "metadata": {},
   "outputs": [
    {
     "data": {
      "text/plain": [
       "(2,)"
      ]
     },
     "execution_count": 72,
     "metadata": {},
     "output_type": "execute_result"
    }
   ],
   "source": [
    "c.shape"
   ]
  },
  {
   "cell_type": "code",
   "execution_count": 13,
   "metadata": {},
   "outputs": [
    {
     "data": {
      "text/plain": [
       "array([ 1,  2,  3,  4,  5,  6,  7,  8,  9, 10, 11, 12, 13, 14, 15, 16, 17,\n",
       "       18, 19])"
      ]
     },
     "execution_count": 13,
     "metadata": {},
     "output_type": "execute_result"
    }
   ],
   "source": [
    "#arange\n",
    "np.arange(1,20,1)"
   ]
  },
  {
   "cell_type": "code",
   "execution_count": 14,
   "metadata": {},
   "outputs": [
    {
     "data": {
      "text/plain": [
       "array([ 1,  3,  5,  7,  9, 11, 13, 15, 17, 19])"
      ]
     },
     "execution_count": 14,
     "metadata": {},
     "output_type": "execute_result"
    }
   ],
   "source": [
    "np.arange(1,20,2)"
   ]
  },
  {
   "cell_type": "code",
   "execution_count": 18,
   "metadata": {},
   "outputs": [
    {
     "data": {
      "text/plain": [
       "array([ 1., 20.])"
      ]
     },
     "execution_count": 18,
     "metadata": {},
     "output_type": "execute_result"
    }
   ],
   "source": [
    "np.linspace(1,20,2)"
   ]
  },
  {
   "cell_type": "code",
   "execution_count": 19,
   "metadata": {},
   "outputs": [
    {
     "data": {
      "text/plain": [
       "array([ 1. , 10.5, 20. ])"
      ]
     },
     "execution_count": 19,
     "metadata": {},
     "output_type": "execute_result"
    }
   ],
   "source": [
    "np.linspace(1,20,3)"
   ]
  },
  {
   "cell_type": "code",
   "execution_count": 15,
   "metadata": {},
   "outputs": [
    {
     "data": {
      "text/plain": [
       "array([0., 0., 0., 0., 0., 0., 0., 0., 0., 0.])"
      ]
     },
     "execution_count": 15,
     "metadata": {},
     "output_type": "execute_result"
    }
   ],
   "source": [
    "np.zeros(10)"
   ]
  },
  {
   "cell_type": "code",
   "execution_count": 24,
   "metadata": {},
   "outputs": [
    {
     "data": {
      "text/plain": [
       "array([[0., 0., 0., 0., 0., 0., 0., 0., 0., 0.],\n",
       "       [0., 0., 0., 0., 0., 0., 0., 0., 0., 0.],\n",
       "       [0., 0., 0., 0., 0., 0., 0., 0., 0., 0.],\n",
       "       [0., 0., 0., 0., 0., 0., 0., 0., 0., 0.],\n",
       "       [0., 0., 0., 0., 0., 0., 0., 0., 0., 0.],\n",
       "       [0., 0., 0., 0., 0., 0., 0., 0., 0., 0.],\n",
       "       [0., 0., 0., 0., 0., 0., 0., 0., 0., 0.],\n",
       "       [0., 0., 0., 0., 0., 0., 0., 0., 0., 0.],\n",
       "       [0., 0., 0., 0., 0., 0., 0., 0., 0., 0.],\n",
       "       [0., 0., 0., 0., 0., 0., 0., 0., 0., 0.]])"
      ]
     },
     "execution_count": 24,
     "metadata": {},
     "output_type": "execute_result"
    }
   ],
   "source": [
    "b=np.zeros((10,10))\n",
    "b"
   ]
  },
  {
   "cell_type": "code",
   "execution_count": 25,
   "metadata": {},
   "outputs": [
    {
     "data": {
      "text/plain": [
       "(10, 10)"
      ]
     },
     "execution_count": 25,
     "metadata": {},
     "output_type": "execute_result"
    }
   ],
   "source": [
    "b.shape"
   ]
  },
  {
   "cell_type": "code",
   "execution_count": 17,
   "metadata": {},
   "outputs": [
    {
     "ename": "TypeError",
     "evalue": "data type not understood",
     "output_type": "error",
     "traceback": [
      "\u001b[1;31m---------------------------------------------------------------------------\u001b[0m",
      "\u001b[1;31mTypeError\u001b[0m                                 Traceback (most recent call last)",
      "\u001b[1;32m<ipython-input-17-554cc3fcc6fa>\u001b[0m in \u001b[0;36m<module>\u001b[1;34m\u001b[0m\n\u001b[1;32m----> 1\u001b[1;33m \u001b[0mnp\u001b[0m\u001b[1;33m.\u001b[0m\u001b[0mzeros\u001b[0m\u001b[1;33m(\u001b[0m\u001b[1;36m10\u001b[0m\u001b[1;33m,\u001b[0m\u001b[1;36m10\u001b[0m\u001b[1;33m)\u001b[0m\u001b[1;33m\u001b[0m\u001b[1;33m\u001b[0m\u001b[0m\n\u001b[0m",
      "\u001b[1;31mTypeError\u001b[0m: data type not understood"
     ]
    }
   ],
   "source": [
    "np.zeros(10,10)"
   ]
  },
  {
   "cell_type": "code",
   "execution_count": 30,
   "metadata": {},
   "outputs": [],
   "source": [
    "a=np.linspace(1,100,10)"
   ]
  },
  {
   "cell_type": "code",
   "execution_count": 31,
   "metadata": {},
   "outputs": [
    {
     "data": {
      "text/plain": [
       "array([  1.,  12.,  23.,  34.,  45.,  56.,  67.,  78.,  89., 100.])"
      ]
     },
     "execution_count": 31,
     "metadata": {},
     "output_type": "execute_result"
    }
   ],
   "source": [
    "a"
   ]
  },
  {
   "cell_type": "code",
   "execution_count": 32,
   "metadata": {},
   "outputs": [
    {
     "data": {
      "text/plain": [
       "(10,)"
      ]
     },
     "execution_count": 32,
     "metadata": {},
     "output_type": "execute_result"
    }
   ],
   "source": [
    "a.shape"
   ]
  },
  {
   "cell_type": "code",
   "execution_count": 33,
   "metadata": {},
   "outputs": [
    {
     "data": {
      "text/plain": [
       "array([[  1.,  12.,  23.,  34.,  45.],\n",
       "       [ 56.,  67.,  78.,  89., 100.]])"
      ]
     },
     "execution_count": 33,
     "metadata": {},
     "output_type": "execute_result"
    }
   ],
   "source": [
    "a.reshape(2,5)"
   ]
  },
  {
   "cell_type": "code",
   "execution_count": 36,
   "metadata": {},
   "outputs": [],
   "source": [
    "b=a.reshape(5,2)"
   ]
  },
  {
   "cell_type": "code",
   "execution_count": 37,
   "metadata": {},
   "outputs": [
    {
     "data": {
      "text/plain": [
       "array([[  1.,  12.],\n",
       "       [ 23.,  34.],\n",
       "       [ 45.,  56.],\n",
       "       [ 67.,  78.],\n",
       "       [ 89., 100.]])"
      ]
     },
     "execution_count": 37,
     "metadata": {},
     "output_type": "execute_result"
    }
   ],
   "source": [
    "b"
   ]
  },
  {
   "cell_type": "code",
   "execution_count": 35,
   "metadata": {},
   "outputs": [
    {
     "ename": "ValueError",
     "evalue": "cannot reshape array of size 10 into shape (3,3)",
     "output_type": "error",
     "traceback": [
      "\u001b[1;31m---------------------------------------------------------------------------\u001b[0m",
      "\u001b[1;31mValueError\u001b[0m                                Traceback (most recent call last)",
      "\u001b[1;32m<ipython-input-35-743c871a96b1>\u001b[0m in \u001b[0;36m<module>\u001b[1;34m\u001b[0m\n\u001b[1;32m----> 1\u001b[1;33m \u001b[0ma\u001b[0m\u001b[1;33m.\u001b[0m\u001b[0mreshape\u001b[0m\u001b[1;33m(\u001b[0m\u001b[1;36m3\u001b[0m\u001b[1;33m,\u001b[0m\u001b[1;36m3\u001b[0m\u001b[1;33m)\u001b[0m\u001b[1;33m\u001b[0m\u001b[1;33m\u001b[0m\u001b[0m\n\u001b[0m",
      "\u001b[1;31mValueError\u001b[0m: cannot reshape array of size 10 into shape (3,3)"
     ]
    }
   ],
   "source": [
    "a.reshape(3,3)"
   ]
  },
  {
   "cell_type": "code",
   "execution_count": 40,
   "metadata": {},
   "outputs": [
    {
     "data": {
      "text/plain": [
       "array([  1.,  12.,  23.,  34.,  45.,  56.,  67.,  78.,  89., 100.])"
      ]
     },
     "execution_count": 40,
     "metadata": {},
     "output_type": "execute_result"
    }
   ],
   "source": [
    "b.ravel()"
   ]
  },
  {
   "cell_type": "code",
   "execution_count": 41,
   "metadata": {},
   "outputs": [
    {
     "data": {
      "text/plain": [
       "array([  1.,  12.,  23.,  34.,  45.,  56.,  67.,  78.,  89., 100.])"
      ]
     },
     "execution_count": 41,
     "metadata": {},
     "output_type": "execute_result"
    }
   ],
   "source": [
    "a"
   ]
  },
  {
   "cell_type": "code",
   "execution_count": 42,
   "metadata": {},
   "outputs": [
    {
     "data": {
      "text/plain": [
       "array([[  1.,  12.],\n",
       "       [ 23.,  34.],\n",
       "       [ 45.,  56.],\n",
       "       [ 67.,  78.],\n",
       "       [ 89., 100.]])"
      ]
     },
     "execution_count": 42,
     "metadata": {},
     "output_type": "execute_result"
    }
   ],
   "source": [
    "b"
   ]
  },
  {
   "cell_type": "code",
   "execution_count": 43,
   "metadata": {},
   "outputs": [],
   "source": [
    "#indexing is same as for sequences"
   ]
  },
  {
   "cell_type": "code",
   "execution_count": 44,
   "metadata": {},
   "outputs": [
    {
     "data": {
      "text/plain": [
       "45.0"
      ]
     },
     "execution_count": 44,
     "metadata": {},
     "output_type": "execute_result"
    }
   ],
   "source": [
    "a[4]"
   ]
  },
  {
   "cell_type": "code",
   "execution_count": 45,
   "metadata": {},
   "outputs": [
    {
     "data": {
      "text/plain": [
       "100.0"
      ]
     },
     "execution_count": 45,
     "metadata": {},
     "output_type": "execute_result"
    }
   ],
   "source": [
    "a[-1]"
   ]
  },
  {
   "cell_type": "code",
   "execution_count": 46,
   "metadata": {},
   "outputs": [
    {
     "data": {
      "text/plain": [
       "array([[  1.,  12.],\n",
       "       [ 23.,  34.],\n",
       "       [ 45.,  56.],\n",
       "       [ 67.,  78.],\n",
       "       [ 89., 100.]])"
      ]
     },
     "execution_count": 46,
     "metadata": {},
     "output_type": "execute_result"
    }
   ],
   "source": [
    "b"
   ]
  },
  {
   "cell_type": "code",
   "execution_count": 47,
   "metadata": {},
   "outputs": [
    {
     "data": {
      "text/plain": [
       "1.0"
      ]
     },
     "execution_count": 47,
     "metadata": {},
     "output_type": "execute_result"
    }
   ],
   "source": [
    "b[0][0]"
   ]
  },
  {
   "cell_type": "code",
   "execution_count": 48,
   "metadata": {},
   "outputs": [
    {
     "data": {
      "text/plain": [
       "1.0"
      ]
     },
     "execution_count": 48,
     "metadata": {},
     "output_type": "execute_result"
    }
   ],
   "source": [
    "b[0,0]"
   ]
  },
  {
   "cell_type": "code",
   "execution_count": 49,
   "metadata": {},
   "outputs": [
    {
     "data": {
      "text/plain": [
       "array([  1.,  12.,  23.,  34.,  45.,  56.,  67.,  78.,  89., 100.])"
      ]
     },
     "execution_count": 49,
     "metadata": {},
     "output_type": "execute_result"
    }
   ],
   "source": [
    "a"
   ]
  },
  {
   "cell_type": "code",
   "execution_count": 50,
   "metadata": {},
   "outputs": [
    {
     "data": {
      "text/plain": [
       "array([34., 45., 56., 67., 78.])"
      ]
     },
     "execution_count": 50,
     "metadata": {},
     "output_type": "execute_result"
    }
   ],
   "source": [
    "a[3:8]"
   ]
  },
  {
   "cell_type": "code",
   "execution_count": 51,
   "metadata": {},
   "outputs": [],
   "source": [
    "b = np.linspace(1,100,100).reshape(10,10)"
   ]
  },
  {
   "cell_type": "code",
   "execution_count": 54,
   "metadata": {},
   "outputs": [
    {
     "data": {
      "text/plain": [
       "array([  1.,  12.,  23.,  34.,  45.,  56.,  67.,  78.,  89., 100.])"
      ]
     },
     "execution_count": 54,
     "metadata": {},
     "output_type": "execute_result"
    }
   ],
   "source": [
    "np.linspace(1,100,10)"
   ]
  },
  {
   "cell_type": "code",
   "execution_count": 52,
   "metadata": {},
   "outputs": [
    {
     "data": {
      "text/plain": [
       "array([[  1.,   2.,   3.,   4.,   5.,   6.,   7.,   8.,   9.,  10.],\n",
       "       [ 11.,  12.,  13.,  14.,  15.,  16.,  17.,  18.,  19.,  20.],\n",
       "       [ 21.,  22.,  23.,  24.,  25.,  26.,  27.,  28.,  29.,  30.],\n",
       "       [ 31.,  32.,  33.,  34.,  35.,  36.,  37.,  38.,  39.,  40.],\n",
       "       [ 41.,  42.,  43.,  44.,  45.,  46.,  47.,  48.,  49.,  50.],\n",
       "       [ 51.,  52.,  53.,  54.,  55.,  56.,  57.,  58.,  59.,  60.],\n",
       "       [ 61.,  62.,  63.,  64.,  65.,  66.,  67.,  68.,  69.,  70.],\n",
       "       [ 71.,  72.,  73.,  74.,  75.,  76.,  77.,  78.,  79.,  80.],\n",
       "       [ 81.,  82.,  83.,  84.,  85.,  86.,  87.,  88.,  89.,  90.],\n",
       "       [ 91.,  92.,  93.,  94.,  95.,  96.,  97.,  98.,  99., 100.]])"
      ]
     },
     "execution_count": 52,
     "metadata": {},
     "output_type": "execute_result"
    }
   ],
   "source": [
    "b"
   ]
  },
  {
   "cell_type": "code",
   "execution_count": 53,
   "metadata": {},
   "outputs": [
    {
     "data": {
      "text/plain": [
       "array([[23., 24., 25.],\n",
       "       [33., 34., 35.],\n",
       "       [43., 44., 45.],\n",
       "       [53., 54., 55.],\n",
       "       [63., 64., 65.]])"
      ]
     },
     "execution_count": 53,
     "metadata": {},
     "output_type": "execute_result"
    }
   ],
   "source": [
    "b[2:7,2:5]"
   ]
  },
  {
   "cell_type": "code",
   "execution_count": 58,
   "metadata": {},
   "outputs": [
    {
     "data": {
      "text/plain": [
       "array([[ 3.,  4.,  5.,  6.,  7.,  8.,  9., 10.],\n",
       "       [13., 14., 15., 16., 17., 18., 19., 20.],\n",
       "       [23., 24., 25., 26., 27., 28., 29., 30.],\n",
       "       [33., 34., 35., 36., 37., 38., 39., 40.],\n",
       "       [43., 44., 45., 46., 47., 48., 49., 50.]])"
      ]
     },
     "execution_count": 58,
     "metadata": {},
     "output_type": "execute_result"
    }
   ],
   "source": [
    "b[:5,2:]"
   ]
  },
  {
   "cell_type": "code",
   "execution_count": 60,
   "metadata": {},
   "outputs": [
    {
     "data": {
      "text/plain": [
       "array([[  1.,   2.,   3.,   4.,   5.,   6.,   7.,   8.,   9.,  10.],\n",
       "       [ 11.,  12.,  13.,  14.,  15.,  16.,  17.,  18.,  19.,  20.],\n",
       "       [ 21.,  22.,  23.,  24.,  25.,  26.,  27.,  28.,  29.,  30.],\n",
       "       [ 31.,  32.,  33.,  34.,  35.,  36.,  37.,  38.,  39.,  40.],\n",
       "       [ 41.,  42.,  43.,  44.,  45.,  46.,  47.,  48.,  49.,  50.],\n",
       "       [ 51.,  52.,  53.,  54.,  55.,  56.,  57.,  58.,  59.,  60.],\n",
       "       [ 61.,  62.,  63.,  64.,  65.,  66.,  67.,  68.,  69.,  70.],\n",
       "       [ 71.,  72.,  73.,  74.,  75.,  76.,  77.,  78.,  79.,  80.],\n",
       "       [ 81.,  82.,  83.,  84.,  85.,  86.,  87.,  88.,  89.,  90.],\n",
       "       [ 91.,  92.,  93.,  94.,  95.,  96.,  97.,  98.,  99., 100.]])"
      ]
     },
     "execution_count": 60,
     "metadata": {},
     "output_type": "execute_result"
    }
   ],
   "source": [
    "b"
   ]
  },
  {
   "cell_type": "code",
   "execution_count": 62,
   "metadata": {},
   "outputs": [
    {
     "data": {
      "text/plain": [
       "array([[13., 16., 19.],\n",
       "       [33., 36., 39.],\n",
       "       [53., 56., 59.],\n",
       "       [73., 76., 79.],\n",
       "       [93., 96., 99.]])"
      ]
     },
     "execution_count": 62,
     "metadata": {},
     "output_type": "execute_result"
    }
   ],
   "source": [
    "b[1:10:2, 2::3]"
   ]
  },
  {
   "cell_type": "code",
   "execution_count": null,
   "metadata": {},
   "outputs": [],
   "source": [
    "#sequences -> indexes [start_index:end_index+1:step]"
   ]
  },
  {
   "cell_type": "code",
   "execution_count": 63,
   "metadata": {},
   "outputs": [
    {
     "data": {
      "text/plain": [
       "(10, 10)"
      ]
     },
     "execution_count": 63,
     "metadata": {},
     "output_type": "execute_result"
    }
   ],
   "source": [
    "#attribtutes\n",
    "b.shape"
   ]
  },
  {
   "cell_type": "code",
   "execution_count": 64,
   "metadata": {},
   "outputs": [
    {
     "data": {
      "text/plain": [
       "2"
      ]
     },
     "execution_count": 64,
     "metadata": {},
     "output_type": "execute_result"
    }
   ],
   "source": [
    "b.ndim"
   ]
  },
  {
   "cell_type": "code",
   "execution_count": 66,
   "metadata": {},
   "outputs": [
    {
     "data": {
      "text/plain": [
       "1"
      ]
     },
     "execution_count": 66,
     "metadata": {},
     "output_type": "execute_result"
    }
   ],
   "source": [
    "a.ndim"
   ]
  },
  {
   "cell_type": "code",
   "execution_count": 67,
   "metadata": {},
   "outputs": [
    {
     "data": {
      "text/plain": [
       "8"
      ]
     },
     "execution_count": 67,
     "metadata": {},
     "output_type": "execute_result"
    }
   ],
   "source": [
    "b.itemsize"
   ]
  },
  {
   "cell_type": "code",
   "execution_count": 68,
   "metadata": {},
   "outputs": [],
   "source": [
    "b=np.zeros((10,10), dtype=int)"
   ]
  },
  {
   "cell_type": "code",
   "execution_count": 69,
   "metadata": {},
   "outputs": [
    {
     "data": {
      "text/plain": [
       "array([[0, 0, 0, 0, 0, 0, 0, 0, 0, 0],\n",
       "       [0, 0, 0, 0, 0, 0, 0, 0, 0, 0],\n",
       "       [0, 0, 0, 0, 0, 0, 0, 0, 0, 0],\n",
       "       [0, 0, 0, 0, 0, 0, 0, 0, 0, 0],\n",
       "       [0, 0, 0, 0, 0, 0, 0, 0, 0, 0],\n",
       "       [0, 0, 0, 0, 0, 0, 0, 0, 0, 0],\n",
       "       [0, 0, 0, 0, 0, 0, 0, 0, 0, 0],\n",
       "       [0, 0, 0, 0, 0, 0, 0, 0, 0, 0],\n",
       "       [0, 0, 0, 0, 0, 0, 0, 0, 0, 0],\n",
       "       [0, 0, 0, 0, 0, 0, 0, 0, 0, 0]])"
      ]
     },
     "execution_count": 69,
     "metadata": {},
     "output_type": "execute_result"
    }
   ],
   "source": [
    "b"
   ]
  },
  {
   "cell_type": "code",
   "execution_count": 70,
   "metadata": {},
   "outputs": [
    {
     "data": {
      "text/plain": [
       "4"
      ]
     },
     "execution_count": 70,
     "metadata": {},
     "output_type": "execute_result"
    }
   ],
   "source": [
    "b.itemsize"
   ]
  },
  {
   "cell_type": "code",
   "execution_count": 73,
   "metadata": {},
   "outputs": [
    {
     "data": {
      "text/plain": [
       "10"
      ]
     },
     "execution_count": 73,
     "metadata": {},
     "output_type": "execute_result"
    }
   ],
   "source": [
    "len(b)"
   ]
  },
  {
   "cell_type": "code",
   "execution_count": 75,
   "metadata": {},
   "outputs": [
    {
     "data": {
      "text/plain": [
       "(10, 10)"
      ]
     },
     "execution_count": 75,
     "metadata": {},
     "output_type": "execute_result"
    }
   ],
   "source": [
    "b.shape"
   ]
  },
  {
   "cell_type": "code",
   "execution_count": 77,
   "metadata": {},
   "outputs": [
    {
     "data": {
      "text/plain": [
       "100"
      ]
     },
     "execution_count": 77,
     "metadata": {},
     "output_type": "execute_result"
    }
   ],
   "source": [
    "b.shape[0]*b.shape[1]"
   ]
  },
  {
   "cell_type": "code",
   "execution_count": 79,
   "metadata": {},
   "outputs": [
    {
     "data": {
      "text/plain": [
       "100"
      ]
     },
     "execution_count": 79,
     "metadata": {},
     "output_type": "execute_result"
    }
   ],
   "source": [
    "len(b.ravel())"
   ]
  },
  {
   "cell_type": "code",
   "execution_count": 83,
   "metadata": {},
   "outputs": [],
   "source": [
    "b=b.ravel()"
   ]
  },
  {
   "cell_type": "code",
   "execution_count": 84,
   "metadata": {},
   "outputs": [
    {
     "data": {
      "text/plain": [
       "array([0, 0, 0, 0, 0, 0, 0, 0, 0, 0, 0, 0, 0, 0, 0, 0, 0, 0, 0, 0, 0, 0,\n",
       "       0, 0, 0, 0, 0, 0, 0, 0, 0, 0, 0, 0, 0, 0, 0, 0, 0, 0, 0, 0, 0, 0,\n",
       "       0, 0, 0, 0, 0, 0, 0, 0, 0, 0, 0, 0, 0, 0, 0, 0, 0, 0, 0, 0, 0, 0,\n",
       "       0, 0, 0, 0, 0, 0, 0, 0, 0, 0, 0, 0, 0, 0, 0, 0, 0, 0, 0, 0, 0, 0,\n",
       "       0, 0, 0, 0, 0, 0, 0, 0, 0, 0, 0, 0])"
      ]
     },
     "execution_count": 84,
     "metadata": {},
     "output_type": "execute_result"
    }
   ],
   "source": [
    "b"
   ]
  },
  {
   "cell_type": "code",
   "execution_count": 80,
   "metadata": {},
   "outputs": [
    {
     "name": "stdout",
     "output_type": "stream",
     "text": [
      "Requirement already satisfied: numpy in c:\\programdata\\anaconda3\\lib\\site-packages (1.18.0)\n"
     ]
    },
    {
     "name": "stderr",
     "output_type": "stream",
     "text": [
      "WARNING: You are using pip version 21.0.1; however, version 21.2.4 is available.\n",
      "You should consider upgrading via the 'c:\\programdata\\anaconda3\\python.exe -m pip install --upgrade pip' command.\n"
     ]
    }
   ],
   "source": [
    "!pip install numpy"
   ]
  },
  {
   "cell_type": "code",
   "execution_count": 81,
   "metadata": {},
   "outputs": [],
   "source": [
    "#pandas\n",
    "#heterogenous datatype\n",
    "#you can give your own column names and row name\n"
   ]
  },
  {
   "cell_type": "code",
   "execution_count": 82,
   "metadata": {},
   "outputs": [],
   "source": [
    "#series -> 1 dimension data "
   ]
  },
  {
   "cell_type": "code",
   "execution_count": 85,
   "metadata": {},
   "outputs": [],
   "source": [
    "import pandas as pd"
   ]
  },
  {
   "cell_type": "code",
   "execution_count": 86,
   "metadata": {},
   "outputs": [
    {
     "data": {
      "text/plain": [
       "0     0\n",
       "1     0\n",
       "2     0\n",
       "3     0\n",
       "4     0\n",
       "5     0\n",
       "6     0\n",
       "7     0\n",
       "8     0\n",
       "9     0\n",
       "10    0\n",
       "11    0\n",
       "12    0\n",
       "13    0\n",
       "14    0\n",
       "15    0\n",
       "16    0\n",
       "17    0\n",
       "18    0\n",
       "19    0\n",
       "20    0\n",
       "21    0\n",
       "22    0\n",
       "23    0\n",
       "24    0\n",
       "25    0\n",
       "26    0\n",
       "27    0\n",
       "28    0\n",
       "29    0\n",
       "     ..\n",
       "70    0\n",
       "71    0\n",
       "72    0\n",
       "73    0\n",
       "74    0\n",
       "75    0\n",
       "76    0\n",
       "77    0\n",
       "78    0\n",
       "79    0\n",
       "80    0\n",
       "81    0\n",
       "82    0\n",
       "83    0\n",
       "84    0\n",
       "85    0\n",
       "86    0\n",
       "87    0\n",
       "88    0\n",
       "89    0\n",
       "90    0\n",
       "91    0\n",
       "92    0\n",
       "93    0\n",
       "94    0\n",
       "95    0\n",
       "96    0\n",
       "97    0\n",
       "98    0\n",
       "99    0\n",
       "Length: 100, dtype: int32"
      ]
     },
     "execution_count": 86,
     "metadata": {},
     "output_type": "execute_result"
    }
   ],
   "source": [
    "pd.Series(b)"
   ]
  },
  {
   "cell_type": "code",
   "execution_count": 87,
   "metadata": {},
   "outputs": [],
   "source": [
    "b = np.linspace(1,100,10)"
   ]
  },
  {
   "cell_type": "code",
   "execution_count": 88,
   "metadata": {},
   "outputs": [
    {
     "data": {
      "text/plain": [
       "array([  1.,  12.,  23.,  34.,  45.,  56.,  67.,  78.,  89., 100.])"
      ]
     },
     "execution_count": 88,
     "metadata": {},
     "output_type": "execute_result"
    }
   ],
   "source": [
    "b"
   ]
  },
  {
   "cell_type": "code",
   "execution_count": 92,
   "metadata": {},
   "outputs": [],
   "source": [
    "ser1=pd.Series(b)"
   ]
  },
  {
   "cell_type": "code",
   "execution_count": 93,
   "metadata": {},
   "outputs": [
    {
     "data": {
      "text/plain": [
       "0      1.0\n",
       "1     12.0\n",
       "2     23.0\n",
       "3     34.0\n",
       "4     45.0\n",
       "5     56.0\n",
       "6     67.0\n",
       "7     78.0\n",
       "8     89.0\n",
       "9    100.0\n",
       "dtype: float64"
      ]
     },
     "execution_count": 93,
     "metadata": {},
     "output_type": "execute_result"
    }
   ],
   "source": [
    "ser1"
   ]
  },
  {
   "cell_type": "code",
   "execution_count": 94,
   "metadata": {},
   "outputs": [
    {
     "data": {
      "text/plain": [
       "12.0"
      ]
     },
     "execution_count": 94,
     "metadata": {},
     "output_type": "execute_result"
    }
   ],
   "source": [
    "ser1[1]"
   ]
  },
  {
   "cell_type": "code",
   "execution_count": 100,
   "metadata": {},
   "outputs": [
    {
     "data": {
      "text/plain": [
       "4    45.0\n",
       "5    56.0\n",
       "6    67.0\n",
       "7    78.0\n",
       "dtype: float64"
      ]
     },
     "execution_count": 100,
     "metadata": {},
     "output_type": "execute_result"
    }
   ],
   "source": [
    "ser1[4:8]"
   ]
  },
  {
   "cell_type": "code",
   "execution_count": 90,
   "metadata": {},
   "outputs": [],
   "source": [
    "data={'a':10, \"b\":20, \"c\":30}"
   ]
  },
  {
   "cell_type": "code",
   "execution_count": 95,
   "metadata": {},
   "outputs": [],
   "source": [
    "ser2=pd.Series(data)"
   ]
  },
  {
   "cell_type": "code",
   "execution_count": 96,
   "metadata": {},
   "outputs": [
    {
     "data": {
      "text/plain": [
       "a    10\n",
       "b    20\n",
       "c    30\n",
       "dtype: int64"
      ]
     },
     "execution_count": 96,
     "metadata": {},
     "output_type": "execute_result"
    }
   ],
   "source": [
    "ser2"
   ]
  },
  {
   "cell_type": "code",
   "execution_count": 98,
   "metadata": {},
   "outputs": [
    {
     "data": {
      "text/plain": [
       "10"
      ]
     },
     "execution_count": 98,
     "metadata": {},
     "output_type": "execute_result"
    }
   ],
   "source": [
    "ser2['a']"
   ]
  },
  {
   "cell_type": "code",
   "execution_count": 101,
   "metadata": {},
   "outputs": [],
   "source": [
    "#dataframe can be though as many series clubed together to make a table where each column is one series\n",
    "#also each row is one series"
   ]
  },
  {
   "cell_type": "code",
   "execution_count": 104,
   "metadata": {},
   "outputs": [],
   "source": [
    "df1=pd.DataFrame(ser1, columns=['col1'])"
   ]
  },
  {
   "cell_type": "code",
   "execution_count": 105,
   "metadata": {},
   "outputs": [
    {
     "data": {
      "text/html": [
       "<div>\n",
       "<style scoped>\n",
       "    .dataframe tbody tr th:only-of-type {\n",
       "        vertical-align: middle;\n",
       "    }\n",
       "\n",
       "    .dataframe tbody tr th {\n",
       "        vertical-align: top;\n",
       "    }\n",
       "\n",
       "    .dataframe thead th {\n",
       "        text-align: right;\n",
       "    }\n",
       "</style>\n",
       "<table border=\"1\" class=\"dataframe\">\n",
       "  <thead>\n",
       "    <tr style=\"text-align: right;\">\n",
       "      <th></th>\n",
       "      <th>col1</th>\n",
       "    </tr>\n",
       "  </thead>\n",
       "  <tbody>\n",
       "    <tr>\n",
       "      <th>0</th>\n",
       "      <td>1.0</td>\n",
       "    </tr>\n",
       "    <tr>\n",
       "      <th>1</th>\n",
       "      <td>12.0</td>\n",
       "    </tr>\n",
       "    <tr>\n",
       "      <th>2</th>\n",
       "      <td>23.0</td>\n",
       "    </tr>\n",
       "    <tr>\n",
       "      <th>3</th>\n",
       "      <td>34.0</td>\n",
       "    </tr>\n",
       "    <tr>\n",
       "      <th>4</th>\n",
       "      <td>45.0</td>\n",
       "    </tr>\n",
       "    <tr>\n",
       "      <th>5</th>\n",
       "      <td>56.0</td>\n",
       "    </tr>\n",
       "    <tr>\n",
       "      <th>6</th>\n",
       "      <td>67.0</td>\n",
       "    </tr>\n",
       "    <tr>\n",
       "      <th>7</th>\n",
       "      <td>78.0</td>\n",
       "    </tr>\n",
       "    <tr>\n",
       "      <th>8</th>\n",
       "      <td>89.0</td>\n",
       "    </tr>\n",
       "    <tr>\n",
       "      <th>9</th>\n",
       "      <td>100.0</td>\n",
       "    </tr>\n",
       "  </tbody>\n",
       "</table>\n",
       "</div>"
      ],
      "text/plain": [
       "    col1\n",
       "0    1.0\n",
       "1   12.0\n",
       "2   23.0\n",
       "3   34.0\n",
       "4   45.0\n",
       "5   56.0\n",
       "6   67.0\n",
       "7   78.0\n",
       "8   89.0\n",
       "9  100.0"
      ]
     },
     "execution_count": 105,
     "metadata": {},
     "output_type": "execute_result"
    }
   ],
   "source": [
    "df1"
   ]
  },
  {
   "cell_type": "code",
   "execution_count": 107,
   "metadata": {},
   "outputs": [],
   "source": [
    "df1['col2'] = df1['col1']*2"
   ]
  },
  {
   "cell_type": "code",
   "execution_count": 108,
   "metadata": {},
   "outputs": [
    {
     "data": {
      "text/html": [
       "<div>\n",
       "<style scoped>\n",
       "    .dataframe tbody tr th:only-of-type {\n",
       "        vertical-align: middle;\n",
       "    }\n",
       "\n",
       "    .dataframe tbody tr th {\n",
       "        vertical-align: top;\n",
       "    }\n",
       "\n",
       "    .dataframe thead th {\n",
       "        text-align: right;\n",
       "    }\n",
       "</style>\n",
       "<table border=\"1\" class=\"dataframe\">\n",
       "  <thead>\n",
       "    <tr style=\"text-align: right;\">\n",
       "      <th></th>\n",
       "      <th>col1</th>\n",
       "      <th>col2</th>\n",
       "    </tr>\n",
       "  </thead>\n",
       "  <tbody>\n",
       "    <tr>\n",
       "      <th>0</th>\n",
       "      <td>1.0</td>\n",
       "      <td>2.0</td>\n",
       "    </tr>\n",
       "    <tr>\n",
       "      <th>1</th>\n",
       "      <td>12.0</td>\n",
       "      <td>24.0</td>\n",
       "    </tr>\n",
       "    <tr>\n",
       "      <th>2</th>\n",
       "      <td>23.0</td>\n",
       "      <td>46.0</td>\n",
       "    </tr>\n",
       "    <tr>\n",
       "      <th>3</th>\n",
       "      <td>34.0</td>\n",
       "      <td>68.0</td>\n",
       "    </tr>\n",
       "    <tr>\n",
       "      <th>4</th>\n",
       "      <td>45.0</td>\n",
       "      <td>90.0</td>\n",
       "    </tr>\n",
       "    <tr>\n",
       "      <th>5</th>\n",
       "      <td>56.0</td>\n",
       "      <td>112.0</td>\n",
       "    </tr>\n",
       "    <tr>\n",
       "      <th>6</th>\n",
       "      <td>67.0</td>\n",
       "      <td>134.0</td>\n",
       "    </tr>\n",
       "    <tr>\n",
       "      <th>7</th>\n",
       "      <td>78.0</td>\n",
       "      <td>156.0</td>\n",
       "    </tr>\n",
       "    <tr>\n",
       "      <th>8</th>\n",
       "      <td>89.0</td>\n",
       "      <td>178.0</td>\n",
       "    </tr>\n",
       "    <tr>\n",
       "      <th>9</th>\n",
       "      <td>100.0</td>\n",
       "      <td>200.0</td>\n",
       "    </tr>\n",
       "  </tbody>\n",
       "</table>\n",
       "</div>"
      ],
      "text/plain": [
       "    col1   col2\n",
       "0    1.0    2.0\n",
       "1   12.0   24.0\n",
       "2   23.0   46.0\n",
       "3   34.0   68.0\n",
       "4   45.0   90.0\n",
       "5   56.0  112.0\n",
       "6   67.0  134.0\n",
       "7   78.0  156.0\n",
       "8   89.0  178.0\n",
       "9  100.0  200.0"
      ]
     },
     "execution_count": 108,
     "metadata": {},
     "output_type": "execute_result"
    }
   ],
   "source": [
    "df1"
   ]
  },
  {
   "cell_type": "code",
   "execution_count": 109,
   "metadata": {},
   "outputs": [],
   "source": [
    "df1['col3'] = df1['col1']*2 + df1['col2']+5"
   ]
  },
  {
   "cell_type": "code",
   "execution_count": 110,
   "metadata": {},
   "outputs": [
    {
     "data": {
      "text/html": [
       "<div>\n",
       "<style scoped>\n",
       "    .dataframe tbody tr th:only-of-type {\n",
       "        vertical-align: middle;\n",
       "    }\n",
       "\n",
       "    .dataframe tbody tr th {\n",
       "        vertical-align: top;\n",
       "    }\n",
       "\n",
       "    .dataframe thead th {\n",
       "        text-align: right;\n",
       "    }\n",
       "</style>\n",
       "<table border=\"1\" class=\"dataframe\">\n",
       "  <thead>\n",
       "    <tr style=\"text-align: right;\">\n",
       "      <th></th>\n",
       "      <th>col1</th>\n",
       "      <th>col2</th>\n",
       "      <th>col3</th>\n",
       "    </tr>\n",
       "  </thead>\n",
       "  <tbody>\n",
       "    <tr>\n",
       "      <th>0</th>\n",
       "      <td>1.0</td>\n",
       "      <td>2.0</td>\n",
       "      <td>9.0</td>\n",
       "    </tr>\n",
       "    <tr>\n",
       "      <th>1</th>\n",
       "      <td>12.0</td>\n",
       "      <td>24.0</td>\n",
       "      <td>53.0</td>\n",
       "    </tr>\n",
       "    <tr>\n",
       "      <th>2</th>\n",
       "      <td>23.0</td>\n",
       "      <td>46.0</td>\n",
       "      <td>97.0</td>\n",
       "    </tr>\n",
       "    <tr>\n",
       "      <th>3</th>\n",
       "      <td>34.0</td>\n",
       "      <td>68.0</td>\n",
       "      <td>141.0</td>\n",
       "    </tr>\n",
       "    <tr>\n",
       "      <th>4</th>\n",
       "      <td>45.0</td>\n",
       "      <td>90.0</td>\n",
       "      <td>185.0</td>\n",
       "    </tr>\n",
       "    <tr>\n",
       "      <th>5</th>\n",
       "      <td>56.0</td>\n",
       "      <td>112.0</td>\n",
       "      <td>229.0</td>\n",
       "    </tr>\n",
       "    <tr>\n",
       "      <th>6</th>\n",
       "      <td>67.0</td>\n",
       "      <td>134.0</td>\n",
       "      <td>273.0</td>\n",
       "    </tr>\n",
       "    <tr>\n",
       "      <th>7</th>\n",
       "      <td>78.0</td>\n",
       "      <td>156.0</td>\n",
       "      <td>317.0</td>\n",
       "    </tr>\n",
       "    <tr>\n",
       "      <th>8</th>\n",
       "      <td>89.0</td>\n",
       "      <td>178.0</td>\n",
       "      <td>361.0</td>\n",
       "    </tr>\n",
       "    <tr>\n",
       "      <th>9</th>\n",
       "      <td>100.0</td>\n",
       "      <td>200.0</td>\n",
       "      <td>405.0</td>\n",
       "    </tr>\n",
       "  </tbody>\n",
       "</table>\n",
       "</div>"
      ],
      "text/plain": [
       "    col1   col2   col3\n",
       "0    1.0    2.0    9.0\n",
       "1   12.0   24.0   53.0\n",
       "2   23.0   46.0   97.0\n",
       "3   34.0   68.0  141.0\n",
       "4   45.0   90.0  185.0\n",
       "5   56.0  112.0  229.0\n",
       "6   67.0  134.0  273.0\n",
       "7   78.0  156.0  317.0\n",
       "8   89.0  178.0  361.0\n",
       "9  100.0  200.0  405.0"
      ]
     },
     "execution_count": 110,
     "metadata": {},
     "output_type": "execute_result"
    }
   ],
   "source": [
    "df1"
   ]
  },
  {
   "cell_type": "code",
   "execution_count": 111,
   "metadata": {},
   "outputs": [],
   "source": [
    "data =[{'a':1, 'b':3},{'a':89, 'b':90},{'a':89}]"
   ]
  },
  {
   "cell_type": "code",
   "execution_count": 113,
   "metadata": {},
   "outputs": [],
   "source": [
    "df3=pd.DataFrame(data)"
   ]
  },
  {
   "cell_type": "code",
   "execution_count": 114,
   "metadata": {},
   "outputs": [
    {
     "data": {
      "text/html": [
       "<div>\n",
       "<style scoped>\n",
       "    .dataframe tbody tr th:only-of-type {\n",
       "        vertical-align: middle;\n",
       "    }\n",
       "\n",
       "    .dataframe tbody tr th {\n",
       "        vertical-align: top;\n",
       "    }\n",
       "\n",
       "    .dataframe thead th {\n",
       "        text-align: right;\n",
       "    }\n",
       "</style>\n",
       "<table border=\"1\" class=\"dataframe\">\n",
       "  <thead>\n",
       "    <tr style=\"text-align: right;\">\n",
       "      <th></th>\n",
       "      <th>a</th>\n",
       "      <th>b</th>\n",
       "    </tr>\n",
       "  </thead>\n",
       "  <tbody>\n",
       "    <tr>\n",
       "      <th>0</th>\n",
       "      <td>1</td>\n",
       "      <td>3.0</td>\n",
       "    </tr>\n",
       "    <tr>\n",
       "      <th>1</th>\n",
       "      <td>89</td>\n",
       "      <td>90.0</td>\n",
       "    </tr>\n",
       "    <tr>\n",
       "      <th>2</th>\n",
       "      <td>89</td>\n",
       "      <td>NaN</td>\n",
       "    </tr>\n",
       "  </tbody>\n",
       "</table>\n",
       "</div>"
      ],
      "text/plain": [
       "    a     b\n",
       "0   1   3.0\n",
       "1  89  90.0\n",
       "2  89   NaN"
      ]
     },
     "execution_count": 114,
     "metadata": {},
     "output_type": "execute_result"
    }
   ],
   "source": [
    "df3"
   ]
  },
  {
   "cell_type": "code",
   "execution_count": 115,
   "metadata": {},
   "outputs": [
    {
     "name": "stdout",
     "output_type": "stream",
     "text": [
      "<class 'pandas.core.frame.DataFrame'>\n",
      "RangeIndex: 3 entries, 0 to 2\n",
      "Data columns (total 2 columns):\n",
      "a    3 non-null int64\n",
      "b    2 non-null float64\n",
      "dtypes: float64(1), int64(1)\n",
      "memory usage: 128.0 bytes\n"
     ]
    }
   ],
   "source": [
    "df3.info()"
   ]
  },
  {
   "cell_type": "code",
   "execution_count": 127,
   "metadata": {},
   "outputs": [],
   "source": [
    "data={\"col1\":pd.Series([1,2,3,4,5], index=['a','b','c','d','g']),\n",
    "     \"col2\":pd.Series([6,7,8,9,10], index=['a','b','c','d','e'])}"
   ]
  },
  {
   "cell_type": "code",
   "execution_count": 128,
   "metadata": {},
   "outputs": [],
   "source": [
    "df=pd.DataFrame(data)"
   ]
  },
  {
   "cell_type": "code",
   "execution_count": 129,
   "metadata": {},
   "outputs": [
    {
     "data": {
      "text/html": [
       "<div>\n",
       "<style scoped>\n",
       "    .dataframe tbody tr th:only-of-type {\n",
       "        vertical-align: middle;\n",
       "    }\n",
       "\n",
       "    .dataframe tbody tr th {\n",
       "        vertical-align: top;\n",
       "    }\n",
       "\n",
       "    .dataframe thead th {\n",
       "        text-align: right;\n",
       "    }\n",
       "</style>\n",
       "<table border=\"1\" class=\"dataframe\">\n",
       "  <thead>\n",
       "    <tr style=\"text-align: right;\">\n",
       "      <th></th>\n",
       "      <th>col1</th>\n",
       "      <th>col2</th>\n",
       "    </tr>\n",
       "  </thead>\n",
       "  <tbody>\n",
       "    <tr>\n",
       "      <th>a</th>\n",
       "      <td>1.0</td>\n",
       "      <td>6.0</td>\n",
       "    </tr>\n",
       "    <tr>\n",
       "      <th>b</th>\n",
       "      <td>2.0</td>\n",
       "      <td>7.0</td>\n",
       "    </tr>\n",
       "    <tr>\n",
       "      <th>c</th>\n",
       "      <td>3.0</td>\n",
       "      <td>8.0</td>\n",
       "    </tr>\n",
       "    <tr>\n",
       "      <th>d</th>\n",
       "      <td>4.0</td>\n",
       "      <td>9.0</td>\n",
       "    </tr>\n",
       "    <tr>\n",
       "      <th>e</th>\n",
       "      <td>NaN</td>\n",
       "      <td>10.0</td>\n",
       "    </tr>\n",
       "    <tr>\n",
       "      <th>g</th>\n",
       "      <td>5.0</td>\n",
       "      <td>NaN</td>\n",
       "    </tr>\n",
       "  </tbody>\n",
       "</table>\n",
       "</div>"
      ],
      "text/plain": [
       "   col1  col2\n",
       "a   1.0   6.0\n",
       "b   2.0   7.0\n",
       "c   3.0   8.0\n",
       "d   4.0   9.0\n",
       "e   NaN  10.0\n",
       "g   5.0   NaN"
      ]
     },
     "execution_count": 129,
     "metadata": {},
     "output_type": "execute_result"
    }
   ],
   "source": [
    "df"
   ]
  },
  {
   "cell_type": "code",
   "execution_count": 130,
   "metadata": {},
   "outputs": [],
   "source": [
    "df['col3']=pd.Series([16,17,18,19,10,20], index=['a','b','c','d','e', 'g'])"
   ]
  },
  {
   "cell_type": "code",
   "execution_count": 131,
   "metadata": {},
   "outputs": [
    {
     "data": {
      "text/html": [
       "<div>\n",
       "<style scoped>\n",
       "    .dataframe tbody tr th:only-of-type {\n",
       "        vertical-align: middle;\n",
       "    }\n",
       "\n",
       "    .dataframe tbody tr th {\n",
       "        vertical-align: top;\n",
       "    }\n",
       "\n",
       "    .dataframe thead th {\n",
       "        text-align: right;\n",
       "    }\n",
       "</style>\n",
       "<table border=\"1\" class=\"dataframe\">\n",
       "  <thead>\n",
       "    <tr style=\"text-align: right;\">\n",
       "      <th></th>\n",
       "      <th>col1</th>\n",
       "      <th>col2</th>\n",
       "      <th>col3</th>\n",
       "    </tr>\n",
       "  </thead>\n",
       "  <tbody>\n",
       "    <tr>\n",
       "      <th>a</th>\n",
       "      <td>1.0</td>\n",
       "      <td>6.0</td>\n",
       "      <td>16</td>\n",
       "    </tr>\n",
       "    <tr>\n",
       "      <th>b</th>\n",
       "      <td>2.0</td>\n",
       "      <td>7.0</td>\n",
       "      <td>17</td>\n",
       "    </tr>\n",
       "    <tr>\n",
       "      <th>c</th>\n",
       "      <td>3.0</td>\n",
       "      <td>8.0</td>\n",
       "      <td>18</td>\n",
       "    </tr>\n",
       "    <tr>\n",
       "      <th>d</th>\n",
       "      <td>4.0</td>\n",
       "      <td>9.0</td>\n",
       "      <td>19</td>\n",
       "    </tr>\n",
       "    <tr>\n",
       "      <th>e</th>\n",
       "      <td>NaN</td>\n",
       "      <td>10.0</td>\n",
       "      <td>10</td>\n",
       "    </tr>\n",
       "    <tr>\n",
       "      <th>g</th>\n",
       "      <td>5.0</td>\n",
       "      <td>NaN</td>\n",
       "      <td>20</td>\n",
       "    </tr>\n",
       "  </tbody>\n",
       "</table>\n",
       "</div>"
      ],
      "text/plain": [
       "   col1  col2  col3\n",
       "a   1.0   6.0    16\n",
       "b   2.0   7.0    17\n",
       "c   3.0   8.0    18\n",
       "d   4.0   9.0    19\n",
       "e   NaN  10.0    10\n",
       "g   5.0   NaN    20"
      ]
     },
     "execution_count": 131,
     "metadata": {},
     "output_type": "execute_result"
    }
   ],
   "source": [
    "df"
   ]
  },
  {
   "cell_type": "code",
   "execution_count": 132,
   "metadata": {},
   "outputs": [
    {
     "data": {
      "text/plain": [
       "a    1.0\n",
       "b    2.0\n",
       "c    3.0\n",
       "d    4.0\n",
       "e    NaN\n",
       "g    5.0\n",
       "Name: col1, dtype: float64"
      ]
     },
     "execution_count": 132,
     "metadata": {},
     "output_type": "execute_result"
    }
   ],
   "source": [
    "df['col1']"
   ]
  },
  {
   "cell_type": "code",
   "execution_count": 133,
   "metadata": {},
   "outputs": [],
   "source": [
    "del df['col1']"
   ]
  },
  {
   "cell_type": "code",
   "execution_count": 134,
   "metadata": {},
   "outputs": [
    {
     "data": {
      "text/html": [
       "<div>\n",
       "<style scoped>\n",
       "    .dataframe tbody tr th:only-of-type {\n",
       "        vertical-align: middle;\n",
       "    }\n",
       "\n",
       "    .dataframe tbody tr th {\n",
       "        vertical-align: top;\n",
       "    }\n",
       "\n",
       "    .dataframe thead th {\n",
       "        text-align: right;\n",
       "    }\n",
       "</style>\n",
       "<table border=\"1\" class=\"dataframe\">\n",
       "  <thead>\n",
       "    <tr style=\"text-align: right;\">\n",
       "      <th></th>\n",
       "      <th>col2</th>\n",
       "      <th>col3</th>\n",
       "    </tr>\n",
       "  </thead>\n",
       "  <tbody>\n",
       "    <tr>\n",
       "      <th>a</th>\n",
       "      <td>6.0</td>\n",
       "      <td>16</td>\n",
       "    </tr>\n",
       "    <tr>\n",
       "      <th>b</th>\n",
       "      <td>7.0</td>\n",
       "      <td>17</td>\n",
       "    </tr>\n",
       "    <tr>\n",
       "      <th>c</th>\n",
       "      <td>8.0</td>\n",
       "      <td>18</td>\n",
       "    </tr>\n",
       "    <tr>\n",
       "      <th>d</th>\n",
       "      <td>9.0</td>\n",
       "      <td>19</td>\n",
       "    </tr>\n",
       "    <tr>\n",
       "      <th>e</th>\n",
       "      <td>10.0</td>\n",
       "      <td>10</td>\n",
       "    </tr>\n",
       "    <tr>\n",
       "      <th>g</th>\n",
       "      <td>NaN</td>\n",
       "      <td>20</td>\n",
       "    </tr>\n",
       "  </tbody>\n",
       "</table>\n",
       "</div>"
      ],
      "text/plain": [
       "   col2  col3\n",
       "a   6.0    16\n",
       "b   7.0    17\n",
       "c   8.0    18\n",
       "d   9.0    19\n",
       "e  10.0    10\n",
       "g   NaN    20"
      ]
     },
     "execution_count": 134,
     "metadata": {},
     "output_type": "execute_result"
    }
   ],
   "source": [
    "df"
   ]
  },
  {
   "cell_type": "code",
   "execution_count": 135,
   "metadata": {},
   "outputs": [
    {
     "data": {
      "text/plain": [
       "a     6.0\n",
       "b     7.0\n",
       "c     8.0\n",
       "d     9.0\n",
       "e    10.0\n",
       "g     NaN\n",
       "Name: col2, dtype: float64"
      ]
     },
     "execution_count": 135,
     "metadata": {},
     "output_type": "execute_result"
    }
   ],
   "source": [
    "df.pop('col2')"
   ]
  },
  {
   "cell_type": "code",
   "execution_count": 136,
   "metadata": {},
   "outputs": [
    {
     "data": {
      "text/html": [
       "<div>\n",
       "<style scoped>\n",
       "    .dataframe tbody tr th:only-of-type {\n",
       "        vertical-align: middle;\n",
       "    }\n",
       "\n",
       "    .dataframe tbody tr th {\n",
       "        vertical-align: top;\n",
       "    }\n",
       "\n",
       "    .dataframe thead th {\n",
       "        text-align: right;\n",
       "    }\n",
       "</style>\n",
       "<table border=\"1\" class=\"dataframe\">\n",
       "  <thead>\n",
       "    <tr style=\"text-align: right;\">\n",
       "      <th></th>\n",
       "      <th>col3</th>\n",
       "    </tr>\n",
       "  </thead>\n",
       "  <tbody>\n",
       "    <tr>\n",
       "      <th>a</th>\n",
       "      <td>16</td>\n",
       "    </tr>\n",
       "    <tr>\n",
       "      <th>b</th>\n",
       "      <td>17</td>\n",
       "    </tr>\n",
       "    <tr>\n",
       "      <th>c</th>\n",
       "      <td>18</td>\n",
       "    </tr>\n",
       "    <tr>\n",
       "      <th>d</th>\n",
       "      <td>19</td>\n",
       "    </tr>\n",
       "    <tr>\n",
       "      <th>e</th>\n",
       "      <td>10</td>\n",
       "    </tr>\n",
       "    <tr>\n",
       "      <th>g</th>\n",
       "      <td>20</td>\n",
       "    </tr>\n",
       "  </tbody>\n",
       "</table>\n",
       "</div>"
      ],
      "text/plain": [
       "   col3\n",
       "a    16\n",
       "b    17\n",
       "c    18\n",
       "d    19\n",
       "e    10\n",
       "g    20"
      ]
     },
     "execution_count": 136,
     "metadata": {},
     "output_type": "execute_result"
    }
   ],
   "source": [
    "df"
   ]
  },
  {
   "cell_type": "code",
   "execution_count": 137,
   "metadata": {},
   "outputs": [],
   "source": [
    "data={\"col1\":pd.Series([1,2,3,4,5], index=['a','b','c','d','g']),\n",
    "     \"col2\":pd.Series([6,7,8,9,10], index=['a','b','c','d','e'])}"
   ]
  },
  {
   "cell_type": "code",
   "execution_count": 138,
   "metadata": {},
   "outputs": [],
   "source": [
    "df=pd.DataFrame(data)"
   ]
  },
  {
   "cell_type": "code",
   "execution_count": 139,
   "metadata": {},
   "outputs": [
    {
     "data": {
      "text/html": [
       "<div>\n",
       "<style scoped>\n",
       "    .dataframe tbody tr th:only-of-type {\n",
       "        vertical-align: middle;\n",
       "    }\n",
       "\n",
       "    .dataframe tbody tr th {\n",
       "        vertical-align: top;\n",
       "    }\n",
       "\n",
       "    .dataframe thead th {\n",
       "        text-align: right;\n",
       "    }\n",
       "</style>\n",
       "<table border=\"1\" class=\"dataframe\">\n",
       "  <thead>\n",
       "    <tr style=\"text-align: right;\">\n",
       "      <th></th>\n",
       "      <th>col1</th>\n",
       "      <th>col2</th>\n",
       "    </tr>\n",
       "  </thead>\n",
       "  <tbody>\n",
       "    <tr>\n",
       "      <th>a</th>\n",
       "      <td>1.0</td>\n",
       "      <td>6.0</td>\n",
       "    </tr>\n",
       "    <tr>\n",
       "      <th>b</th>\n",
       "      <td>2.0</td>\n",
       "      <td>7.0</td>\n",
       "    </tr>\n",
       "    <tr>\n",
       "      <th>c</th>\n",
       "      <td>3.0</td>\n",
       "      <td>8.0</td>\n",
       "    </tr>\n",
       "    <tr>\n",
       "      <th>d</th>\n",
       "      <td>4.0</td>\n",
       "      <td>9.0</td>\n",
       "    </tr>\n",
       "    <tr>\n",
       "      <th>e</th>\n",
       "      <td>NaN</td>\n",
       "      <td>10.0</td>\n",
       "    </tr>\n",
       "    <tr>\n",
       "      <th>g</th>\n",
       "      <td>5.0</td>\n",
       "      <td>NaN</td>\n",
       "    </tr>\n",
       "  </tbody>\n",
       "</table>\n",
       "</div>"
      ],
      "text/plain": [
       "   col1  col2\n",
       "a   1.0   6.0\n",
       "b   2.0   7.0\n",
       "c   3.0   8.0\n",
       "d   4.0   9.0\n",
       "e   NaN  10.0\n",
       "g   5.0   NaN"
      ]
     },
     "execution_count": 139,
     "metadata": {},
     "output_type": "execute_result"
    }
   ],
   "source": [
    "df"
   ]
  },
  {
   "cell_type": "code",
   "execution_count": 140,
   "metadata": {},
   "outputs": [
    {
     "data": {
      "text/plain": [
       "col1    3.0\n",
       "col2    8.0\n",
       "Name: c, dtype: float64"
      ]
     },
     "execution_count": 140,
     "metadata": {},
     "output_type": "execute_result"
    }
   ],
   "source": [
    "#using loc\n",
    "df.loc['c']"
   ]
  },
  {
   "cell_type": "code",
   "execution_count": 149,
   "metadata": {},
   "outputs": [
    {
     "data": {
      "text/plain": [
       "col1    3.0\n",
       "col2    8.0\n",
       "Name: c, dtype: float64"
      ]
     },
     "execution_count": 149,
     "metadata": {},
     "output_type": "execute_result"
    }
   ],
   "source": [
    "df.iloc[2]"
   ]
  },
  {
   "cell_type": "code",
   "execution_count": 144,
   "metadata": {},
   "outputs": [],
   "source": [
    "df.loc['f']=[1,2]"
   ]
  },
  {
   "cell_type": "code",
   "execution_count": 145,
   "metadata": {},
   "outputs": [
    {
     "data": {
      "text/html": [
       "<div>\n",
       "<style scoped>\n",
       "    .dataframe tbody tr th:only-of-type {\n",
       "        vertical-align: middle;\n",
       "    }\n",
       "\n",
       "    .dataframe tbody tr th {\n",
       "        vertical-align: top;\n",
       "    }\n",
       "\n",
       "    .dataframe thead th {\n",
       "        text-align: right;\n",
       "    }\n",
       "</style>\n",
       "<table border=\"1\" class=\"dataframe\">\n",
       "  <thead>\n",
       "    <tr style=\"text-align: right;\">\n",
       "      <th></th>\n",
       "      <th>col1</th>\n",
       "      <th>col2</th>\n",
       "    </tr>\n",
       "  </thead>\n",
       "  <tbody>\n",
       "    <tr>\n",
       "      <th>a</th>\n",
       "      <td>1.0</td>\n",
       "      <td>6.0</td>\n",
       "    </tr>\n",
       "    <tr>\n",
       "      <th>b</th>\n",
       "      <td>2.0</td>\n",
       "      <td>7.0</td>\n",
       "    </tr>\n",
       "    <tr>\n",
       "      <th>c</th>\n",
       "      <td>3.0</td>\n",
       "      <td>8.0</td>\n",
       "    </tr>\n",
       "    <tr>\n",
       "      <th>d</th>\n",
       "      <td>1.0</td>\n",
       "      <td>2.0</td>\n",
       "    </tr>\n",
       "    <tr>\n",
       "      <th>e</th>\n",
       "      <td>NaN</td>\n",
       "      <td>10.0</td>\n",
       "    </tr>\n",
       "    <tr>\n",
       "      <th>g</th>\n",
       "      <td>5.0</td>\n",
       "      <td>NaN</td>\n",
       "    </tr>\n",
       "    <tr>\n",
       "      <th>f</th>\n",
       "      <td>1.0</td>\n",
       "      <td>2.0</td>\n",
       "    </tr>\n",
       "  </tbody>\n",
       "</table>\n",
       "</div>"
      ],
      "text/plain": [
       "   col1  col2\n",
       "a   1.0   6.0\n",
       "b   2.0   7.0\n",
       "c   3.0   8.0\n",
       "d   1.0   2.0\n",
       "e   NaN  10.0\n",
       "g   5.0   NaN\n",
       "f   1.0   2.0"
      ]
     },
     "execution_count": 145,
     "metadata": {},
     "output_type": "execute_result"
    }
   ],
   "source": [
    "df"
   ]
  },
  {
   "cell_type": "code",
   "execution_count": 147,
   "metadata": {},
   "outputs": [
    {
     "data": {
      "text/plain": [
       "1.0"
      ]
     },
     "execution_count": 147,
     "metadata": {},
     "output_type": "execute_result"
    }
   ],
   "source": [
    "df.loc['d', 'col1']"
   ]
  },
  {
   "cell_type": "code",
   "execution_count": null,
   "metadata": {},
   "outputs": [],
   "source": []
  },
  {
   "cell_type": "code",
   "execution_count": 153,
   "metadata": {},
   "outputs": [],
   "source": [
    "data={\"col1\":pd.Series([1,2], index=['h','i']),\n",
    "     \"col2\":pd.Series([6,7], index=['h','i'])}"
   ]
  },
  {
   "cell_type": "code",
   "execution_count": 154,
   "metadata": {},
   "outputs": [],
   "source": [
    "df2=pd.DataFrame(data)"
   ]
  },
  {
   "cell_type": "code",
   "execution_count": 155,
   "metadata": {},
   "outputs": [
    {
     "data": {
      "text/html": [
       "<div>\n",
       "<style scoped>\n",
       "    .dataframe tbody tr th:only-of-type {\n",
       "        vertical-align: middle;\n",
       "    }\n",
       "\n",
       "    .dataframe tbody tr th {\n",
       "        vertical-align: top;\n",
       "    }\n",
       "\n",
       "    .dataframe thead th {\n",
       "        text-align: right;\n",
       "    }\n",
       "</style>\n",
       "<table border=\"1\" class=\"dataframe\">\n",
       "  <thead>\n",
       "    <tr style=\"text-align: right;\">\n",
       "      <th></th>\n",
       "      <th>col1</th>\n",
       "      <th>col2</th>\n",
       "    </tr>\n",
       "  </thead>\n",
       "  <tbody>\n",
       "    <tr>\n",
       "      <th>h</th>\n",
       "      <td>1</td>\n",
       "      <td>6</td>\n",
       "    </tr>\n",
       "    <tr>\n",
       "      <th>i</th>\n",
       "      <td>2</td>\n",
       "      <td>7</td>\n",
       "    </tr>\n",
       "  </tbody>\n",
       "</table>\n",
       "</div>"
      ],
      "text/plain": [
       "   col1  col2\n",
       "h     1     6\n",
       "i     2     7"
      ]
     },
     "execution_count": 155,
     "metadata": {},
     "output_type": "execute_result"
    }
   ],
   "source": [
    "df2"
   ]
  },
  {
   "cell_type": "code",
   "execution_count": 161,
   "metadata": {},
   "outputs": [],
   "source": [
    "df=df.append(df2)"
   ]
  },
  {
   "cell_type": "code",
   "execution_count": 162,
   "metadata": {},
   "outputs": [
    {
     "data": {
      "text/html": [
       "<div>\n",
       "<style scoped>\n",
       "    .dataframe tbody tr th:only-of-type {\n",
       "        vertical-align: middle;\n",
       "    }\n",
       "\n",
       "    .dataframe tbody tr th {\n",
       "        vertical-align: top;\n",
       "    }\n",
       "\n",
       "    .dataframe thead th {\n",
       "        text-align: right;\n",
       "    }\n",
       "</style>\n",
       "<table border=\"1\" class=\"dataframe\">\n",
       "  <thead>\n",
       "    <tr style=\"text-align: right;\">\n",
       "      <th></th>\n",
       "      <th>col1</th>\n",
       "      <th>col2</th>\n",
       "    </tr>\n",
       "  </thead>\n",
       "  <tbody>\n",
       "    <tr>\n",
       "      <th>a</th>\n",
       "      <td>1.0</td>\n",
       "      <td>6.0</td>\n",
       "    </tr>\n",
       "    <tr>\n",
       "      <th>b</th>\n",
       "      <td>2.0</td>\n",
       "      <td>7.0</td>\n",
       "    </tr>\n",
       "    <tr>\n",
       "      <th>c</th>\n",
       "      <td>3.0</td>\n",
       "      <td>8.0</td>\n",
       "    </tr>\n",
       "    <tr>\n",
       "      <th>d</th>\n",
       "      <td>1.0</td>\n",
       "      <td>2.0</td>\n",
       "    </tr>\n",
       "    <tr>\n",
       "      <th>e</th>\n",
       "      <td>NaN</td>\n",
       "      <td>10.0</td>\n",
       "    </tr>\n",
       "    <tr>\n",
       "      <th>g</th>\n",
       "      <td>5.0</td>\n",
       "      <td>NaN</td>\n",
       "    </tr>\n",
       "    <tr>\n",
       "      <th>f</th>\n",
       "      <td>1.0</td>\n",
       "      <td>2.0</td>\n",
       "    </tr>\n",
       "    <tr>\n",
       "      <th>h</th>\n",
       "      <td>1.0</td>\n",
       "      <td>6.0</td>\n",
       "    </tr>\n",
       "    <tr>\n",
       "      <th>i</th>\n",
       "      <td>2.0</td>\n",
       "      <td>7.0</td>\n",
       "    </tr>\n",
       "  </tbody>\n",
       "</table>\n",
       "</div>"
      ],
      "text/plain": [
       "   col1  col2\n",
       "a   1.0   6.0\n",
       "b   2.0   7.0\n",
       "c   3.0   8.0\n",
       "d   1.0   2.0\n",
       "e   NaN  10.0\n",
       "g   5.0   NaN\n",
       "f   1.0   2.0\n",
       "h   1.0   6.0\n",
       "i   2.0   7.0"
      ]
     },
     "execution_count": 162,
     "metadata": {},
     "output_type": "execute_result"
    }
   ],
   "source": [
    "df"
   ]
  },
  {
   "cell_type": "code",
   "execution_count": 157,
   "metadata": {},
   "outputs": [
    {
     "data": {
      "text/plain": [
       "col1    3.0\n",
       "col2    8.0\n",
       "Name: c, dtype: float64"
      ]
     },
     "execution_count": 157,
     "metadata": {},
     "output_type": "execute_result"
    }
   ],
   "source": [
    "df.loc['c']"
   ]
  },
  {
   "cell_type": "code",
   "execution_count": 158,
   "metadata": {},
   "outputs": [
    {
     "ename": "AttributeError",
     "evalue": "__delitem__",
     "output_type": "error",
     "traceback": [
      "\u001b[1;31m---------------------------------------------------------------------------\u001b[0m",
      "\u001b[1;31mAttributeError\u001b[0m                            Traceback (most recent call last)",
      "\u001b[1;32m<ipython-input-158-20675b416ca7>\u001b[0m in \u001b[0;36m<module>\u001b[1;34m\u001b[0m\n\u001b[1;32m----> 1\u001b[1;33m \u001b[1;32mdel\u001b[0m \u001b[0mdf\u001b[0m\u001b[1;33m.\u001b[0m\u001b[0mloc\u001b[0m\u001b[1;33m[\u001b[0m\u001b[1;34m'c'\u001b[0m\u001b[1;33m]\u001b[0m\u001b[1;33m\u001b[0m\u001b[1;33m\u001b[0m\u001b[0m\n\u001b[0m",
      "\u001b[1;31mAttributeError\u001b[0m: __delitem__"
     ]
    }
   ],
   "source": [
    "del df.loc['c']"
   ]
  },
  {
   "cell_type": "code",
   "execution_count": 164,
   "metadata": {},
   "outputs": [
    {
     "data": {
      "text/html": [
       "<div>\n",
       "<style scoped>\n",
       "    .dataframe tbody tr th:only-of-type {\n",
       "        vertical-align: middle;\n",
       "    }\n",
       "\n",
       "    .dataframe tbody tr th {\n",
       "        vertical-align: top;\n",
       "    }\n",
       "\n",
       "    .dataframe thead th {\n",
       "        text-align: right;\n",
       "    }\n",
       "</style>\n",
       "<table border=\"1\" class=\"dataframe\">\n",
       "  <thead>\n",
       "    <tr style=\"text-align: right;\">\n",
       "      <th></th>\n",
       "      <th>col1</th>\n",
       "      <th>col2</th>\n",
       "    </tr>\n",
       "  </thead>\n",
       "  <tbody>\n",
       "    <tr>\n",
       "      <th>a</th>\n",
       "      <td>1.0</td>\n",
       "      <td>6.0</td>\n",
       "    </tr>\n",
       "    <tr>\n",
       "      <th>b</th>\n",
       "      <td>2.0</td>\n",
       "      <td>7.0</td>\n",
       "    </tr>\n",
       "    <tr>\n",
       "      <th>d</th>\n",
       "      <td>1.0</td>\n",
       "      <td>2.0</td>\n",
       "    </tr>\n",
       "    <tr>\n",
       "      <th>e</th>\n",
       "      <td>NaN</td>\n",
       "      <td>10.0</td>\n",
       "    </tr>\n",
       "    <tr>\n",
       "      <th>g</th>\n",
       "      <td>5.0</td>\n",
       "      <td>NaN</td>\n",
       "    </tr>\n",
       "    <tr>\n",
       "      <th>f</th>\n",
       "      <td>1.0</td>\n",
       "      <td>2.0</td>\n",
       "    </tr>\n",
       "    <tr>\n",
       "      <th>h</th>\n",
       "      <td>1.0</td>\n",
       "      <td>6.0</td>\n",
       "    </tr>\n",
       "    <tr>\n",
       "      <th>i</th>\n",
       "      <td>2.0</td>\n",
       "      <td>7.0</td>\n",
       "    </tr>\n",
       "  </tbody>\n",
       "</table>\n",
       "</div>"
      ],
      "text/plain": [
       "   col1  col2\n",
       "a   1.0   6.0\n",
       "b   2.0   7.0\n",
       "d   1.0   2.0\n",
       "e   NaN  10.0\n",
       "g   5.0   NaN\n",
       "f   1.0   2.0\n",
       "h   1.0   6.0\n",
       "i   2.0   7.0"
      ]
     },
     "execution_count": 164,
     "metadata": {},
     "output_type": "execute_result"
    }
   ],
   "source": [
    "df.drop('c')"
   ]
  },
  {
   "cell_type": "code",
   "execution_count": 165,
   "metadata": {},
   "outputs": [
    {
     "data": {
      "text/html": [
       "<div>\n",
       "<style scoped>\n",
       "    .dataframe tbody tr th:only-of-type {\n",
       "        vertical-align: middle;\n",
       "    }\n",
       "\n",
       "    .dataframe tbody tr th {\n",
       "        vertical-align: top;\n",
       "    }\n",
       "\n",
       "    .dataframe thead th {\n",
       "        text-align: right;\n",
       "    }\n",
       "</style>\n",
       "<table border=\"1\" class=\"dataframe\">\n",
       "  <thead>\n",
       "    <tr style=\"text-align: right;\">\n",
       "      <th></th>\n",
       "      <th>col1</th>\n",
       "      <th>col2</th>\n",
       "    </tr>\n",
       "  </thead>\n",
       "  <tbody>\n",
       "    <tr>\n",
       "      <th>a</th>\n",
       "      <td>1.0</td>\n",
       "      <td>6.0</td>\n",
       "    </tr>\n",
       "    <tr>\n",
       "      <th>b</th>\n",
       "      <td>2.0</td>\n",
       "      <td>7.0</td>\n",
       "    </tr>\n",
       "    <tr>\n",
       "      <th>c</th>\n",
       "      <td>3.0</td>\n",
       "      <td>8.0</td>\n",
       "    </tr>\n",
       "    <tr>\n",
       "      <th>d</th>\n",
       "      <td>1.0</td>\n",
       "      <td>2.0</td>\n",
       "    </tr>\n",
       "    <tr>\n",
       "      <th>e</th>\n",
       "      <td>NaN</td>\n",
       "      <td>10.0</td>\n",
       "    </tr>\n",
       "    <tr>\n",
       "      <th>g</th>\n",
       "      <td>5.0</td>\n",
       "      <td>NaN</td>\n",
       "    </tr>\n",
       "    <tr>\n",
       "      <th>f</th>\n",
       "      <td>1.0</td>\n",
       "      <td>2.0</td>\n",
       "    </tr>\n",
       "    <tr>\n",
       "      <th>h</th>\n",
       "      <td>1.0</td>\n",
       "      <td>6.0</td>\n",
       "    </tr>\n",
       "    <tr>\n",
       "      <th>i</th>\n",
       "      <td>2.0</td>\n",
       "      <td>7.0</td>\n",
       "    </tr>\n",
       "  </tbody>\n",
       "</table>\n",
       "</div>"
      ],
      "text/plain": [
       "   col1  col2\n",
       "a   1.0   6.0\n",
       "b   2.0   7.0\n",
       "c   3.0   8.0\n",
       "d   1.0   2.0\n",
       "e   NaN  10.0\n",
       "g   5.0   NaN\n",
       "f   1.0   2.0\n",
       "h   1.0   6.0\n",
       "i   2.0   7.0"
      ]
     },
     "execution_count": 165,
     "metadata": {},
     "output_type": "execute_result"
    }
   ],
   "source": [
    "df"
   ]
  },
  {
   "cell_type": "code",
   "execution_count": 166,
   "metadata": {},
   "outputs": [],
   "source": [
    "df.drop('c', inplace=True)"
   ]
  },
  {
   "cell_type": "code",
   "execution_count": 167,
   "metadata": {},
   "outputs": [
    {
     "data": {
      "text/html": [
       "<div>\n",
       "<style scoped>\n",
       "    .dataframe tbody tr th:only-of-type {\n",
       "        vertical-align: middle;\n",
       "    }\n",
       "\n",
       "    .dataframe tbody tr th {\n",
       "        vertical-align: top;\n",
       "    }\n",
       "\n",
       "    .dataframe thead th {\n",
       "        text-align: right;\n",
       "    }\n",
       "</style>\n",
       "<table border=\"1\" class=\"dataframe\">\n",
       "  <thead>\n",
       "    <tr style=\"text-align: right;\">\n",
       "      <th></th>\n",
       "      <th>col1</th>\n",
       "      <th>col2</th>\n",
       "    </tr>\n",
       "  </thead>\n",
       "  <tbody>\n",
       "    <tr>\n",
       "      <th>a</th>\n",
       "      <td>1.0</td>\n",
       "      <td>6.0</td>\n",
       "    </tr>\n",
       "    <tr>\n",
       "      <th>b</th>\n",
       "      <td>2.0</td>\n",
       "      <td>7.0</td>\n",
       "    </tr>\n",
       "    <tr>\n",
       "      <th>d</th>\n",
       "      <td>1.0</td>\n",
       "      <td>2.0</td>\n",
       "    </tr>\n",
       "    <tr>\n",
       "      <th>e</th>\n",
       "      <td>NaN</td>\n",
       "      <td>10.0</td>\n",
       "    </tr>\n",
       "    <tr>\n",
       "      <th>g</th>\n",
       "      <td>5.0</td>\n",
       "      <td>NaN</td>\n",
       "    </tr>\n",
       "    <tr>\n",
       "      <th>f</th>\n",
       "      <td>1.0</td>\n",
       "      <td>2.0</td>\n",
       "    </tr>\n",
       "    <tr>\n",
       "      <th>h</th>\n",
       "      <td>1.0</td>\n",
       "      <td>6.0</td>\n",
       "    </tr>\n",
       "    <tr>\n",
       "      <th>i</th>\n",
       "      <td>2.0</td>\n",
       "      <td>7.0</td>\n",
       "    </tr>\n",
       "  </tbody>\n",
       "</table>\n",
       "</div>"
      ],
      "text/plain": [
       "   col1  col2\n",
       "a   1.0   6.0\n",
       "b   2.0   7.0\n",
       "d   1.0   2.0\n",
       "e   NaN  10.0\n",
       "g   5.0   NaN\n",
       "f   1.0   2.0\n",
       "h   1.0   6.0\n",
       "i   2.0   7.0"
      ]
     },
     "execution_count": 167,
     "metadata": {},
     "output_type": "execute_result"
    }
   ],
   "source": [
    "df"
   ]
  },
  {
   "cell_type": "code",
   "execution_count": 168,
   "metadata": {},
   "outputs": [
    {
     "ename": "KeyError",
     "evalue": "\"['col1'] not found in axis\"",
     "output_type": "error",
     "traceback": [
      "\u001b[1;31m---------------------------------------------------------------------------\u001b[0m",
      "\u001b[1;31mKeyError\u001b[0m                                  Traceback (most recent call last)",
      "\u001b[1;32m<ipython-input-168-1827a6319199>\u001b[0m in \u001b[0;36m<module>\u001b[1;34m\u001b[0m\n\u001b[1;32m----> 1\u001b[1;33m \u001b[0mdf\u001b[0m\u001b[1;33m.\u001b[0m\u001b[0mdrop\u001b[0m\u001b[1;33m(\u001b[0m\u001b[1;34m'col1'\u001b[0m\u001b[1;33m)\u001b[0m\u001b[1;33m\u001b[0m\u001b[1;33m\u001b[0m\u001b[0m\n\u001b[0m",
      "\u001b[1;32mC:\\ProgramData\\Anaconda3\\lib\\site-packages\\pandas\\core\\frame.py\u001b[0m in \u001b[0;36mdrop\u001b[1;34m(self, labels, axis, index, columns, level, inplace, errors)\u001b[0m\n\u001b[0;32m   3695\u001b[0m                                            \u001b[0mindex\u001b[0m\u001b[1;33m=\u001b[0m\u001b[0mindex\u001b[0m\u001b[1;33m,\u001b[0m \u001b[0mcolumns\u001b[0m\u001b[1;33m=\u001b[0m\u001b[0mcolumns\u001b[0m\u001b[1;33m,\u001b[0m\u001b[1;33m\u001b[0m\u001b[1;33m\u001b[0m\u001b[0m\n\u001b[0;32m   3696\u001b[0m                                            \u001b[0mlevel\u001b[0m\u001b[1;33m=\u001b[0m\u001b[0mlevel\u001b[0m\u001b[1;33m,\u001b[0m \u001b[0minplace\u001b[0m\u001b[1;33m=\u001b[0m\u001b[0minplace\u001b[0m\u001b[1;33m,\u001b[0m\u001b[1;33m\u001b[0m\u001b[1;33m\u001b[0m\u001b[0m\n\u001b[1;32m-> 3697\u001b[1;33m                                            errors=errors)\n\u001b[0m\u001b[0;32m   3698\u001b[0m \u001b[1;33m\u001b[0m\u001b[0m\n\u001b[0;32m   3699\u001b[0m     @rewrite_axis_style_signature('mapper', [('copy', True),\n",
      "\u001b[1;32mC:\\ProgramData\\Anaconda3\\lib\\site-packages\\pandas\\core\\generic.py\u001b[0m in \u001b[0;36mdrop\u001b[1;34m(self, labels, axis, index, columns, level, inplace, errors)\u001b[0m\n\u001b[0;32m   3109\u001b[0m         \u001b[1;32mfor\u001b[0m \u001b[0maxis\u001b[0m\u001b[1;33m,\u001b[0m \u001b[0mlabels\u001b[0m \u001b[1;32min\u001b[0m \u001b[0maxes\u001b[0m\u001b[1;33m.\u001b[0m\u001b[0mitems\u001b[0m\u001b[1;33m(\u001b[0m\u001b[1;33m)\u001b[0m\u001b[1;33m:\u001b[0m\u001b[1;33m\u001b[0m\u001b[1;33m\u001b[0m\u001b[0m\n\u001b[0;32m   3110\u001b[0m             \u001b[1;32mif\u001b[0m \u001b[0mlabels\u001b[0m \u001b[1;32mis\u001b[0m \u001b[1;32mnot\u001b[0m \u001b[1;32mNone\u001b[0m\u001b[1;33m:\u001b[0m\u001b[1;33m\u001b[0m\u001b[1;33m\u001b[0m\u001b[0m\n\u001b[1;32m-> 3111\u001b[1;33m                 \u001b[0mobj\u001b[0m \u001b[1;33m=\u001b[0m \u001b[0mobj\u001b[0m\u001b[1;33m.\u001b[0m\u001b[0m_drop_axis\u001b[0m\u001b[1;33m(\u001b[0m\u001b[0mlabels\u001b[0m\u001b[1;33m,\u001b[0m \u001b[0maxis\u001b[0m\u001b[1;33m,\u001b[0m \u001b[0mlevel\u001b[0m\u001b[1;33m=\u001b[0m\u001b[0mlevel\u001b[0m\u001b[1;33m,\u001b[0m \u001b[0merrors\u001b[0m\u001b[1;33m=\u001b[0m\u001b[0merrors\u001b[0m\u001b[1;33m)\u001b[0m\u001b[1;33m\u001b[0m\u001b[1;33m\u001b[0m\u001b[0m\n\u001b[0m\u001b[0;32m   3112\u001b[0m \u001b[1;33m\u001b[0m\u001b[0m\n\u001b[0;32m   3113\u001b[0m         \u001b[1;32mif\u001b[0m \u001b[0minplace\u001b[0m\u001b[1;33m:\u001b[0m\u001b[1;33m\u001b[0m\u001b[1;33m\u001b[0m\u001b[0m\n",
      "\u001b[1;32mC:\\ProgramData\\Anaconda3\\lib\\site-packages\\pandas\\core\\generic.py\u001b[0m in \u001b[0;36m_drop_axis\u001b[1;34m(self, labels, axis, level, errors)\u001b[0m\n\u001b[0;32m   3141\u001b[0m                 \u001b[0mnew_axis\u001b[0m \u001b[1;33m=\u001b[0m \u001b[0maxis\u001b[0m\u001b[1;33m.\u001b[0m\u001b[0mdrop\u001b[0m\u001b[1;33m(\u001b[0m\u001b[0mlabels\u001b[0m\u001b[1;33m,\u001b[0m \u001b[0mlevel\u001b[0m\u001b[1;33m=\u001b[0m\u001b[0mlevel\u001b[0m\u001b[1;33m,\u001b[0m \u001b[0merrors\u001b[0m\u001b[1;33m=\u001b[0m\u001b[0merrors\u001b[0m\u001b[1;33m)\u001b[0m\u001b[1;33m\u001b[0m\u001b[1;33m\u001b[0m\u001b[0m\n\u001b[0;32m   3142\u001b[0m             \u001b[1;32melse\u001b[0m\u001b[1;33m:\u001b[0m\u001b[1;33m\u001b[0m\u001b[1;33m\u001b[0m\u001b[0m\n\u001b[1;32m-> 3143\u001b[1;33m                 \u001b[0mnew_axis\u001b[0m \u001b[1;33m=\u001b[0m \u001b[0maxis\u001b[0m\u001b[1;33m.\u001b[0m\u001b[0mdrop\u001b[0m\u001b[1;33m(\u001b[0m\u001b[0mlabels\u001b[0m\u001b[1;33m,\u001b[0m \u001b[0merrors\u001b[0m\u001b[1;33m=\u001b[0m\u001b[0merrors\u001b[0m\u001b[1;33m)\u001b[0m\u001b[1;33m\u001b[0m\u001b[1;33m\u001b[0m\u001b[0m\n\u001b[0m\u001b[0;32m   3144\u001b[0m             \u001b[0mresult\u001b[0m \u001b[1;33m=\u001b[0m \u001b[0mself\u001b[0m\u001b[1;33m.\u001b[0m\u001b[0mreindex\u001b[0m\u001b[1;33m(\u001b[0m\u001b[1;33m**\u001b[0m\u001b[1;33m{\u001b[0m\u001b[0maxis_name\u001b[0m\u001b[1;33m:\u001b[0m \u001b[0mnew_axis\u001b[0m\u001b[1;33m}\u001b[0m\u001b[1;33m)\u001b[0m\u001b[1;33m\u001b[0m\u001b[1;33m\u001b[0m\u001b[0m\n\u001b[0;32m   3145\u001b[0m \u001b[1;33m\u001b[0m\u001b[0m\n",
      "\u001b[1;32mC:\\ProgramData\\Anaconda3\\lib\\site-packages\\pandas\\core\\indexes\\base.py\u001b[0m in \u001b[0;36mdrop\u001b[1;34m(self, labels, errors)\u001b[0m\n\u001b[0;32m   4402\u001b[0m             \u001b[1;32mif\u001b[0m \u001b[0merrors\u001b[0m \u001b[1;33m!=\u001b[0m \u001b[1;34m'ignore'\u001b[0m\u001b[1;33m:\u001b[0m\u001b[1;33m\u001b[0m\u001b[1;33m\u001b[0m\u001b[0m\n\u001b[0;32m   4403\u001b[0m                 raise KeyError(\n\u001b[1;32m-> 4404\u001b[1;33m                     '{} not found in axis'.format(labels[mask]))\n\u001b[0m\u001b[0;32m   4405\u001b[0m             \u001b[0mindexer\u001b[0m \u001b[1;33m=\u001b[0m \u001b[0mindexer\u001b[0m\u001b[1;33m[\u001b[0m\u001b[1;33m~\u001b[0m\u001b[0mmask\u001b[0m\u001b[1;33m]\u001b[0m\u001b[1;33m\u001b[0m\u001b[1;33m\u001b[0m\u001b[0m\n\u001b[0;32m   4406\u001b[0m         \u001b[1;32mreturn\u001b[0m \u001b[0mself\u001b[0m\u001b[1;33m.\u001b[0m\u001b[0mdelete\u001b[0m\u001b[1;33m(\u001b[0m\u001b[0mindexer\u001b[0m\u001b[1;33m)\u001b[0m\u001b[1;33m\u001b[0m\u001b[1;33m\u001b[0m\u001b[0m\n",
      "\u001b[1;31mKeyError\u001b[0m: \"['col1'] not found in axis\""
     ]
    }
   ],
   "source": [
    "df.drop('col1')"
   ]
  },
  {
   "cell_type": "code",
   "execution_count": 169,
   "metadata": {},
   "outputs": [
    {
     "data": {
      "text/html": [
       "<div>\n",
       "<style scoped>\n",
       "    .dataframe tbody tr th:only-of-type {\n",
       "        vertical-align: middle;\n",
       "    }\n",
       "\n",
       "    .dataframe tbody tr th {\n",
       "        vertical-align: top;\n",
       "    }\n",
       "\n",
       "    .dataframe thead th {\n",
       "        text-align: right;\n",
       "    }\n",
       "</style>\n",
       "<table border=\"1\" class=\"dataframe\">\n",
       "  <thead>\n",
       "    <tr style=\"text-align: right;\">\n",
       "      <th></th>\n",
       "      <th>col2</th>\n",
       "    </tr>\n",
       "  </thead>\n",
       "  <tbody>\n",
       "    <tr>\n",
       "      <th>a</th>\n",
       "      <td>6.0</td>\n",
       "    </tr>\n",
       "    <tr>\n",
       "      <th>b</th>\n",
       "      <td>7.0</td>\n",
       "    </tr>\n",
       "    <tr>\n",
       "      <th>d</th>\n",
       "      <td>2.0</td>\n",
       "    </tr>\n",
       "    <tr>\n",
       "      <th>e</th>\n",
       "      <td>10.0</td>\n",
       "    </tr>\n",
       "    <tr>\n",
       "      <th>g</th>\n",
       "      <td>NaN</td>\n",
       "    </tr>\n",
       "    <tr>\n",
       "      <th>f</th>\n",
       "      <td>2.0</td>\n",
       "    </tr>\n",
       "    <tr>\n",
       "      <th>h</th>\n",
       "      <td>6.0</td>\n",
       "    </tr>\n",
       "    <tr>\n",
       "      <th>i</th>\n",
       "      <td>7.0</td>\n",
       "    </tr>\n",
       "  </tbody>\n",
       "</table>\n",
       "</div>"
      ],
      "text/plain": [
       "   col2\n",
       "a   6.0\n",
       "b   7.0\n",
       "d   2.0\n",
       "e  10.0\n",
       "g   NaN\n",
       "f   2.0\n",
       "h   6.0\n",
       "i   7.0"
      ]
     },
     "execution_count": 169,
     "metadata": {},
     "output_type": "execute_result"
    }
   ],
   "source": [
    "df.drop('col1', axis=1)"
   ]
  },
  {
   "cell_type": "code",
   "execution_count": 170,
   "metadata": {},
   "outputs": [
    {
     "data": {
      "text/html": [
       "<div>\n",
       "<style scoped>\n",
       "    .dataframe tbody tr th:only-of-type {\n",
       "        vertical-align: middle;\n",
       "    }\n",
       "\n",
       "    .dataframe tbody tr th {\n",
       "        vertical-align: top;\n",
       "    }\n",
       "\n",
       "    .dataframe thead th {\n",
       "        text-align: right;\n",
       "    }\n",
       "</style>\n",
       "<table border=\"1\" class=\"dataframe\">\n",
       "  <thead>\n",
       "    <tr style=\"text-align: right;\">\n",
       "      <th></th>\n",
       "      <th>col1</th>\n",
       "      <th>col2</th>\n",
       "    </tr>\n",
       "  </thead>\n",
       "  <tbody>\n",
       "    <tr>\n",
       "      <th>a</th>\n",
       "      <td>1.0</td>\n",
       "      <td>6.0</td>\n",
       "    </tr>\n",
       "    <tr>\n",
       "      <th>b</th>\n",
       "      <td>2.0</td>\n",
       "      <td>7.0</td>\n",
       "    </tr>\n",
       "    <tr>\n",
       "      <th>d</th>\n",
       "      <td>1.0</td>\n",
       "      <td>2.0</td>\n",
       "    </tr>\n",
       "    <tr>\n",
       "      <th>e</th>\n",
       "      <td>NaN</td>\n",
       "      <td>10.0</td>\n",
       "    </tr>\n",
       "    <tr>\n",
       "      <th>g</th>\n",
       "      <td>5.0</td>\n",
       "      <td>NaN</td>\n",
       "    </tr>\n",
       "    <tr>\n",
       "      <th>f</th>\n",
       "      <td>1.0</td>\n",
       "      <td>2.0</td>\n",
       "    </tr>\n",
       "    <tr>\n",
       "      <th>h</th>\n",
       "      <td>1.0</td>\n",
       "      <td>6.0</td>\n",
       "    </tr>\n",
       "    <tr>\n",
       "      <th>i</th>\n",
       "      <td>2.0</td>\n",
       "      <td>7.0</td>\n",
       "    </tr>\n",
       "  </tbody>\n",
       "</table>\n",
       "</div>"
      ],
      "text/plain": [
       "   col1  col2\n",
       "a   1.0   6.0\n",
       "b   2.0   7.0\n",
       "d   1.0   2.0\n",
       "e   NaN  10.0\n",
       "g   5.0   NaN\n",
       "f   1.0   2.0\n",
       "h   1.0   6.0\n",
       "i   2.0   7.0"
      ]
     },
     "execution_count": 170,
     "metadata": {},
     "output_type": "execute_result"
    }
   ],
   "source": [
    "df"
   ]
  },
  {
   "cell_type": "code",
   "execution_count": 173,
   "metadata": {},
   "outputs": [
    {
     "data": {
      "text/html": [
       "<div>\n",
       "<style scoped>\n",
       "    .dataframe tbody tr th:only-of-type {\n",
       "        vertical-align: middle;\n",
       "    }\n",
       "\n",
       "    .dataframe tbody tr th {\n",
       "        vertical-align: top;\n",
       "    }\n",
       "\n",
       "    .dataframe thead th {\n",
       "        text-align: right;\n",
       "    }\n",
       "</style>\n",
       "<table border=\"1\" class=\"dataframe\">\n",
       "  <thead>\n",
       "    <tr style=\"text-align: right;\">\n",
       "      <th></th>\n",
       "      <th>col1</th>\n",
       "      <th>col2</th>\n",
       "    </tr>\n",
       "  </thead>\n",
       "  <tbody>\n",
       "    <tr>\n",
       "      <th>a</th>\n",
       "      <td>1.0</td>\n",
       "      <td>6.0</td>\n",
       "    </tr>\n",
       "    <tr>\n",
       "      <th>b</th>\n",
       "      <td>2.0</td>\n",
       "      <td>7.0</td>\n",
       "    </tr>\n",
       "  </tbody>\n",
       "</table>\n",
       "</div>"
      ],
      "text/plain": [
       "   col1  col2\n",
       "a   1.0   6.0\n",
       "b   2.0   7.0"
      ]
     },
     "execution_count": 173,
     "metadata": {},
     "output_type": "execute_result"
    }
   ],
   "source": [
    "df.loc[['a','b']]"
   ]
  },
  {
   "cell_type": "code",
   "execution_count": 175,
   "metadata": {},
   "outputs": [
    {
     "data": {
      "text/html": [
       "<div>\n",
       "<style scoped>\n",
       "    .dataframe tbody tr th:only-of-type {\n",
       "        vertical-align: middle;\n",
       "    }\n",
       "\n",
       "    .dataframe tbody tr th {\n",
       "        vertical-align: top;\n",
       "    }\n",
       "\n",
       "    .dataframe thead th {\n",
       "        text-align: right;\n",
       "    }\n",
       "</style>\n",
       "<table border=\"1\" class=\"dataframe\">\n",
       "  <thead>\n",
       "    <tr style=\"text-align: right;\">\n",
       "      <th></th>\n",
       "      <th>col1</th>\n",
       "      <th>col2</th>\n",
       "    </tr>\n",
       "  </thead>\n",
       "  <tbody>\n",
       "    <tr>\n",
       "      <th>a</th>\n",
       "      <td>1.0</td>\n",
       "      <td>6.0</td>\n",
       "    </tr>\n",
       "    <tr>\n",
       "      <th>b</th>\n",
       "      <td>2.0</td>\n",
       "      <td>7.0</td>\n",
       "    </tr>\n",
       "    <tr>\n",
       "      <th>d</th>\n",
       "      <td>1.0</td>\n",
       "      <td>2.0</td>\n",
       "    </tr>\n",
       "    <tr>\n",
       "      <th>e</th>\n",
       "      <td>NaN</td>\n",
       "      <td>10.0</td>\n",
       "    </tr>\n",
       "  </tbody>\n",
       "</table>\n",
       "</div>"
      ],
      "text/plain": [
       "   col1  col2\n",
       "a   1.0   6.0\n",
       "b   2.0   7.0\n",
       "d   1.0   2.0\n",
       "e   NaN  10.0"
      ]
     },
     "execution_count": 175,
     "metadata": {},
     "output_type": "execute_result"
    }
   ],
   "source": [
    "df.loc[['a','b','d','e']]"
   ]
  },
  {
   "cell_type": "code",
   "execution_count": 177,
   "metadata": {},
   "outputs": [
    {
     "data": {
      "text/html": [
       "<div>\n",
       "<style scoped>\n",
       "    .dataframe tbody tr th:only-of-type {\n",
       "        vertical-align: middle;\n",
       "    }\n",
       "\n",
       "    .dataframe tbody tr th {\n",
       "        vertical-align: top;\n",
       "    }\n",
       "\n",
       "    .dataframe thead th {\n",
       "        text-align: right;\n",
       "    }\n",
       "</style>\n",
       "<table border=\"1\" class=\"dataframe\">\n",
       "  <thead>\n",
       "    <tr style=\"text-align: right;\">\n",
       "      <th></th>\n",
       "      <th>col1</th>\n",
       "      <th>col2</th>\n",
       "    </tr>\n",
       "  </thead>\n",
       "  <tbody>\n",
       "    <tr>\n",
       "      <th>a</th>\n",
       "      <td>1.0</td>\n",
       "      <td>6.0</td>\n",
       "    </tr>\n",
       "    <tr>\n",
       "      <th>e</th>\n",
       "      <td>NaN</td>\n",
       "      <td>10.0</td>\n",
       "    </tr>\n",
       "    <tr>\n",
       "      <th>d</th>\n",
       "      <td>1.0</td>\n",
       "      <td>2.0</td>\n",
       "    </tr>\n",
       "    <tr>\n",
       "      <th>b</th>\n",
       "      <td>2.0</td>\n",
       "      <td>7.0</td>\n",
       "    </tr>\n",
       "  </tbody>\n",
       "</table>\n",
       "</div>"
      ],
      "text/plain": [
       "   col1  col2\n",
       "a   1.0   6.0\n",
       "e   NaN  10.0\n",
       "d   1.0   2.0\n",
       "b   2.0   7.0"
      ]
     },
     "execution_count": 177,
     "metadata": {},
     "output_type": "execute_result"
    }
   ],
   "source": [
    "df.loc[['a','e','d','b']]"
   ]
  },
  {
   "cell_type": "code",
   "execution_count": 205,
   "metadata": {},
   "outputs": [],
   "source": [
    "a= np.linspace(1,500,500)"
   ]
  },
  {
   "cell_type": "code",
   "execution_count": 206,
   "metadata": {},
   "outputs": [
    {
     "data": {
      "text/plain": [
       "(500,)"
      ]
     },
     "execution_count": 206,
     "metadata": {},
     "output_type": "execute_result"
    }
   ],
   "source": [
    "a.shape"
   ]
  },
  {
   "cell_type": "code",
   "execution_count": 207,
   "metadata": {},
   "outputs": [
    {
     "name": "stdout",
     "output_type": "stream",
     "text": [
      "0 1.0\n"
     ]
    }
   ],
   "source": [
    "for i, row in enumerate(a):\n",
    "    print(i, row)\n",
    "    break"
   ]
  },
  {
   "cell_type": "code",
   "execution_count": 208,
   "metadata": {},
   "outputs": [
    {
     "data": {
      "text/plain": [
       "(100, 5)"
      ]
     },
     "execution_count": 208,
     "metadata": {},
     "output_type": "execute_result"
    }
   ],
   "source": [
    "a=a.reshape(100,5)\n",
    "a.shape"
   ]
  },
  {
   "cell_type": "code",
   "execution_count": 209,
   "metadata": {},
   "outputs": [
    {
     "name": "stdout",
     "output_type": "stream",
     "text": [
      "0 [1. 2. 3. 4. 5.]\n"
     ]
    }
   ],
   "source": [
    "for i, row in enumerate(a):\n",
    "    print(i, row)\n",
    "    break"
   ]
  },
  {
   "cell_type": "code",
   "execution_count": 182,
   "metadata": {},
   "outputs": [
    {
     "data": {
      "text/plain": [
       "(100, 5)"
      ]
     },
     "execution_count": 182,
     "metadata": {},
     "output_type": "execute_result"
    }
   ],
   "source": [
    "a.shape"
   ]
  },
  {
   "cell_type": "code",
   "execution_count": 188,
   "metadata": {},
   "outputs": [],
   "source": [
    "df = pd.DataFrame(a, columns=['a', 'b', 'c', 'd', 'e'])"
   ]
  },
  {
   "cell_type": "code",
   "execution_count": 189,
   "metadata": {},
   "outputs": [
    {
     "name": "stdout",
     "output_type": "stream",
     "text": [
      "<class 'pandas.core.frame.DataFrame'>\n",
      "RangeIndex: 100 entries, 0 to 99\n",
      "Data columns (total 5 columns):\n",
      "a    100 non-null float64\n",
      "b    100 non-null float64\n",
      "c    100 non-null float64\n",
      "d    100 non-null float64\n",
      "e    100 non-null float64\n",
      "dtypes: float64(5)\n",
      "memory usage: 4.0 KB\n"
     ]
    }
   ],
   "source": [
    "df.info()"
   ]
  },
  {
   "cell_type": "code",
   "execution_count": 192,
   "metadata": {},
   "outputs": [
    {
     "data": {
      "text/html": [
       "<div>\n",
       "<style scoped>\n",
       "    .dataframe tbody tr th:only-of-type {\n",
       "        vertical-align: middle;\n",
       "    }\n",
       "\n",
       "    .dataframe tbody tr th {\n",
       "        vertical-align: top;\n",
       "    }\n",
       "\n",
       "    .dataframe thead th {\n",
       "        text-align: right;\n",
       "    }\n",
       "</style>\n",
       "<table border=\"1\" class=\"dataframe\">\n",
       "  <thead>\n",
       "    <tr style=\"text-align: right;\">\n",
       "      <th></th>\n",
       "      <th>a</th>\n",
       "      <th>b</th>\n",
       "      <th>c</th>\n",
       "      <th>d</th>\n",
       "      <th>e</th>\n",
       "    </tr>\n",
       "  </thead>\n",
       "  <tbody>\n",
       "    <tr>\n",
       "      <th>0</th>\n",
       "      <td>1.0</td>\n",
       "      <td>2.0</td>\n",
       "      <td>3.0</td>\n",
       "      <td>4.0</td>\n",
       "      <td>5.0</td>\n",
       "    </tr>\n",
       "    <tr>\n",
       "      <th>1</th>\n",
       "      <td>6.0</td>\n",
       "      <td>7.0</td>\n",
       "      <td>8.0</td>\n",
       "      <td>9.0</td>\n",
       "      <td>10.0</td>\n",
       "    </tr>\n",
       "    <tr>\n",
       "      <th>2</th>\n",
       "      <td>11.0</td>\n",
       "      <td>12.0</td>\n",
       "      <td>13.0</td>\n",
       "      <td>14.0</td>\n",
       "      <td>15.0</td>\n",
       "    </tr>\n",
       "    <tr>\n",
       "      <th>3</th>\n",
       "      <td>16.0</td>\n",
       "      <td>17.0</td>\n",
       "      <td>18.0</td>\n",
       "      <td>19.0</td>\n",
       "      <td>20.0</td>\n",
       "    </tr>\n",
       "    <tr>\n",
       "      <th>4</th>\n",
       "      <td>21.0</td>\n",
       "      <td>22.0</td>\n",
       "      <td>23.0</td>\n",
       "      <td>24.0</td>\n",
       "      <td>25.0</td>\n",
       "    </tr>\n",
       "  </tbody>\n",
       "</table>\n",
       "</div>"
      ],
      "text/plain": [
       "      a     b     c     d     e\n",
       "0   1.0   2.0   3.0   4.0   5.0\n",
       "1   6.0   7.0   8.0   9.0  10.0\n",
       "2  11.0  12.0  13.0  14.0  15.0\n",
       "3  16.0  17.0  18.0  19.0  20.0\n",
       "4  21.0  22.0  23.0  24.0  25.0"
      ]
     },
     "execution_count": 192,
     "metadata": {},
     "output_type": "execute_result"
    }
   ],
   "source": [
    "df.head()"
   ]
  },
  {
   "cell_type": "code",
   "execution_count": 195,
   "metadata": {},
   "outputs": [
    {
     "data": {
      "text/html": [
       "<div>\n",
       "<style scoped>\n",
       "    .dataframe tbody tr th:only-of-type {\n",
       "        vertical-align: middle;\n",
       "    }\n",
       "\n",
       "    .dataframe tbody tr th {\n",
       "        vertical-align: top;\n",
       "    }\n",
       "\n",
       "    .dataframe thead th {\n",
       "        text-align: right;\n",
       "    }\n",
       "</style>\n",
       "<table border=\"1\" class=\"dataframe\">\n",
       "  <thead>\n",
       "    <tr style=\"text-align: right;\">\n",
       "      <th></th>\n",
       "      <th>a</th>\n",
       "      <th>b</th>\n",
       "      <th>c</th>\n",
       "      <th>d</th>\n",
       "      <th>e</th>\n",
       "    </tr>\n",
       "  </thead>\n",
       "  <tbody>\n",
       "    <tr>\n",
       "      <th>95</th>\n",
       "      <td>476.0</td>\n",
       "      <td>477.0</td>\n",
       "      <td>478.0</td>\n",
       "      <td>479.0</td>\n",
       "      <td>480.0</td>\n",
       "    </tr>\n",
       "    <tr>\n",
       "      <th>96</th>\n",
       "      <td>481.0</td>\n",
       "      <td>482.0</td>\n",
       "      <td>483.0</td>\n",
       "      <td>484.0</td>\n",
       "      <td>485.0</td>\n",
       "    </tr>\n",
       "    <tr>\n",
       "      <th>97</th>\n",
       "      <td>486.0</td>\n",
       "      <td>487.0</td>\n",
       "      <td>488.0</td>\n",
       "      <td>489.0</td>\n",
       "      <td>490.0</td>\n",
       "    </tr>\n",
       "    <tr>\n",
       "      <th>98</th>\n",
       "      <td>491.0</td>\n",
       "      <td>492.0</td>\n",
       "      <td>493.0</td>\n",
       "      <td>494.0</td>\n",
       "      <td>495.0</td>\n",
       "    </tr>\n",
       "    <tr>\n",
       "      <th>99</th>\n",
       "      <td>496.0</td>\n",
       "      <td>497.0</td>\n",
       "      <td>498.0</td>\n",
       "      <td>499.0</td>\n",
       "      <td>500.0</td>\n",
       "    </tr>\n",
       "  </tbody>\n",
       "</table>\n",
       "</div>"
      ],
      "text/plain": [
       "        a      b      c      d      e\n",
       "95  476.0  477.0  478.0  479.0  480.0\n",
       "96  481.0  482.0  483.0  484.0  485.0\n",
       "97  486.0  487.0  488.0  489.0  490.0\n",
       "98  491.0  492.0  493.0  494.0  495.0\n",
       "99  496.0  497.0  498.0  499.0  500.0"
      ]
     },
     "execution_count": 195,
     "metadata": {},
     "output_type": "execute_result"
    }
   ],
   "source": [
    "df.tail()"
   ]
  },
  {
   "cell_type": "code",
   "execution_count": 199,
   "metadata": {},
   "outputs": [],
   "source": [
    "df.to_csv('array.csv', index=None)"
   ]
  },
  {
   "cell_type": "code",
   "execution_count": 200,
   "metadata": {},
   "outputs": [],
   "source": [
    "df_1 = pd.read_csv('array.csv')"
   ]
  },
  {
   "cell_type": "code",
   "execution_count": 202,
   "metadata": {},
   "outputs": [
    {
     "data": {
      "text/html": [
       "<div>\n",
       "<style scoped>\n",
       "    .dataframe tbody tr th:only-of-type {\n",
       "        vertical-align: middle;\n",
       "    }\n",
       "\n",
       "    .dataframe tbody tr th {\n",
       "        vertical-align: top;\n",
       "    }\n",
       "\n",
       "    .dataframe thead th {\n",
       "        text-align: right;\n",
       "    }\n",
       "</style>\n",
       "<table border=\"1\" class=\"dataframe\">\n",
       "  <thead>\n",
       "    <tr style=\"text-align: right;\">\n",
       "      <th></th>\n",
       "      <th>a</th>\n",
       "      <th>b</th>\n",
       "      <th>c</th>\n",
       "      <th>d</th>\n",
       "      <th>e</th>\n",
       "    </tr>\n",
       "  </thead>\n",
       "  <tbody>\n",
       "    <tr>\n",
       "      <th>0</th>\n",
       "      <td>1.0</td>\n",
       "      <td>2.0</td>\n",
       "      <td>3.0</td>\n",
       "      <td>4.0</td>\n",
       "      <td>5.0</td>\n",
       "    </tr>\n",
       "    <tr>\n",
       "      <th>1</th>\n",
       "      <td>6.0</td>\n",
       "      <td>7.0</td>\n",
       "      <td>8.0</td>\n",
       "      <td>9.0</td>\n",
       "      <td>10.0</td>\n",
       "    </tr>\n",
       "    <tr>\n",
       "      <th>2</th>\n",
       "      <td>11.0</td>\n",
       "      <td>12.0</td>\n",
       "      <td>13.0</td>\n",
       "      <td>14.0</td>\n",
       "      <td>15.0</td>\n",
       "    </tr>\n",
       "    <tr>\n",
       "      <th>3</th>\n",
       "      <td>16.0</td>\n",
       "      <td>17.0</td>\n",
       "      <td>18.0</td>\n",
       "      <td>19.0</td>\n",
       "      <td>20.0</td>\n",
       "    </tr>\n",
       "    <tr>\n",
       "      <th>4</th>\n",
       "      <td>21.0</td>\n",
       "      <td>22.0</td>\n",
       "      <td>23.0</td>\n",
       "      <td>24.0</td>\n",
       "      <td>25.0</td>\n",
       "    </tr>\n",
       "  </tbody>\n",
       "</table>\n",
       "</div>"
      ],
      "text/plain": [
       "      a     b     c     d     e\n",
       "0   1.0   2.0   3.0   4.0   5.0\n",
       "1   6.0   7.0   8.0   9.0  10.0\n",
       "2  11.0  12.0  13.0  14.0  15.0\n",
       "3  16.0  17.0  18.0  19.0  20.0\n",
       "4  21.0  22.0  23.0  24.0  25.0"
      ]
     },
     "execution_count": 202,
     "metadata": {},
     "output_type": "execute_result"
    }
   ],
   "source": [
    "df_1.head()"
   ]
  },
  {
   "cell_type": "code",
   "execution_count": 211,
   "metadata": {},
   "outputs": [],
   "source": [
    "#matplotlib -> matlab(mathlab)\n",
    "import matplotlib.pyplot as plt"
   ]
  },
  {
   "cell_type": "code",
   "execution_count": 213,
   "metadata": {},
   "outputs": [
    {
     "data": {
      "image/png": "[encoded data removed]",
      "text/plain": [
       "<Figure size 432x288 with 1 Axes>"
      ]
     },
     "metadata": {
      "needs_background": "light"
     },
     "output_type": "display_data"
    }
   ],
   "source": [
    "x=[1,2,3,4]\n",
    "y=[1,2,3,4]\n",
    "plt.plot(x,y)\n",
    "plt.show()"
   ]
  },
  {
   "cell_type": "code",
   "execution_count": 214,
   "metadata": {},
   "outputs": [
    {
     "data": {
      "image/png": "[encoded data removed]",
      "text/plain": [
       "<Figure size 432x288 with 1 Axes>"
      ]
     },
     "metadata": {
      "needs_background": "light"
     },
     "output_type": "display_data"
    }
   ],
   "source": [
    "x=[1,2,3,4]\n",
    "y=[2.5,1.5,3,4]\n",
    "plt.plot(x,y)\n",
    "plt.show()"
   ]
  },
  {
   "cell_type": "code",
   "execution_count": 216,
   "metadata": {},
   "outputs": [
    {
     "data": {
      "image/png": "[encoded data removed]",
      "text/plain": [
       "<Figure size 432x288 with 1 Axes>"
      ]
     },
     "metadata": {
      "needs_background": "light"
     },
     "output_type": "display_data"
    }
   ],
   "source": [
    "y=[1,2,3,4]\n",
    "x=[0,1,2,3]\n",
    "plt.plot(x,y)\n",
    "plt.show()"
   ]
  },
  {
   "cell_type": "code",
   "execution_count": 217,
   "metadata": {},
   "outputs": [
    {
     "data": {
      "image/png": "[encoded data removed]",
      "text/plain": [
       "<Figure size 432x288 with 1 Axes>"
      ]
     },
     "metadata": {
      "needs_background": "light"
     },
     "output_type": "display_data"
    }
   ],
   "source": [
    "y=[1,2,3,4]\n",
    "plt.plot(y)\n",
    "plt.show()"
   ]
  },
  {
   "cell_type": "code",
   "execution_count": 220,
   "metadata": {},
   "outputs": [],
   "source": [
    "x=np.linspace(1,100,10)"
   ]
  },
  {
   "cell_type": "code",
   "execution_count": 223,
   "metadata": {},
   "outputs": [
    {
     "data": {
      "text/plain": [
       "array([1.000e+00, 1.440e+02, 5.290e+02, 1.156e+03, 2.025e+03, 3.136e+03,\n",
       "       4.489e+03, 6.084e+03, 7.921e+03, 1.000e+04])"
      ]
     },
     "execution_count": 223,
     "metadata": {},
     "output_type": "execute_result"
    }
   ],
   "source": [
    "x*x"
   ]
  },
  {
   "cell_type": "code",
   "execution_count": 225,
   "metadata": {},
   "outputs": [
    {
     "data": {
      "image/png": "[encoded data removed]",
      "text/plain": [
       "<Figure size 432x288 with 1 Axes>"
      ]
     },
     "metadata": {
      "needs_background": "light"
     },
     "output_type": "display_data"
    }
   ],
   "source": [
    "x=np.linspace(1,100,100)\n",
    "y=x*x\n",
    "plt.plot(x,y)\n",
    "y=x*x*x\n",
    "plt.plot(x,y)\n",
    "plt.show()"
   ]
  },
  {
   "cell_type": "code",
   "execution_count": 227,
   "metadata": {},
   "outputs": [
    {
     "data": {
      "image/png": "[encoded data removed]",
      "text/plain": [
       "<Figure size 432x288 with 1 Axes>"
      ]
     },
     "metadata": {
      "needs_background": "light"
     },
     "output_type": "display_data"
    }
   ],
   "source": [
    "x=np.linspace(1,100,100)\n",
    "y=x*x\n",
    "plt.plot(x,y)\n",
    "plt.grid()\n",
    "plt.show()"
   ]
  },
  {
   "cell_type": "code",
   "execution_count": 233,
   "metadata": {},
   "outputs": [
    {
     "data": {
      "image/png": "[encoded data removed]",
      "text/plain": [
       "<Figure size 432x288 with 1 Axes>"
      ]
     },
     "metadata": {
      "needs_background": "light"
     },
     "output_type": "display_data"
    }
   ],
   "source": [
    "x=np.linspace(1,100,100)\n",
    "y=x*x\n",
    "plt.plot(x,y)\n",
    "y=x*x*x\n",
    "plt.plot(x,y)\n",
    "plt.axis([0,10,0,100])\n",
    "plt.show()"
   ]
  },
  {
   "cell_type": "code",
   "execution_count": 235,
   "metadata": {},
   "outputs": [
    {
     "data": {
      "image/png": "[encoded data removed]",
      "text/plain": [
       "<Figure size 432x288 with 1 Axes>"
      ]
     },
     "metadata": {
      "needs_background": "light"
     },
     "output_type": "display_data"
    }
   ],
   "source": [
    "x=np.linspace(1,100,100)\n",
    "y=x*x\n",
    "plt.plot(x,y)\n",
    "y=x*x*x\n",
    "plt.plot(x,y)\n",
    "plt.xlim(0,10)\n",
    "plt.ylim(0,100)\n",
    "plt.show()"
   ]
  },
  {
   "cell_type": "code",
   "execution_count": 239,
   "metadata": {},
   "outputs": [],
   "source": [
    "y=np.random.randn(100)"
   ]
  },
  {
   "cell_type": "code",
   "execution_count": 241,
   "metadata": {},
   "outputs": [
    {
     "data": {
      "image/png": "[encoded data removed]",
      "text/plain": [
       "<Figure size 432x288 with 1 Axes>"
      ]
     },
     "metadata": {
      "needs_background": "light"
     },
     "output_type": "display_data"
    }
   ],
   "source": [
    "plt.hist(y)\n",
    "plt.show()"
   ]
  },
  {
   "cell_type": "code",
   "execution_count": 244,
   "metadata": {},
   "outputs": [
    {
     "data": {
      "image/png": "[encoded data removed]",
      "text/plain": [
       "<Figure size 432x288 with 1 Axes>"
      ]
     },
     "metadata": {
      "needs_background": "light"
     },
     "output_type": "display_data"
    }
   ],
   "source": [
    "plt.hist(y,bins=20)\n",
    "plt.show()"
   ]
  },
  {
   "cell_type": "code",
   "execution_count": 245,
   "metadata": {},
   "outputs": [],
   "source": [
    "cities=['Delhi', 'Mumbai', 'Kolkata']\n",
    "sales_of_car = [100, 300, 80]"
   ]
  },
  {
   "cell_type": "code",
   "execution_count": 247,
   "metadata": {},
   "outputs": [
    {
     "data": {
      "image/png": "[encoded data removed]",
      "text/plain": [
       "<Figure size 432x288 with 1 Axes>"
      ]
     },
     "metadata": {},
     "output_type": "display_data"
    }
   ],
   "source": [
    "plt.pie(sales_of_car, labels=cities)\n",
    "plt.show()"
   ]
  },
  {
   "cell_type": "code",
   "execution_count": 251,
   "metadata": {},
   "outputs": [
    {
     "data": {
      "image/png": "[encoded data removed]",
      "text/plain": [
       "<Figure size 432x288 with 1 Axes>"
      ]
     },
     "metadata": {
      "needs_background": "light"
     },
     "output_type": "display_data"
    }
   ],
   "source": [
    "x=np.linspace(1,100,100)\n",
    "y=x*x\n",
    "plt.plot(x,y, '*')\n",
    "plt.xlim(0,10)\n",
    "plt.ylim(0,100)\n",
    "plt.show()"
   ]
  },
  {
   "cell_type": "code",
   "execution_count": 253,
   "metadata": {},
   "outputs": [
    {
     "data": {
      "text/plain": [
       "[RangeIndex(start=0, stop=100, step=1),\n",
       " Index(['a', 'b', 'c', 'd', 'e'], dtype='object')]"
      ]
     },
     "execution_count": 253,
     "metadata": {},
     "output_type": "execute_result"
    }
   ],
   "source": [
    "df.axes"
   ]
  },
  {
   "cell_type": "code",
   "execution_count": 254,
   "metadata": {},
   "outputs": [
    {
     "data": {
      "text/html": [
       "<div>\n",
       "<style scoped>\n",
       "    .dataframe tbody tr th:only-of-type {\n",
       "        vertical-align: middle;\n",
       "    }\n",
       "\n",
       "    .dataframe tbody tr th {\n",
       "        vertical-align: top;\n",
       "    }\n",
       "\n",
       "    .dataframe thead th {\n",
       "        text-align: right;\n",
       "    }\n",
       "</style>\n",
       "<table border=\"1\" class=\"dataframe\">\n",
       "  <thead>\n",
       "    <tr style=\"text-align: right;\">\n",
       "      <th></th>\n",
       "      <th>a</th>\n",
       "      <th>b</th>\n",
       "      <th>c</th>\n",
       "      <th>d</th>\n",
       "      <th>e</th>\n",
       "    </tr>\n",
       "  </thead>\n",
       "  <tbody>\n",
       "    <tr>\n",
       "      <th>0</th>\n",
       "      <td>1.0</td>\n",
       "      <td>2.0</td>\n",
       "      <td>3.0</td>\n",
       "      <td>4.0</td>\n",
       "      <td>5.0</td>\n",
       "    </tr>\n",
       "    <tr>\n",
       "      <th>1</th>\n",
       "      <td>6.0</td>\n",
       "      <td>7.0</td>\n",
       "      <td>8.0</td>\n",
       "      <td>9.0</td>\n",
       "      <td>10.0</td>\n",
       "    </tr>\n",
       "    <tr>\n",
       "      <th>2</th>\n",
       "      <td>11.0</td>\n",
       "      <td>12.0</td>\n",
       "      <td>13.0</td>\n",
       "      <td>14.0</td>\n",
       "      <td>15.0</td>\n",
       "    </tr>\n",
       "    <tr>\n",
       "      <th>3</th>\n",
       "      <td>16.0</td>\n",
       "      <td>17.0</td>\n",
       "      <td>18.0</td>\n",
       "      <td>19.0</td>\n",
       "      <td>20.0</td>\n",
       "    </tr>\n",
       "    <tr>\n",
       "      <th>4</th>\n",
       "      <td>21.0</td>\n",
       "      <td>22.0</td>\n",
       "      <td>23.0</td>\n",
       "      <td>24.0</td>\n",
       "      <td>25.0</td>\n",
       "    </tr>\n",
       "  </tbody>\n",
       "</table>\n",
       "</div>"
      ],
      "text/plain": [
       "      a     b     c     d     e\n",
       "0   1.0   2.0   3.0   4.0   5.0\n",
       "1   6.0   7.0   8.0   9.0  10.0\n",
       "2  11.0  12.0  13.0  14.0  15.0\n",
       "3  16.0  17.0  18.0  19.0  20.0\n",
       "4  21.0  22.0  23.0  24.0  25.0"
      ]
     },
     "execution_count": 254,
     "metadata": {},
     "output_type": "execute_result"
    }
   ],
   "source": [
    "df.head()"
   ]
  },
  {
   "cell_type": "code",
   "execution_count": 255,
   "metadata": {},
   "outputs": [
    {
     "data": {
      "text/plain": [
       "array([[  1.,   2.,   3.,   4.,   5.],\n",
       "       [  6.,   7.,   8.,   9.,  10.],\n",
       "       [ 11.,  12.,  13.,  14.,  15.],\n",
       "       [ 16.,  17.,  18.,  19.,  20.],\n",
       "       [ 21.,  22.,  23.,  24.,  25.],\n",
       "       [ 26.,  27.,  28.,  29.,  30.],\n",
       "       [ 31.,  32.,  33.,  34.,  35.],\n",
       "       [ 36.,  37.,  38.,  39.,  40.],\n",
       "       [ 41.,  42.,  43.,  44.,  45.],\n",
       "       [ 46.,  47.,  48.,  49.,  50.],\n",
       "       [ 51.,  52.,  53.,  54.,  55.],\n",
       "       [ 56.,  57.,  58.,  59.,  60.],\n",
       "       [ 61.,  62.,  63.,  64.,  65.],\n",
       "       [ 66.,  67.,  68.,  69.,  70.],\n",
       "       [ 71.,  72.,  73.,  74.,  75.],\n",
       "       [ 76.,  77.,  78.,  79.,  80.],\n",
       "       [ 81.,  82.,  83.,  84.,  85.],\n",
       "       [ 86.,  87.,  88.,  89.,  90.],\n",
       "       [ 91.,  92.,  93.,  94.,  95.],\n",
       "       [ 96.,  97.,  98.,  99., 100.],\n",
       "       [101., 102., 103., 104., 105.],\n",
       "       [106., 107., 108., 109., 110.],\n",
       "       [111., 112., 113., 114., 115.],\n",
       "       [116., 117., 118., 119., 120.],\n",
       "       [121., 122., 123., 124., 125.],\n",
       "       [126., 127., 128., 129., 130.],\n",
       "       [131., 132., 133., 134., 135.],\n",
       "       [136., 137., 138., 139., 140.],\n",
       "       [141., 142., 143., 144., 145.],\n",
       "       [146., 147., 148., 149., 150.],\n",
       "       [151., 152., 153., 154., 155.],\n",
       "       [156., 157., 158., 159., 160.],\n",
       "       [161., 162., 163., 164., 165.],\n",
       "       [166., 167., 168., 169., 170.],\n",
       "       [171., 172., 173., 174., 175.],\n",
       "       [176., 177., 178., 179., 180.],\n",
       "       [181., 182., 183., 184., 185.],\n",
       "       [186., 187., 188., 189., 190.],\n",
       "       [191., 192., 193., 194., 195.],\n",
       "       [196., 197., 198., 199., 200.],\n",
       "       [201., 202., 203., 204., 205.],\n",
       "       [206., 207., 208., 209., 210.],\n",
       "       [211., 212., 213., 214., 215.],\n",
       "       [216., 217., 218., 219., 220.],\n",
       "       [221., 222., 223., 224., 225.],\n",
       "       [226., 227., 228., 229., 230.],\n",
       "       [231., 232., 233., 234., 235.],\n",
       "       [236., 237., 238., 239., 240.],\n",
       "       [241., 242., 243., 244., 245.],\n",
       "       [246., 247., 248., 249., 250.],\n",
       "       [251., 252., 253., 254., 255.],\n",
       "       [256., 257., 258., 259., 260.],\n",
       "       [261., 262., 263., 264., 265.],\n",
       "       [266., 267., 268., 269., 270.],\n",
       "       [271., 272., 273., 274., 275.],\n",
       "       [276., 277., 278., 279., 280.],\n",
       "       [281., 282., 283., 284., 285.],\n",
       "       [286., 287., 288., 289., 290.],\n",
       "       [291., 292., 293., 294., 295.],\n",
       "       [296., 297., 298., 299., 300.],\n",
       "       [301., 302., 303., 304., 305.],\n",
       "       [306., 307., 308., 309., 310.],\n",
       "       [311., 312., 313., 314., 315.],\n",
       "       [316., 317., 318., 319., 320.],\n",
       "       [321., 322., 323., 324., 325.],\n",
       "       [326., 327., 328., 329., 330.],\n",
       "       [331., 332., 333., 334., 335.],\n",
       "       [336., 337., 338., 339., 340.],\n",
       "       [341., 342., 343., 344., 345.],\n",
       "       [346., 347., 348., 349., 350.],\n",
       "       [351., 352., 353., 354., 355.],\n",
       "       [356., 357., 358., 359., 360.],\n",
       "       [361., 362., 363., 364., 365.],\n",
       "       [366., 367., 368., 369., 370.],\n",
       "       [371., 372., 373., 374., 375.],\n",
       "       [376., 377., 378., 379., 380.],\n",
       "       [381., 382., 383., 384., 385.],\n",
       "       [386., 387., 388., 389., 390.],\n",
       "       [391., 392., 393., 394., 395.],\n",
       "       [396., 397., 398., 399., 400.],\n",
       "       [401., 402., 403., 404., 405.],\n",
       "       [406., 407., 408., 409., 410.],\n",
       "       [411., 412., 413., 414., 415.],\n",
       "       [416., 417., 418., 419., 420.],\n",
       "       [421., 422., 423., 424., 425.],\n",
       "       [426., 427., 428., 429., 430.],\n",
       "       [431., 432., 433., 434., 435.],\n",
       "       [436., 437., 438., 439., 440.],\n",
       "       [441., 442., 443., 444., 445.],\n",
       "       [446., 447., 448., 449., 450.],\n",
       "       [451., 452., 453., 454., 455.],\n",
       "       [456., 457., 458., 459., 460.],\n",
       "       [461., 462., 463., 464., 465.],\n",
       "       [466., 467., 468., 469., 470.],\n",
       "       [471., 472., 473., 474., 475.],\n",
       "       [476., 477., 478., 479., 480.],\n",
       "       [481., 482., 483., 484., 485.],\n",
       "       [486., 487., 488., 489., 490.],\n",
       "       [491., 492., 493., 494., 495.],\n",
       "       [496., 497., 498., 499., 500.]])"
      ]
     },
     "execution_count": 255,
     "metadata": {},
     "output_type": "execute_result"
    }
   ],
   "source": [
    "df.values"
   ]
  },
  {
   "cell_type": "code",
   "execution_count": 256,
   "metadata": {},
   "outputs": [
    {
     "data": {
      "text/html": [
       "<div>\n",
       "<style scoped>\n",
       "    .dataframe tbody tr th:only-of-type {\n",
       "        vertical-align: middle;\n",
       "    }\n",
       "\n",
       "    .dataframe tbody tr th {\n",
       "        vertical-align: top;\n",
       "    }\n",
       "\n",
       "    .dataframe thead th {\n",
       "        text-align: right;\n",
       "    }\n",
       "</style>\n",
       "<table border=\"1\" class=\"dataframe\">\n",
       "  <thead>\n",
       "    <tr style=\"text-align: right;\">\n",
       "      <th></th>\n",
       "      <th>a</th>\n",
       "      <th>b</th>\n",
       "      <th>c</th>\n",
       "      <th>d</th>\n",
       "      <th>e</th>\n",
       "    </tr>\n",
       "  </thead>\n",
       "  <tbody>\n",
       "    <tr>\n",
       "      <th>0</th>\n",
       "      <td>1.0</td>\n",
       "      <td>2.0</td>\n",
       "      <td>3.0</td>\n",
       "      <td>4.0</td>\n",
       "      <td>5.0</td>\n",
       "    </tr>\n",
       "    <tr>\n",
       "      <th>1</th>\n",
       "      <td>6.0</td>\n",
       "      <td>7.0</td>\n",
       "      <td>8.0</td>\n",
       "      <td>9.0</td>\n",
       "      <td>10.0</td>\n",
       "    </tr>\n",
       "    <tr>\n",
       "      <th>2</th>\n",
       "      <td>11.0</td>\n",
       "      <td>12.0</td>\n",
       "      <td>13.0</td>\n",
       "      <td>14.0</td>\n",
       "      <td>15.0</td>\n",
       "    </tr>\n",
       "    <tr>\n",
       "      <th>3</th>\n",
       "      <td>16.0</td>\n",
       "      <td>17.0</td>\n",
       "      <td>18.0</td>\n",
       "      <td>19.0</td>\n",
       "      <td>20.0</td>\n",
       "    </tr>\n",
       "    <tr>\n",
       "      <th>4</th>\n",
       "      <td>21.0</td>\n",
       "      <td>22.0</td>\n",
       "      <td>23.0</td>\n",
       "      <td>24.0</td>\n",
       "      <td>25.0</td>\n",
       "    </tr>\n",
       "  </tbody>\n",
       "</table>\n",
       "</div>"
      ],
      "text/plain": [
       "      a     b     c     d     e\n",
       "0   1.0   2.0   3.0   4.0   5.0\n",
       "1   6.0   7.0   8.0   9.0  10.0\n",
       "2  11.0  12.0  13.0  14.0  15.0\n",
       "3  16.0  17.0  18.0  19.0  20.0\n",
       "4  21.0  22.0  23.0  24.0  25.0"
      ]
     },
     "execution_count": 256,
     "metadata": {},
     "output_type": "execute_result"
    }
   ],
   "source": [
    "df.head()"
   ]
  },
  {
   "cell_type": "code",
   "execution_count": 257,
   "metadata": {},
   "outputs": [
    {
     "data": {
      "text/html": [
       "<div>\n",
       "<style scoped>\n",
       "    .dataframe tbody tr th:only-of-type {\n",
       "        vertical-align: middle;\n",
       "    }\n",
       "\n",
       "    .dataframe tbody tr th {\n",
       "        vertical-align: top;\n",
       "    }\n",
       "\n",
       "    .dataframe thead th {\n",
       "        text-align: right;\n",
       "    }\n",
       "</style>\n",
       "<table border=\"1\" class=\"dataframe\">\n",
       "  <thead>\n",
       "    <tr style=\"text-align: right;\">\n",
       "      <th></th>\n",
       "      <th>a</th>\n",
       "      <th>b</th>\n",
       "      <th>c</th>\n",
       "      <th>d</th>\n",
       "      <th>e</th>\n",
       "    </tr>\n",
       "  </thead>\n",
       "  <tbody>\n",
       "    <tr>\n",
       "      <th>95</th>\n",
       "      <td>476.0</td>\n",
       "      <td>477.0</td>\n",
       "      <td>478.0</td>\n",
       "      <td>479.0</td>\n",
       "      <td>480.0</td>\n",
       "    </tr>\n",
       "    <tr>\n",
       "      <th>96</th>\n",
       "      <td>481.0</td>\n",
       "      <td>482.0</td>\n",
       "      <td>483.0</td>\n",
       "      <td>484.0</td>\n",
       "      <td>485.0</td>\n",
       "    </tr>\n",
       "    <tr>\n",
       "      <th>97</th>\n",
       "      <td>486.0</td>\n",
       "      <td>487.0</td>\n",
       "      <td>488.0</td>\n",
       "      <td>489.0</td>\n",
       "      <td>490.0</td>\n",
       "    </tr>\n",
       "    <tr>\n",
       "      <th>98</th>\n",
       "      <td>491.0</td>\n",
       "      <td>492.0</td>\n",
       "      <td>493.0</td>\n",
       "      <td>494.0</td>\n",
       "      <td>495.0</td>\n",
       "    </tr>\n",
       "    <tr>\n",
       "      <th>99</th>\n",
       "      <td>496.0</td>\n",
       "      <td>497.0</td>\n",
       "      <td>498.0</td>\n",
       "      <td>499.0</td>\n",
       "      <td>500.0</td>\n",
       "    </tr>\n",
       "  </tbody>\n",
       "</table>\n",
       "</div>"
      ],
      "text/plain": [
       "        a      b      c      d      e\n",
       "95  476.0  477.0  478.0  479.0  480.0\n",
       "96  481.0  482.0  483.0  484.0  485.0\n",
       "97  486.0  487.0  488.0  489.0  490.0\n",
       "98  491.0  492.0  493.0  494.0  495.0\n",
       "99  496.0  497.0  498.0  499.0  500.0"
      ]
     },
     "execution_count": 257,
     "metadata": {},
     "output_type": "execute_result"
    }
   ],
   "source": [
    "df.tail()"
   ]
  },
  {
   "cell_type": "code",
   "execution_count": 258,
   "metadata": {},
   "outputs": [
    {
     "data": {
      "text/plain": [
       "a    24850.0\n",
       "b    24950.0\n",
       "c    25050.0\n",
       "d    25150.0\n",
       "e    25250.0\n",
       "dtype: float64"
      ]
     },
     "execution_count": 258,
     "metadata": {},
     "output_type": "execute_result"
    }
   ],
   "source": [
    "df.sum()"
   ]
  },
  {
   "cell_type": "code",
   "execution_count": 259,
   "metadata": {},
   "outputs": [
    {
     "data": {
      "text/plain": [
       "a    145.05746\n",
       "b    145.05746\n",
       "c    145.05746\n",
       "d    145.05746\n",
       "e    145.05746\n",
       "dtype: float64"
      ]
     },
     "execution_count": 259,
     "metadata": {},
     "output_type": "execute_result"
    }
   ],
   "source": [
    "df.std()"
   ]
  },
  {
   "cell_type": "code",
   "execution_count": 260,
   "metadata": {},
   "outputs": [
    {
     "data": {
      "text/html": [
       "<div>\n",
       "<style scoped>\n",
       "    .dataframe tbody tr th:only-of-type {\n",
       "        vertical-align: middle;\n",
       "    }\n",
       "\n",
       "    .dataframe tbody tr th {\n",
       "        vertical-align: top;\n",
       "    }\n",
       "\n",
       "    .dataframe thead th {\n",
       "        text-align: right;\n",
       "    }\n",
       "</style>\n",
       "<table border=\"1\" class=\"dataframe\">\n",
       "  <thead>\n",
       "    <tr style=\"text-align: right;\">\n",
       "      <th></th>\n",
       "      <th>a</th>\n",
       "      <th>b</th>\n",
       "      <th>c</th>\n",
       "      <th>d</th>\n",
       "      <th>e</th>\n",
       "    </tr>\n",
       "  </thead>\n",
       "  <tbody>\n",
       "    <tr>\n",
       "      <th>count</th>\n",
       "      <td>100.00000</td>\n",
       "      <td>100.00000</td>\n",
       "      <td>100.00000</td>\n",
       "      <td>100.00000</td>\n",
       "      <td>100.00000</td>\n",
       "    </tr>\n",
       "    <tr>\n",
       "      <th>mean</th>\n",
       "      <td>248.50000</td>\n",
       "      <td>249.50000</td>\n",
       "      <td>250.50000</td>\n",
       "      <td>251.50000</td>\n",
       "      <td>252.50000</td>\n",
       "    </tr>\n",
       "    <tr>\n",
       "      <th>std</th>\n",
       "      <td>145.05746</td>\n",
       "      <td>145.05746</td>\n",
       "      <td>145.05746</td>\n",
       "      <td>145.05746</td>\n",
       "      <td>145.05746</td>\n",
       "    </tr>\n",
       "    <tr>\n",
       "      <th>min</th>\n",
       "      <td>1.00000</td>\n",
       "      <td>2.00000</td>\n",
       "      <td>3.00000</td>\n",
       "      <td>4.00000</td>\n",
       "      <td>5.00000</td>\n",
       "    </tr>\n",
       "    <tr>\n",
       "      <th>25%</th>\n",
       "      <td>124.75000</td>\n",
       "      <td>125.75000</td>\n",
       "      <td>126.75000</td>\n",
       "      <td>127.75000</td>\n",
       "      <td>128.75000</td>\n",
       "    </tr>\n",
       "    <tr>\n",
       "      <th>50%</th>\n",
       "      <td>248.50000</td>\n",
       "      <td>249.50000</td>\n",
       "      <td>250.50000</td>\n",
       "      <td>251.50000</td>\n",
       "      <td>252.50000</td>\n",
       "    </tr>\n",
       "    <tr>\n",
       "      <th>75%</th>\n",
       "      <td>372.25000</td>\n",
       "      <td>373.25000</td>\n",
       "      <td>374.25000</td>\n",
       "      <td>375.25000</td>\n",
       "      <td>376.25000</td>\n",
       "    </tr>\n",
       "    <tr>\n",
       "      <th>max</th>\n",
       "      <td>496.00000</td>\n",
       "      <td>497.00000</td>\n",
       "      <td>498.00000</td>\n",
       "      <td>499.00000</td>\n",
       "      <td>500.00000</td>\n",
       "    </tr>\n",
       "  </tbody>\n",
       "</table>\n",
       "</div>"
      ],
      "text/plain": [
       "               a          b          c          d          e\n",
       "count  100.00000  100.00000  100.00000  100.00000  100.00000\n",
       "mean   248.50000  249.50000  250.50000  251.50000  252.50000\n",
       "std    145.05746  145.05746  145.05746  145.05746  145.05746\n",
       "min      1.00000    2.00000    3.00000    4.00000    5.00000\n",
       "25%    124.75000  125.75000  126.75000  127.75000  128.75000\n",
       "50%    248.50000  249.50000  250.50000  251.50000  252.50000\n",
       "75%    372.25000  373.25000  374.25000  375.25000  376.25000\n",
       "max    496.00000  497.00000  498.00000  499.00000  500.00000"
      ]
     },
     "execution_count": 260,
     "metadata": {},
     "output_type": "execute_result"
    }
   ],
   "source": [
    "df.describe()"
   ]
  },
  {
   "cell_type": "code",
   "execution_count": 261,
   "metadata": {},
   "outputs": [],
   "source": [
    "#function for accessing the data within dataframe"
   ]
  },
  {
   "cell_type": "code",
   "execution_count": 268,
   "metadata": {},
   "outputs": [
    {
     "name": "stdout",
     "output_type": "stream",
     "text": [
      "a\n",
      "0       1.0\n",
      "1       6.0\n",
      "2      11.0\n",
      "3      16.0\n",
      "4      21.0\n",
      "5      26.0\n",
      "6      31.0\n",
      "7      36.0\n",
      "8      41.0\n",
      "9      46.0\n",
      "10     51.0\n",
      "11     56.0\n",
      "12     61.0\n",
      "13     66.0\n",
      "14     71.0\n",
      "15     76.0\n",
      "16     81.0\n",
      "17     86.0\n",
      "18     91.0\n",
      "19     96.0\n",
      "20    101.0\n",
      "21    106.0\n",
      "22    111.0\n",
      "23    116.0\n",
      "24    121.0\n",
      "25    126.0\n",
      "26    131.0\n",
      "27    136.0\n",
      "28    141.0\n",
      "29    146.0\n",
      "      ...  \n",
      "70    351.0\n",
      "71    356.0\n",
      "72    361.0\n",
      "73    366.0\n",
      "74    371.0\n",
      "75    376.0\n",
      "76    381.0\n",
      "77    386.0\n",
      "78    391.0\n",
      "79    396.0\n",
      "80    401.0\n",
      "81    406.0\n",
      "82    411.0\n",
      "83    416.0\n",
      "84    421.0\n",
      "85    426.0\n",
      "86    431.0\n",
      "87    436.0\n",
      "88    441.0\n",
      "89    446.0\n",
      "90    451.0\n",
      "91    456.0\n",
      "92    461.0\n",
      "93    466.0\n",
      "94    471.0\n",
      "95    476.0\n",
      "96    481.0\n",
      "97    486.0\n",
      "98    491.0\n",
      "99    496.0\n",
      "Name: a, Length: 100, dtype: float64\n",
      "\n",
      "b\n",
      "0       2.0\n",
      "1       7.0\n",
      "2      12.0\n",
      "3      17.0\n",
      "4      22.0\n",
      "5      27.0\n",
      "6      32.0\n",
      "7      37.0\n",
      "8      42.0\n",
      "9      47.0\n",
      "10     52.0\n",
      "11     57.0\n",
      "12     62.0\n",
      "13     67.0\n",
      "14     72.0\n",
      "15     77.0\n",
      "16     82.0\n",
      "17     87.0\n",
      "18     92.0\n",
      "19     97.0\n",
      "20    102.0\n",
      "21    107.0\n",
      "22    112.0\n",
      "23    117.0\n",
      "24    122.0\n",
      "25    127.0\n",
      "26    132.0\n",
      "27    137.0\n",
      "28    142.0\n",
      "29    147.0\n",
      "      ...  \n",
      "70    352.0\n",
      "71    357.0\n",
      "72    362.0\n",
      "73    367.0\n",
      "74    372.0\n",
      "75    377.0\n",
      "76    382.0\n",
      "77    387.0\n",
      "78    392.0\n",
      "79    397.0\n",
      "80    402.0\n",
      "81    407.0\n",
      "82    412.0\n",
      "83    417.0\n",
      "84    422.0\n",
      "85    427.0\n",
      "86    432.0\n",
      "87    437.0\n",
      "88    442.0\n",
      "89    447.0\n",
      "90    452.0\n",
      "91    457.0\n",
      "92    462.0\n",
      "93    467.0\n",
      "94    472.0\n",
      "95    477.0\n",
      "96    482.0\n",
      "97    487.0\n",
      "98    492.0\n",
      "99    497.0\n",
      "Name: b, Length: 100, dtype: float64\n",
      "\n",
      "c\n",
      "0       3.0\n",
      "1       8.0\n",
      "2      13.0\n",
      "3      18.0\n",
      "4      23.0\n",
      "5      28.0\n",
      "6      33.0\n",
      "7      38.0\n",
      "8      43.0\n",
      "9      48.0\n",
      "10     53.0\n",
      "11     58.0\n",
      "12     63.0\n",
      "13     68.0\n",
      "14     73.0\n",
      "15     78.0\n",
      "16     83.0\n",
      "17     88.0\n",
      "18     93.0\n",
      "19     98.0\n",
      "20    103.0\n",
      "21    108.0\n",
      "22    113.0\n",
      "23    118.0\n",
      "24    123.0\n",
      "25    128.0\n",
      "26    133.0\n",
      "27    138.0\n",
      "28    143.0\n",
      "29    148.0\n",
      "      ...  \n",
      "70    353.0\n",
      "71    358.0\n",
      "72    363.0\n",
      "73    368.0\n",
      "74    373.0\n",
      "75    378.0\n",
      "76    383.0\n",
      "77    388.0\n",
      "78    393.0\n",
      "79    398.0\n",
      "80    403.0\n",
      "81    408.0\n",
      "82    413.0\n",
      "83    418.0\n",
      "84    423.0\n",
      "85    428.0\n",
      "86    433.0\n",
      "87    438.0\n",
      "88    443.0\n",
      "89    448.0\n",
      "90    453.0\n",
      "91    458.0\n",
      "92    463.0\n",
      "93    468.0\n",
      "94    473.0\n",
      "95    478.0\n",
      "96    483.0\n",
      "97    488.0\n",
      "98    493.0\n",
      "99    498.0\n",
      "Name: c, Length: 100, dtype: float64\n",
      "\n",
      "d\n",
      "0       4.0\n",
      "1       9.0\n",
      "2      14.0\n",
      "3      19.0\n",
      "4      24.0\n",
      "5      29.0\n",
      "6      34.0\n",
      "7      39.0\n",
      "8      44.0\n",
      "9      49.0\n",
      "10     54.0\n",
      "11     59.0\n",
      "12     64.0\n",
      "13     69.0\n",
      "14     74.0\n",
      "15     79.0\n",
      "16     84.0\n",
      "17     89.0\n",
      "18     94.0\n",
      "19     99.0\n",
      "20    104.0\n",
      "21    109.0\n",
      "22    114.0\n",
      "23    119.0\n",
      "24    124.0\n",
      "25    129.0\n",
      "26    134.0\n",
      "27    139.0\n",
      "28    144.0\n",
      "29    149.0\n",
      "      ...  \n",
      "70    354.0\n",
      "71    359.0\n",
      "72    364.0\n",
      "73    369.0\n",
      "74    374.0\n",
      "75    379.0\n",
      "76    384.0\n",
      "77    389.0\n",
      "78    394.0\n",
      "79    399.0\n",
      "80    404.0\n",
      "81    409.0\n",
      "82    414.0\n",
      "83    419.0\n",
      "84    424.0\n",
      "85    429.0\n",
      "86    434.0\n",
      "87    439.0\n",
      "88    444.0\n",
      "89    449.0\n",
      "90    454.0\n",
      "91    459.0\n",
      "92    464.0\n",
      "93    469.0\n",
      "94    474.0\n",
      "95    479.0\n",
      "96    484.0\n",
      "97    489.0\n",
      "98    494.0\n",
      "99    499.0\n",
      "Name: d, Length: 100, dtype: float64\n",
      "\n",
      "e\n",
      "0       5.0\n",
      "1      10.0\n",
      "2      15.0\n",
      "3      20.0\n",
      "4      25.0\n",
      "5      30.0\n",
      "6      35.0\n",
      "7      40.0\n",
      "8      45.0\n",
      "9      50.0\n",
      "10     55.0\n",
      "11     60.0\n",
      "12     65.0\n",
      "13     70.0\n",
      "14     75.0\n",
      "15     80.0\n",
      "16     85.0\n",
      "17     90.0\n",
      "18     95.0\n",
      "19    100.0\n",
      "20    105.0\n",
      "21    110.0\n",
      "22    115.0\n",
      "23    120.0\n",
      "24    125.0\n",
      "25    130.0\n",
      "26    135.0\n",
      "27    140.0\n",
      "28    145.0\n",
      "29    150.0\n",
      "      ...  \n",
      "70    355.0\n",
      "71    360.0\n",
      "72    365.0\n",
      "73    370.0\n",
      "74    375.0\n",
      "75    380.0\n",
      "76    385.0\n",
      "77    390.0\n",
      "78    395.0\n",
      "79    400.0\n",
      "80    405.0\n",
      "81    410.0\n",
      "82    415.0\n",
      "83    420.0\n",
      "84    425.0\n",
      "85    430.0\n",
      "86    435.0\n",
      "87    440.0\n",
      "88    445.0\n",
      "89    450.0\n",
      "90    455.0\n",
      "91    460.0\n",
      "92    465.0\n",
      "93    470.0\n",
      "94    475.0\n",
      "95    480.0\n",
      "96    485.0\n",
      "97    490.0\n",
      "98    495.0\n",
      "99    500.0\n",
      "Name: e, Length: 100, dtype: float64\n",
      "\n"
     ]
    }
   ],
   "source": [
    "#accesing values column wise\n",
    "for col_names, col_series in df.iteritems():\n",
    "    print(col_names)\n",
    "    print(col_series)\n",
    "    print()"
   ]
  },
  {
   "cell_type": "code",
   "execution_count": 266,
   "metadata": {},
   "outputs": [
    {
     "data": {
      "text/html": [
       "<div>\n",
       "<style scoped>\n",
       "    .dataframe tbody tr th:only-of-type {\n",
       "        vertical-align: middle;\n",
       "    }\n",
       "\n",
       "    .dataframe tbody tr th {\n",
       "        vertical-align: top;\n",
       "    }\n",
       "\n",
       "    .dataframe thead th {\n",
       "        text-align: right;\n",
       "    }\n",
       "</style>\n",
       "<table border=\"1\" class=\"dataframe\">\n",
       "  <thead>\n",
       "    <tr style=\"text-align: right;\">\n",
       "      <th></th>\n",
       "      <th>a</th>\n",
       "      <th>b</th>\n",
       "      <th>c</th>\n",
       "      <th>d</th>\n",
       "      <th>e</th>\n",
       "    </tr>\n",
       "  </thead>\n",
       "  <tbody>\n",
       "    <tr>\n",
       "      <th>0</th>\n",
       "      <td>1.0</td>\n",
       "      <td>2.0</td>\n",
       "      <td>3.0</td>\n",
       "      <td>4.0</td>\n",
       "      <td>5.0</td>\n",
       "    </tr>\n",
       "    <tr>\n",
       "      <th>1</th>\n",
       "      <td>6.0</td>\n",
       "      <td>7.0</td>\n",
       "      <td>8.0</td>\n",
       "      <td>9.0</td>\n",
       "      <td>10.0</td>\n",
       "    </tr>\n",
       "    <tr>\n",
       "      <th>2</th>\n",
       "      <td>11.0</td>\n",
       "      <td>12.0</td>\n",
       "      <td>13.0</td>\n",
       "      <td>14.0</td>\n",
       "      <td>15.0</td>\n",
       "    </tr>\n",
       "    <tr>\n",
       "      <th>3</th>\n",
       "      <td>16.0</td>\n",
       "      <td>17.0</td>\n",
       "      <td>18.0</td>\n",
       "      <td>19.0</td>\n",
       "      <td>20.0</td>\n",
       "    </tr>\n",
       "    <tr>\n",
       "      <th>4</th>\n",
       "      <td>21.0</td>\n",
       "      <td>22.0</td>\n",
       "      <td>23.0</td>\n",
       "      <td>24.0</td>\n",
       "      <td>25.0</td>\n",
       "    </tr>\n",
       "  </tbody>\n",
       "</table>\n",
       "</div>"
      ],
      "text/plain": [
       "      a     b     c     d     e\n",
       "0   1.0   2.0   3.0   4.0   5.0\n",
       "1   6.0   7.0   8.0   9.0  10.0\n",
       "2  11.0  12.0  13.0  14.0  15.0\n",
       "3  16.0  17.0  18.0  19.0  20.0\n",
       "4  21.0  22.0  23.0  24.0  25.0"
      ]
     },
     "execution_count": 266,
     "metadata": {},
     "output_type": "execute_result"
    }
   ],
   "source": [
    "df.head()"
   ]
  },
  {
   "cell_type": "code",
   "execution_count": 272,
   "metadata": {},
   "outputs": [
    {
     "name": "stdout",
     "output_type": "stream",
     "text": [
      "0\n",
      "a    1.0\n",
      "b    2.0\n",
      "c    3.0\n",
      "d    4.0\n",
      "e    5.0\n",
      "Name: 0, dtype: float64\n",
      "\n",
      "1\n",
      "a     6.0\n",
      "b     7.0\n",
      "c     8.0\n",
      "d     9.0\n",
      "e    10.0\n",
      "Name: 1, dtype: float64\n",
      "\n",
      "2\n",
      "a    11.0\n",
      "b    12.0\n",
      "c    13.0\n",
      "d    14.0\n",
      "e    15.0\n",
      "Name: 2, dtype: float64\n",
      "\n",
      "3\n",
      "a    16.0\n",
      "b    17.0\n",
      "c    18.0\n",
      "d    19.0\n",
      "e    20.0\n",
      "Name: 3, dtype: float64\n",
      "\n",
      "4\n",
      "a    21.0\n",
      "b    22.0\n",
      "c    23.0\n",
      "d    24.0\n",
      "e    25.0\n",
      "Name: 4, dtype: float64\n",
      "\n",
      "5\n",
      "a    26.0\n",
      "b    27.0\n",
      "c    28.0\n",
      "d    29.0\n",
      "e    30.0\n",
      "Name: 5, dtype: float64\n",
      "\n",
      "6\n",
      "a    31.0\n",
      "b    32.0\n",
      "c    33.0\n",
      "d    34.0\n",
      "e    35.0\n",
      "Name: 6, dtype: float64\n",
      "\n",
      "7\n",
      "a    36.0\n",
      "b    37.0\n",
      "c    38.0\n",
      "d    39.0\n",
      "e    40.0\n",
      "Name: 7, dtype: float64\n",
      "\n",
      "8\n",
      "a    41.0\n",
      "b    42.0\n",
      "c    43.0\n",
      "d    44.0\n",
      "e    45.0\n",
      "Name: 8, dtype: float64\n",
      "\n",
      "9\n",
      "a    46.0\n",
      "b    47.0\n",
      "c    48.0\n",
      "d    49.0\n",
      "e    50.0\n",
      "Name: 9, dtype: float64\n",
      "\n",
      "10\n",
      "a    51.0\n",
      "b    52.0\n",
      "c    53.0\n",
      "d    54.0\n",
      "e    55.0\n",
      "Name: 10, dtype: float64\n",
      "\n",
      "11\n",
      "a    56.0\n",
      "b    57.0\n",
      "c    58.0\n",
      "d    59.0\n",
      "e    60.0\n",
      "Name: 11, dtype: float64\n",
      "\n",
      "12\n",
      "a    61.0\n",
      "b    62.0\n",
      "c    63.0\n",
      "d    64.0\n",
      "e    65.0\n",
      "Name: 12, dtype: float64\n",
      "\n",
      "13\n",
      "a    66.0\n",
      "b    67.0\n",
      "c    68.0\n",
      "d    69.0\n",
      "e    70.0\n",
      "Name: 13, dtype: float64\n",
      "\n",
      "14\n",
      "a    71.0\n",
      "b    72.0\n",
      "c    73.0\n",
      "d    74.0\n",
      "e    75.0\n",
      "Name: 14, dtype: float64\n",
      "\n",
      "15\n",
      "a    76.0\n",
      "b    77.0\n",
      "c    78.0\n",
      "d    79.0\n",
      "e    80.0\n",
      "Name: 15, dtype: float64\n",
      "\n",
      "16\n",
      "a    81.0\n",
      "b    82.0\n",
      "c    83.0\n",
      "d    84.0\n",
      "e    85.0\n",
      "Name: 16, dtype: float64\n",
      "\n",
      "17\n",
      "a    86.0\n",
      "b    87.0\n",
      "c    88.0\n",
      "d    89.0\n",
      "e    90.0\n",
      "Name: 17, dtype: float64\n",
      "\n",
      "18\n",
      "a    91.0\n",
      "b    92.0\n",
      "c    93.0\n",
      "d    94.0\n",
      "e    95.0\n",
      "Name: 18, dtype: float64\n",
      "\n",
      "19\n",
      "a     96.0\n",
      "b     97.0\n",
      "c     98.0\n",
      "d     99.0\n",
      "e    100.0\n",
      "Name: 19, dtype: float64\n",
      "\n",
      "20\n",
      "a    101.0\n",
      "b    102.0\n",
      "c    103.0\n",
      "d    104.0\n",
      "e    105.0\n",
      "Name: 20, dtype: float64\n",
      "\n",
      "21\n",
      "a    106.0\n",
      "b    107.0\n",
      "c    108.0\n",
      "d    109.0\n",
      "e    110.0\n",
      "Name: 21, dtype: float64\n",
      "\n",
      "22\n",
      "a    111.0\n",
      "b    112.0\n",
      "c    113.0\n",
      "d    114.0\n",
      "e    115.0\n",
      "Name: 22, dtype: float64\n",
      "\n",
      "23\n",
      "a    116.0\n",
      "b    117.0\n",
      "c    118.0\n",
      "d    119.0\n",
      "e    120.0\n",
      "Name: 23, dtype: float64\n",
      "\n",
      "24\n",
      "a    121.0\n",
      "b    122.0\n",
      "c    123.0\n",
      "d    124.0\n",
      "e    125.0\n",
      "Name: 24, dtype: float64\n",
      "\n",
      "25\n",
      "a    126.0\n",
      "b    127.0\n",
      "c    128.0\n",
      "d    129.0\n",
      "e    130.0\n",
      "Name: 25, dtype: float64\n",
      "\n",
      "26\n",
      "a    131.0\n",
      "b    132.0\n",
      "c    133.0\n",
      "d    134.0\n",
      "e    135.0\n",
      "Name: 26, dtype: float64\n",
      "\n",
      "27\n",
      "a    136.0\n",
      "b    137.0\n",
      "c    138.0\n",
      "d    139.0\n",
      "e    140.0\n",
      "Name: 27, dtype: float64\n",
      "\n",
      "28\n",
      "a    141.0\n",
      "b    142.0\n",
      "c    143.0\n",
      "d    144.0\n",
      "e    145.0\n",
      "Name: 28, dtype: float64\n",
      "\n",
      "29\n",
      "a    146.0\n",
      "b    147.0\n",
      "c    148.0\n",
      "d    149.0\n",
      "e    150.0\n",
      "Name: 29, dtype: float64\n",
      "\n",
      "30\n",
      "a    151.0\n",
      "b    152.0\n",
      "c    153.0\n",
      "d    154.0\n",
      "e    155.0\n",
      "Name: 30, dtype: float64\n",
      "\n",
      "31\n",
      "a    156.0\n",
      "b    157.0\n",
      "c    158.0\n",
      "d    159.0\n",
      "e    160.0\n",
      "Name: 31, dtype: float64\n",
      "\n",
      "32\n",
      "a    161.0\n",
      "b    162.0\n",
      "c    163.0\n",
      "d    164.0\n",
      "e    165.0\n",
      "Name: 32, dtype: float64\n",
      "\n",
      "33\n",
      "a    166.0\n",
      "b    167.0\n",
      "c    168.0\n",
      "d    169.0\n",
      "e    170.0\n",
      "Name: 33, dtype: float64\n",
      "\n",
      "34\n",
      "a    171.0\n",
      "b    172.0\n",
      "c    173.0\n",
      "d    174.0\n",
      "e    175.0\n",
      "Name: 34, dtype: float64\n",
      "\n",
      "35\n",
      "a    176.0\n",
      "b    177.0\n",
      "c    178.0\n",
      "d    179.0\n",
      "e    180.0\n",
      "Name: 35, dtype: float64\n",
      "\n",
      "36\n",
      "a    181.0\n",
      "b    182.0\n",
      "c    183.0\n",
      "d    184.0\n",
      "e    185.0\n",
      "Name: 36, dtype: float64\n",
      "\n",
      "37\n",
      "a    186.0\n",
      "b    187.0\n",
      "c    188.0\n",
      "d    189.0\n",
      "e    190.0\n",
      "Name: 37, dtype: float64\n",
      "\n",
      "38\n",
      "a    191.0\n",
      "b    192.0\n",
      "c    193.0\n",
      "d    194.0\n",
      "e    195.0\n",
      "Name: 38, dtype: float64\n",
      "\n",
      "39\n",
      "a    196.0\n",
      "b    197.0\n",
      "c    198.0\n",
      "d    199.0\n",
      "e    200.0\n",
      "Name: 39, dtype: float64\n",
      "\n",
      "40\n",
      "a    201.0\n",
      "b    202.0\n",
      "c    203.0\n",
      "d    204.0\n",
      "e    205.0\n",
      "Name: 40, dtype: float64\n",
      "\n",
      "41\n",
      "a    206.0\n",
      "b    207.0\n",
      "c    208.0\n",
      "d    209.0\n",
      "e    210.0\n",
      "Name: 41, dtype: float64\n",
      "\n",
      "42\n",
      "a    211.0\n",
      "b    212.0\n",
      "c    213.0\n",
      "d    214.0\n",
      "e    215.0\n",
      "Name: 42, dtype: float64\n",
      "\n",
      "43\n",
      "a    216.0\n",
      "b    217.0\n",
      "c    218.0\n",
      "d    219.0\n",
      "e    220.0\n",
      "Name: 43, dtype: float64\n",
      "\n",
      "44\n",
      "a    221.0\n",
      "b    222.0\n",
      "c    223.0\n",
      "d    224.0\n",
      "e    225.0\n",
      "Name: 44, dtype: float64\n",
      "\n",
      "45\n",
      "a    226.0\n",
      "b    227.0\n",
      "c    228.0\n",
      "d    229.0\n",
      "e    230.0\n",
      "Name: 45, dtype: float64\n",
      "\n",
      "46\n",
      "a    231.0\n",
      "b    232.0\n",
      "c    233.0\n",
      "d    234.0\n",
      "e    235.0\n",
      "Name: 46, dtype: float64\n",
      "\n",
      "47\n",
      "a    236.0\n",
      "b    237.0\n",
      "c    238.0\n",
      "d    239.0\n",
      "e    240.0\n",
      "Name: 47, dtype: float64\n",
      "\n",
      "48\n",
      "a    241.0\n",
      "b    242.0\n",
      "c    243.0\n",
      "d    244.0\n",
      "e    245.0\n",
      "Name: 48, dtype: float64\n",
      "\n",
      "49\n",
      "a    246.0\n",
      "b    247.0\n",
      "c    248.0\n",
      "d    249.0\n",
      "e    250.0\n",
      "Name: 49, dtype: float64\n",
      "\n",
      "50\n",
      "a    251.0\n",
      "b    252.0\n",
      "c    253.0\n",
      "d    254.0\n",
      "e    255.0\n",
      "Name: 50, dtype: float64\n",
      "\n",
      "51\n",
      "a    256.0\n",
      "b    257.0\n",
      "c    258.0\n",
      "d    259.0\n",
      "e    260.0\n",
      "Name: 51, dtype: float64\n",
      "\n",
      "52\n",
      "a    261.0\n",
      "b    262.0\n",
      "c    263.0\n",
      "d    264.0\n",
      "e    265.0\n",
      "Name: 52, dtype: float64\n",
      "\n",
      "53\n",
      "a    266.0\n",
      "b    267.0\n",
      "c    268.0\n",
      "d    269.0\n",
      "e    270.0\n",
      "Name: 53, dtype: float64\n",
      "\n",
      "54\n",
      "a    271.0\n",
      "b    272.0\n",
      "c    273.0\n",
      "d    274.0\n",
      "e    275.0\n",
      "Name: 54, dtype: float64\n",
      "\n",
      "55\n",
      "a    276.0\n",
      "b    277.0\n",
      "c    278.0\n",
      "d    279.0\n",
      "e    280.0\n",
      "Name: 55, dtype: float64\n",
      "\n",
      "56\n",
      "a    281.0\n",
      "b    282.0\n",
      "c    283.0\n",
      "d    284.0\n",
      "e    285.0\n",
      "Name: 56, dtype: float64\n",
      "\n",
      "57\n",
      "a    286.0\n",
      "b    287.0\n",
      "c    288.0\n",
      "d    289.0\n",
      "e    290.0\n",
      "Name: 57, dtype: float64\n",
      "\n",
      "58\n",
      "a    291.0\n",
      "b    292.0\n",
      "c    293.0\n",
      "d    294.0\n",
      "e    295.0\n",
      "Name: 58, dtype: float64\n",
      "\n",
      "59\n",
      "a    296.0\n",
      "b    297.0\n",
      "c    298.0\n",
      "d    299.0\n",
      "e    300.0\n",
      "Name: 59, dtype: float64\n",
      "\n",
      "60\n",
      "a    301.0\n",
      "b    302.0\n",
      "c    303.0\n",
      "d    304.0\n",
      "e    305.0\n",
      "Name: 60, dtype: float64\n",
      "\n",
      "61\n",
      "a    306.0\n",
      "b    307.0\n",
      "c    308.0\n",
      "d    309.0\n",
      "e    310.0\n",
      "Name: 61, dtype: float64\n",
      "\n",
      "62\n",
      "a    311.0\n",
      "b    312.0\n",
      "c    313.0\n",
      "d    314.0\n",
      "e    315.0\n",
      "Name: 62, dtype: float64\n",
      "\n",
      "63\n",
      "a    316.0\n",
      "b    317.0\n",
      "c    318.0\n",
      "d    319.0\n",
      "e    320.0\n",
      "Name: 63, dtype: float64\n",
      "\n",
      "64\n",
      "a    321.0\n",
      "b    322.0\n",
      "c    323.0\n",
      "d    324.0\n",
      "e    325.0\n",
      "Name: 64, dtype: float64\n",
      "\n",
      "65\n",
      "a    326.0\n",
      "b    327.0\n",
      "c    328.0\n",
      "d    329.0\n",
      "e    330.0\n",
      "Name: 65, dtype: float64\n",
      "\n",
      "66\n",
      "a    331.0\n",
      "b    332.0\n",
      "c    333.0\n",
      "d    334.0\n",
      "e    335.0\n",
      "Name: 66, dtype: float64\n",
      "\n",
      "67\n",
      "a    336.0\n",
      "b    337.0\n",
      "c    338.0\n",
      "d    339.0\n",
      "e    340.0\n",
      "Name: 67, dtype: float64\n",
      "\n",
      "68\n",
      "a    341.0\n",
      "b    342.0\n",
      "c    343.0\n",
      "d    344.0\n",
      "e    345.0\n",
      "Name: 68, dtype: float64\n",
      "\n",
      "69\n",
      "a    346.0\n",
      "b    347.0\n",
      "c    348.0\n",
      "d    349.0\n",
      "e    350.0\n",
      "Name: 69, dtype: float64\n",
      "\n",
      "70\n",
      "a    351.0\n",
      "b    352.0\n",
      "c    353.0\n",
      "d    354.0\n",
      "e    355.0\n",
      "Name: 70, dtype: float64\n",
      "\n",
      "71\n",
      "a    356.0\n",
      "b    357.0\n",
      "c    358.0\n",
      "d    359.0\n",
      "e    360.0\n",
      "Name: 71, dtype: float64\n",
      "\n",
      "72\n",
      "a    361.0\n",
      "b    362.0\n",
      "c    363.0\n",
      "d    364.0\n",
      "e    365.0\n",
      "Name: 72, dtype: float64\n",
      "\n",
      "73\n",
      "a    366.0\n",
      "b    367.0\n",
      "c    368.0\n",
      "d    369.0\n",
      "e    370.0\n",
      "Name: 73, dtype: float64\n",
      "\n",
      "74\n",
      "a    371.0\n",
      "b    372.0\n",
      "c    373.0\n",
      "d    374.0\n",
      "e    375.0\n",
      "Name: 74, dtype: float64\n",
      "\n",
      "75\n",
      "a    376.0\n",
      "b    377.0\n",
      "c    378.0\n",
      "d    379.0\n",
      "e    380.0\n",
      "Name: 75, dtype: float64\n",
      "\n",
      "76\n",
      "a    381.0\n",
      "b    382.0\n",
      "c    383.0\n",
      "d    384.0\n",
      "e    385.0\n",
      "Name: 76, dtype: float64\n",
      "\n",
      "77\n",
      "a    386.0\n",
      "b    387.0\n",
      "c    388.0\n",
      "d    389.0\n",
      "e    390.0\n",
      "Name: 77, dtype: float64\n",
      "\n",
      "78\n",
      "a    391.0\n",
      "b    392.0\n",
      "c    393.0\n",
      "d    394.0\n",
      "e    395.0\n",
      "Name: 78, dtype: float64\n",
      "\n",
      "79\n",
      "a    396.0\n",
      "b    397.0\n",
      "c    398.0\n",
      "d    399.0\n",
      "e    400.0\n",
      "Name: 79, dtype: float64\n",
      "\n",
      "80\n",
      "a    401.0\n",
      "b    402.0\n",
      "c    403.0\n",
      "d    404.0\n",
      "e    405.0\n",
      "Name: 80, dtype: float64\n",
      "\n",
      "81\n",
      "a    406.0\n",
      "b    407.0\n",
      "c    408.0\n",
      "d    409.0\n",
      "e    410.0\n",
      "Name: 81, dtype: float64\n",
      "\n",
      "82\n",
      "a    411.0\n",
      "b    412.0\n",
      "c    413.0\n",
      "d    414.0\n",
      "e    415.0\n",
      "Name: 82, dtype: float64\n",
      "\n",
      "83\n",
      "a    416.0\n",
      "b    417.0\n",
      "c    418.0\n",
      "d    419.0\n",
      "e    420.0\n",
      "Name: 83, dtype: float64\n",
      "\n",
      "84\n",
      "a    421.0\n",
      "b    422.0\n",
      "c    423.0\n",
      "d    424.0\n",
      "e    425.0\n",
      "Name: 84, dtype: float64\n",
      "\n",
      "85\n",
      "a    426.0\n",
      "b    427.0\n",
      "c    428.0\n",
      "d    429.0\n",
      "e    430.0\n",
      "Name: 85, dtype: float64\n",
      "\n",
      "86\n",
      "a    431.0\n",
      "b    432.0\n",
      "c    433.0\n",
      "d    434.0\n",
      "e    435.0\n",
      "Name: 86, dtype: float64\n",
      "\n",
      "87\n",
      "a    436.0\n",
      "b    437.0\n",
      "c    438.0\n",
      "d    439.0\n",
      "e    440.0\n",
      "Name: 87, dtype: float64\n",
      "\n",
      "88\n",
      "a    441.0\n",
      "b    442.0\n",
      "c    443.0\n",
      "d    444.0\n",
      "e    445.0\n",
      "Name: 88, dtype: float64\n",
      "\n",
      "89\n",
      "a    446.0\n",
      "b    447.0\n",
      "c    448.0\n",
      "d    449.0\n",
      "e    450.0\n",
      "Name: 89, dtype: float64\n",
      "\n",
      "90\n",
      "a    451.0\n",
      "b    452.0\n",
      "c    453.0\n",
      "d    454.0\n",
      "e    455.0\n",
      "Name: 90, dtype: float64\n",
      "\n",
      "91\n",
      "a    456.0\n",
      "b    457.0\n",
      "c    458.0\n",
      "d    459.0\n",
      "e    460.0\n",
      "Name: 91, dtype: float64\n",
      "\n",
      "92\n",
      "a    461.0\n",
      "b    462.0\n",
      "c    463.0\n",
      "d    464.0\n",
      "e    465.0\n",
      "Name: 92, dtype: float64\n",
      "\n",
      "93\n",
      "a    466.0\n",
      "b    467.0\n",
      "c    468.0\n",
      "d    469.0\n",
      "e    470.0\n",
      "Name: 93, dtype: float64\n",
      "\n",
      "94\n",
      "a    471.0\n",
      "b    472.0\n",
      "c    473.0\n",
      "d    474.0\n",
      "e    475.0\n",
      "Name: 94, dtype: float64\n",
      "\n",
      "95\n",
      "a    476.0\n",
      "b    477.0\n",
      "c    478.0\n",
      "d    479.0\n",
      "e    480.0\n",
      "Name: 95, dtype: float64\n",
      "\n",
      "96\n",
      "a    481.0\n",
      "b    482.0\n",
      "c    483.0\n",
      "d    484.0\n",
      "e    485.0\n",
      "Name: 96, dtype: float64\n",
      "\n",
      "97\n",
      "a    486.0\n",
      "b    487.0\n",
      "c    488.0\n",
      "d    489.0\n",
      "e    490.0\n",
      "Name: 97, dtype: float64\n",
      "\n",
      "98\n",
      "a    491.0\n",
      "b    492.0\n",
      "c    493.0\n",
      "d    494.0\n",
      "e    495.0\n",
      "Name: 98, dtype: float64\n",
      "\n",
      "99\n",
      "a    496.0\n",
      "b    497.0\n",
      "c    498.0\n",
      "d    499.0\n",
      "e    500.0\n",
      "Name: 99, dtype: float64\n",
      "\n"
     ]
    }
   ],
   "source": [
    "#iterrows() iterates over each row as row index, row series pair\n",
    "for index_name, row_series in df.iterrows():\n",
    "    print(index_name)\n",
    "    print(row_series)\n",
    "    print()"
   ]
  },
  {
   "cell_type": "code",
   "execution_count": 271,
   "metadata": {},
   "outputs": [
    {
     "name": "stdout",
     "output_type": "stream",
     "text": [
      "0\n",
      "a    1.0\n",
      "b    2.0\n",
      "c    3.0\n",
      "d    4.0\n",
      "e    5.0\n",
      "Name: 0, dtype: float64\n",
      "3.0\n"
     ]
    }
   ],
   "source": [
    "#iterrows() iterates over each row as row index, row series pair\n",
    "for index_name, row_series in df.iterrows():\n",
    "    print(index_name)\n",
    "    print(row_series)\n",
    "    print(row_series['c'])\n",
    "    break"
   ]
  },
  {
   "cell_type": "code",
   "execution_count": 279,
   "metadata": {},
   "outputs": [
    {
     "name": "stdout",
     "output_type": "stream",
     "text": [
      "Pandas(Index=0, a=1.0, b=2.0, c=3.0, d=4.0, e=5.0)\n",
      "Pandas(Index=1, a=6.0, b=7.0, c=8.0, d=9.0, e=10.0)\n",
      "Pandas(Index=2, a=11.0, b=12.0, c=13.0, d=14.0, e=15.0)\n",
      "Pandas(Index=3, a=16.0, b=17.0, c=18.0, d=19.0, e=20.0)\n",
      "Pandas(Index=4, a=21.0, b=22.0, c=23.0, d=24.0, e=25.0)\n",
      "Pandas(Index=5, a=26.0, b=27.0, c=28.0, d=29.0, e=30.0)\n",
      "Pandas(Index=6, a=31.0, b=32.0, c=33.0, d=34.0, e=35.0)\n",
      "Pandas(Index=7, a=36.0, b=37.0, c=38.0, d=39.0, e=40.0)\n",
      "Pandas(Index=8, a=41.0, b=42.0, c=43.0, d=44.0, e=45.0)\n",
      "Pandas(Index=9, a=46.0, b=47.0, c=48.0, d=49.0, e=50.0)\n",
      "Pandas(Index=10, a=51.0, b=52.0, c=53.0, d=54.0, e=55.0)\n",
      "Pandas(Index=11, a=56.0, b=57.0, c=58.0, d=59.0, e=60.0)\n",
      "Pandas(Index=12, a=61.0, b=62.0, c=63.0, d=64.0, e=65.0)\n",
      "Pandas(Index=13, a=66.0, b=67.0, c=68.0, d=69.0, e=70.0)\n",
      "Pandas(Index=14, a=71.0, b=72.0, c=73.0, d=74.0, e=75.0)\n",
      "Pandas(Index=15, a=76.0, b=77.0, c=78.0, d=79.0, e=80.0)\n",
      "Pandas(Index=16, a=81.0, b=82.0, c=83.0, d=84.0, e=85.0)\n",
      "Pandas(Index=17, a=86.0, b=87.0, c=88.0, d=89.0, e=90.0)\n",
      "Pandas(Index=18, a=91.0, b=92.0, c=93.0, d=94.0, e=95.0)\n",
      "Pandas(Index=19, a=96.0, b=97.0, c=98.0, d=99.0, e=100.0)\n",
      "Pandas(Index=20, a=101.0, b=102.0, c=103.0, d=104.0, e=105.0)\n",
      "Pandas(Index=21, a=106.0, b=107.0, c=108.0, d=109.0, e=110.0)\n",
      "Pandas(Index=22, a=111.0, b=112.0, c=113.0, d=114.0, e=115.0)\n",
      "Pandas(Index=23, a=116.0, b=117.0, c=118.0, d=119.0, e=120.0)\n",
      "Pandas(Index=24, a=121.0, b=122.0, c=123.0, d=124.0, e=125.0)\n",
      "Pandas(Index=25, a=126.0, b=127.0, c=128.0, d=129.0, e=130.0)\n",
      "Pandas(Index=26, a=131.0, b=132.0, c=133.0, d=134.0, e=135.0)\n",
      "Pandas(Index=27, a=136.0, b=137.0, c=138.0, d=139.0, e=140.0)\n",
      "Pandas(Index=28, a=141.0, b=142.0, c=143.0, d=144.0, e=145.0)\n",
      "Pandas(Index=29, a=146.0, b=147.0, c=148.0, d=149.0, e=150.0)\n",
      "Pandas(Index=30, a=151.0, b=152.0, c=153.0, d=154.0, e=155.0)\n",
      "Pandas(Index=31, a=156.0, b=157.0, c=158.0, d=159.0, e=160.0)\n",
      "Pandas(Index=32, a=161.0, b=162.0, c=163.0, d=164.0, e=165.0)\n",
      "Pandas(Index=33, a=166.0, b=167.0, c=168.0, d=169.0, e=170.0)\n",
      "Pandas(Index=34, a=171.0, b=172.0, c=173.0, d=174.0, e=175.0)\n",
      "Pandas(Index=35, a=176.0, b=177.0, c=178.0, d=179.0, e=180.0)\n",
      "Pandas(Index=36, a=181.0, b=182.0, c=183.0, d=184.0, e=185.0)\n",
      "Pandas(Index=37, a=186.0, b=187.0, c=188.0, d=189.0, e=190.0)\n",
      "Pandas(Index=38, a=191.0, b=192.0, c=193.0, d=194.0, e=195.0)\n",
      "Pandas(Index=39, a=196.0, b=197.0, c=198.0, d=199.0, e=200.0)\n",
      "Pandas(Index=40, a=201.0, b=202.0, c=203.0, d=204.0, e=205.0)\n",
      "Pandas(Index=41, a=206.0, b=207.0, c=208.0, d=209.0, e=210.0)\n",
      "Pandas(Index=42, a=211.0, b=212.0, c=213.0, d=214.0, e=215.0)\n",
      "Pandas(Index=43, a=216.0, b=217.0, c=218.0, d=219.0, e=220.0)\n",
      "Pandas(Index=44, a=221.0, b=222.0, c=223.0, d=224.0, e=225.0)\n",
      "Pandas(Index=45, a=226.0, b=227.0, c=228.0, d=229.0, e=230.0)\n",
      "Pandas(Index=46, a=231.0, b=232.0, c=233.0, d=234.0, e=235.0)\n",
      "Pandas(Index=47, a=236.0, b=237.0, c=238.0, d=239.0, e=240.0)\n",
      "Pandas(Index=48, a=241.0, b=242.0, c=243.0, d=244.0, e=245.0)\n",
      "Pandas(Index=49, a=246.0, b=247.0, c=248.0, d=249.0, e=250.0)\n",
      "Pandas(Index=50, a=251.0, b=252.0, c=253.0, d=254.0, e=255.0)\n",
      "Pandas(Index=51, a=256.0, b=257.0, c=258.0, d=259.0, e=260.0)\n",
      "Pandas(Index=52, a=261.0, b=262.0, c=263.0, d=264.0, e=265.0)\n",
      "Pandas(Index=53, a=266.0, b=267.0, c=268.0, d=269.0, e=270.0)\n",
      "Pandas(Index=54, a=271.0, b=272.0, c=273.0, d=274.0, e=275.0)\n",
      "Pandas(Index=55, a=276.0, b=277.0, c=278.0, d=279.0, e=280.0)\n",
      "Pandas(Index=56, a=281.0, b=282.0, c=283.0, d=284.0, e=285.0)\n",
      "Pandas(Index=57, a=286.0, b=287.0, c=288.0, d=289.0, e=290.0)\n",
      "Pandas(Index=58, a=291.0, b=292.0, c=293.0, d=294.0, e=295.0)\n",
      "Pandas(Index=59, a=296.0, b=297.0, c=298.0, d=299.0, e=300.0)\n",
      "Pandas(Index=60, a=301.0, b=302.0, c=303.0, d=304.0, e=305.0)\n",
      "Pandas(Index=61, a=306.0, b=307.0, c=308.0, d=309.0, e=310.0)\n",
      "Pandas(Index=62, a=311.0, b=312.0, c=313.0, d=314.0, e=315.0)\n",
      "Pandas(Index=63, a=316.0, b=317.0, c=318.0, d=319.0, e=320.0)\n",
      "Pandas(Index=64, a=321.0, b=322.0, c=323.0, d=324.0, e=325.0)\n",
      "Pandas(Index=65, a=326.0, b=327.0, c=328.0, d=329.0, e=330.0)\n",
      "Pandas(Index=66, a=331.0, b=332.0, c=333.0, d=334.0, e=335.0)\n",
      "Pandas(Index=67, a=336.0, b=337.0, c=338.0, d=339.0, e=340.0)\n",
      "Pandas(Index=68, a=341.0, b=342.0, c=343.0, d=344.0, e=345.0)\n",
      "Pandas(Index=69, a=346.0, b=347.0, c=348.0, d=349.0, e=350.0)\n",
      "Pandas(Index=70, a=351.0, b=352.0, c=353.0, d=354.0, e=355.0)\n",
      "Pandas(Index=71, a=356.0, b=357.0, c=358.0, d=359.0, e=360.0)\n",
      "Pandas(Index=72, a=361.0, b=362.0, c=363.0, d=364.0, e=365.0)\n",
      "Pandas(Index=73, a=366.0, b=367.0, c=368.0, d=369.0, e=370.0)\n",
      "Pandas(Index=74, a=371.0, b=372.0, c=373.0, d=374.0, e=375.0)\n",
      "Pandas(Index=75, a=376.0, b=377.0, c=378.0, d=379.0, e=380.0)\n",
      "Pandas(Index=76, a=381.0, b=382.0, c=383.0, d=384.0, e=385.0)\n",
      "Pandas(Index=77, a=386.0, b=387.0, c=388.0, d=389.0, e=390.0)\n",
      "Pandas(Index=78, a=391.0, b=392.0, c=393.0, d=394.0, e=395.0)\n",
      "Pandas(Index=79, a=396.0, b=397.0, c=398.0, d=399.0, e=400.0)\n",
      "Pandas(Index=80, a=401.0, b=402.0, c=403.0, d=404.0, e=405.0)\n",
      "Pandas(Index=81, a=406.0, b=407.0, c=408.0, d=409.0, e=410.0)\n",
      "Pandas(Index=82, a=411.0, b=412.0, c=413.0, d=414.0, e=415.0)\n",
      "Pandas(Index=83, a=416.0, b=417.0, c=418.0, d=419.0, e=420.0)\n",
      "Pandas(Index=84, a=421.0, b=422.0, c=423.0, d=424.0, e=425.0)\n",
      "Pandas(Index=85, a=426.0, b=427.0, c=428.0, d=429.0, e=430.0)\n",
      "Pandas(Index=86, a=431.0, b=432.0, c=433.0, d=434.0, e=435.0)\n",
      "Pandas(Index=87, a=436.0, b=437.0, c=438.0, d=439.0, e=440.0)\n",
      "Pandas(Index=88, a=441.0, b=442.0, c=443.0, d=444.0, e=445.0)\n",
      "Pandas(Index=89, a=446.0, b=447.0, c=448.0, d=449.0, e=450.0)\n",
      "Pandas(Index=90, a=451.0, b=452.0, c=453.0, d=454.0, e=455.0)\n",
      "Pandas(Index=91, a=456.0, b=457.0, c=458.0, d=459.0, e=460.0)\n",
      "Pandas(Index=92, a=461.0, b=462.0, c=463.0, d=464.0, e=465.0)\n",
      "Pandas(Index=93, a=466.0, b=467.0, c=468.0, d=469.0, e=470.0)\n",
      "Pandas(Index=94, a=471.0, b=472.0, c=473.0, d=474.0, e=475.0)\n",
      "Pandas(Index=95, a=476.0, b=477.0, c=478.0, d=479.0, e=480.0)\n",
      "Pandas(Index=96, a=481.0, b=482.0, c=483.0, d=484.0, e=485.0)\n",
      "Pandas(Index=97, a=486.0, b=487.0, c=488.0, d=489.0, e=490.0)\n",
      "Pandas(Index=98, a=491.0, b=492.0, c=493.0, d=494.0, e=495.0)\n",
      "Pandas(Index=99, a=496.0, b=497.0, c=498.0, d=499.0, e=500.0)\n"
     ]
    }
   ],
   "source": [
    "#itertuples read data rowwise in a tuple\n",
    "for tup in df.itertuples():\n",
    "    print(tup)"
   ]
  },
  {
   "cell_type": "code",
   "execution_count": 278,
   "metadata": {},
   "outputs": [
    {
     "name": "stdout",
     "output_type": "stream",
     "text": [
      "Pandas(Index=0, a=1.0, b=2.0, c=3.0, d=4.0, e=5.0)\n",
      "0 1.0 5.0\n"
     ]
    }
   ],
   "source": [
    "#itertuples read data rowwise in a tuple\n",
    "for tup in df.itertuples():\n",
    "    print(tup)\n",
    "    print(tup[0], tup[1], tup[-1])\n",
    "    break"
   ]
  },
  {
   "cell_type": "code",
   "execution_count": 280,
   "metadata": {},
   "outputs": [],
   "source": [
    "#group by operation"
   ]
  },
  {
   "cell_type": "code",
   "execution_count": 285,
   "metadata": {},
   "outputs": [],
   "source": [
    "dictionary1 = {\"Country\":['INDIA', 'USA', 'GER', 'CHINA', 'INDIA', 'USA', 'USA'],\n",
    "              \"YEAR\":[2000, 2000, 2001, 2001, 2001, 2001, 2002],\n",
    "              \"POPULATION IN MILLION\":[90, 30, 10, 95, 93, 35, 39]}"
   ]
  },
  {
   "cell_type": "code",
   "execution_count": 286,
   "metadata": {},
   "outputs": [
    {
     "data": {
      "text/plain": [
       "{'Country': ['INDIA', 'USA', 'GER', 'CHINA', 'INDIA', 'USA', 'USA'],\n",
       " 'YEAR': [2000, 2000, 2001, 2001, 2001, 2001, 2002],\n",
       " 'POPULATION IN MILLION': [90, 30, 10, 95, 93, 35, 39]}"
      ]
     },
     "execution_count": 286,
     "metadata": {},
     "output_type": "execute_result"
    }
   ],
   "source": [
    "dictionary1"
   ]
  },
  {
   "cell_type": "code",
   "execution_count": 288,
   "metadata": {},
   "outputs": [],
   "source": [
    "population_df = pd.DataFrame(dictionary1)"
   ]
  },
  {
   "cell_type": "code",
   "execution_count": 289,
   "metadata": {},
   "outputs": [
    {
     "data": {
      "text/html": [
       "<div>\n",
       "<style scoped>\n",
       "    .dataframe tbody tr th:only-of-type {\n",
       "        vertical-align: middle;\n",
       "    }\n",
       "\n",
       "    .dataframe tbody tr th {\n",
       "        vertical-align: top;\n",
       "    }\n",
       "\n",
       "    .dataframe thead th {\n",
       "        text-align: right;\n",
       "    }\n",
       "</style>\n",
       "<table border=\"1\" class=\"dataframe\">\n",
       "  <thead>\n",
       "    <tr style=\"text-align: right;\">\n",
       "      <th></th>\n",
       "      <th>Country</th>\n",
       "      <th>YEAR</th>\n",
       "      <th>POPULATION IN MILLION</th>\n",
       "    </tr>\n",
       "  </thead>\n",
       "  <tbody>\n",
       "    <tr>\n",
       "      <th>0</th>\n",
       "      <td>INDIA</td>\n",
       "      <td>2000</td>\n",
       "      <td>90</td>\n",
       "    </tr>\n",
       "    <tr>\n",
       "      <th>1</th>\n",
       "      <td>USA</td>\n",
       "      <td>2000</td>\n",
       "      <td>30</td>\n",
       "    </tr>\n",
       "    <tr>\n",
       "      <th>2</th>\n",
       "      <td>GER</td>\n",
       "      <td>2001</td>\n",
       "      <td>10</td>\n",
       "    </tr>\n",
       "    <tr>\n",
       "      <th>3</th>\n",
       "      <td>CHINA</td>\n",
       "      <td>2001</td>\n",
       "      <td>95</td>\n",
       "    </tr>\n",
       "    <tr>\n",
       "      <th>4</th>\n",
       "      <td>INDIA</td>\n",
       "      <td>2001</td>\n",
       "      <td>93</td>\n",
       "    </tr>\n",
       "    <tr>\n",
       "      <th>5</th>\n",
       "      <td>USA</td>\n",
       "      <td>2001</td>\n",
       "      <td>35</td>\n",
       "    </tr>\n",
       "    <tr>\n",
       "      <th>6</th>\n",
       "      <td>USA</td>\n",
       "      <td>2002</td>\n",
       "      <td>39</td>\n",
       "    </tr>\n",
       "  </tbody>\n",
       "</table>\n",
       "</div>"
      ],
      "text/plain": [
       "  Country  YEAR  POPULATION IN MILLION\n",
       "0   INDIA  2000                     90\n",
       "1     USA  2000                     30\n",
       "2     GER  2001                     10\n",
       "3   CHINA  2001                     95\n",
       "4   INDIA  2001                     93\n",
       "5     USA  2001                     35\n",
       "6     USA  2002                     39"
      ]
     },
     "execution_count": 289,
     "metadata": {},
     "output_type": "execute_result"
    }
   ],
   "source": [
    "population_df"
   ]
  },
  {
   "cell_type": "code",
   "execution_count": 291,
   "metadata": {},
   "outputs": [
    {
     "data": {
      "text/plain": [
       "{'CHINA': Int64Index([3], dtype='int64'),\n",
       " 'GER': Int64Index([2], dtype='int64'),\n",
       " 'INDIA': Int64Index([0, 4], dtype='int64'),\n",
       " 'USA': Int64Index([1, 5, 6], dtype='int64')}"
      ]
     },
     "execution_count": 291,
     "metadata": {},
     "output_type": "execute_result"
    }
   ],
   "source": [
    "population_df.groupby('Country').groups"
   ]
  },
  {
   "cell_type": "code",
   "execution_count": 292,
   "metadata": {},
   "outputs": [
    {
     "data": {
      "text/plain": [
       "{2000: Int64Index([0, 1], dtype='int64'),\n",
       " 2001: Int64Index([2, 3, 4, 5], dtype='int64'),\n",
       " 2002: Int64Index([6], dtype='int64')}"
      ]
     },
     "execution_count": 292,
     "metadata": {},
     "output_type": "execute_result"
    }
   ],
   "source": [
    "population_df.groupby('YEAR').groups"
   ]
  },
  {
   "cell_type": "code",
   "execution_count": 293,
   "metadata": {},
   "outputs": [],
   "source": [
    "grouped_countrywise=population_df.groupby('Country')"
   ]
  },
  {
   "cell_type": "code",
   "execution_count": 296,
   "metadata": {},
   "outputs": [
    {
     "name": "stdout",
     "output_type": "stream",
     "text": [
      "CHINA\n",
      "  Country  YEAR  POPULATION IN MILLION\n",
      "3   CHINA  2001                     95\n",
      "\n",
      "GER\n",
      "  Country  YEAR  POPULATION IN MILLION\n",
      "2     GER  2001                     10\n",
      "\n",
      "INDIA\n",
      "  Country  YEAR  POPULATION IN MILLION\n",
      "0   INDIA  2000                     90\n",
      "4   INDIA  2001                     93\n",
      "\n",
      "USA\n",
      "  Country  YEAR  POPULATION IN MILLION\n",
      "1     USA  2000                     30\n",
      "5     USA  2001                     35\n",
      "6     USA  2002                     39\n",
      "\n"
     ]
    }
   ],
   "source": [
    "for groupname, group in grouped_countrywise:\n",
    "    print(groupname)\n",
    "    print(group)\n",
    "    print()"
   ]
  },
  {
   "cell_type": "code",
   "execution_count": 297,
   "metadata": {},
   "outputs": [
    {
     "data": {
      "text/html": [
       "<div>\n",
       "<style scoped>\n",
       "    .dataframe tbody tr th:only-of-type {\n",
       "        vertical-align: middle;\n",
       "    }\n",
       "\n",
       "    .dataframe tbody tr th {\n",
       "        vertical-align: top;\n",
       "    }\n",
       "\n",
       "    .dataframe thead th {\n",
       "        text-align: right;\n",
       "    }\n",
       "</style>\n",
       "<table border=\"1\" class=\"dataframe\">\n",
       "  <thead>\n",
       "    <tr style=\"text-align: right;\">\n",
       "      <th></th>\n",
       "      <th>Country</th>\n",
       "      <th>YEAR</th>\n",
       "      <th>POPULATION IN MILLION</th>\n",
       "    </tr>\n",
       "  </thead>\n",
       "  <tbody>\n",
       "    <tr>\n",
       "      <th>1</th>\n",
       "      <td>USA</td>\n",
       "      <td>2000</td>\n",
       "      <td>30</td>\n",
       "    </tr>\n",
       "    <tr>\n",
       "      <th>5</th>\n",
       "      <td>USA</td>\n",
       "      <td>2001</td>\n",
       "      <td>35</td>\n",
       "    </tr>\n",
       "    <tr>\n",
       "      <th>6</th>\n",
       "      <td>USA</td>\n",
       "      <td>2002</td>\n",
       "      <td>39</td>\n",
       "    </tr>\n",
       "  </tbody>\n",
       "</table>\n",
       "</div>"
      ],
      "text/plain": [
       "  Country  YEAR  POPULATION IN MILLION\n",
       "1     USA  2000                     30\n",
       "5     USA  2001                     35\n",
       "6     USA  2002                     39"
      ]
     },
     "execution_count": 297,
     "metadata": {},
     "output_type": "execute_result"
    }
   ],
   "source": [
    "grouped_countrywise.get_group('USA')"
   ]
  },
  {
   "cell_type": "code",
   "execution_count": 301,
   "metadata": {},
   "outputs": [],
   "source": [
    "country_population_aggregated_df = population_df.groupby('Country')[['POPULATION IN MILLION']].sum()"
   ]
  },
  {
   "cell_type": "code",
   "execution_count": 302,
   "metadata": {},
   "outputs": [
    {
     "data": {
      "text/html": [
       "<div>\n",
       "<style scoped>\n",
       "    .dataframe tbody tr th:only-of-type {\n",
       "        vertical-align: middle;\n",
       "    }\n",
       "\n",
       "    .dataframe tbody tr th {\n",
       "        vertical-align: top;\n",
       "    }\n",
       "\n",
       "    .dataframe thead th {\n",
       "        text-align: right;\n",
       "    }\n",
       "</style>\n",
       "<table border=\"1\" class=\"dataframe\">\n",
       "  <thead>\n",
       "    <tr style=\"text-align: right;\">\n",
       "      <th></th>\n",
       "      <th>POPULATION IN MILLION</th>\n",
       "    </tr>\n",
       "    <tr>\n",
       "      <th>Country</th>\n",
       "      <th></th>\n",
       "    </tr>\n",
       "  </thead>\n",
       "  <tbody>\n",
       "    <tr>\n",
       "      <th>CHINA</th>\n",
       "      <td>95</td>\n",
       "    </tr>\n",
       "    <tr>\n",
       "      <th>GER</th>\n",
       "      <td>10</td>\n",
       "    </tr>\n",
       "    <tr>\n",
       "      <th>INDIA</th>\n",
       "      <td>183</td>\n",
       "    </tr>\n",
       "    <tr>\n",
       "      <th>USA</th>\n",
       "      <td>104</td>\n",
       "    </tr>\n",
       "  </tbody>\n",
       "</table>\n",
       "</div>"
      ],
      "text/plain": [
       "         POPULATION IN MILLION\n",
       "Country                       \n",
       "CHINA                       95\n",
       "GER                         10\n",
       "INDIA                      183\n",
       "USA                        104"
      ]
     },
     "execution_count": 302,
     "metadata": {},
     "output_type": "execute_result"
    }
   ],
   "source": [
    "country_population_aggregated_df"
   ]
  },
  {
   "cell_type": "code",
   "execution_count": 306,
   "metadata": {},
   "outputs": [],
   "source": [
    "population_std_df=population_df.groupby('Country')[['POPULATION IN MILLION']].std()"
   ]
  },
  {
   "cell_type": "code",
   "execution_count": 303,
   "metadata": {},
   "outputs": [],
   "source": [
    "country_population_aggregated_df.to_csv('country_population_aggregated_df.csv')"
   ]
  },
  {
   "cell_type": "code",
   "execution_count": 307,
   "metadata": {},
   "outputs": [
    {
     "data": {
      "text/html": [
       "<div>\n",
       "<style scoped>\n",
       "    .dataframe tbody tr th:only-of-type {\n",
       "        vertical-align: middle;\n",
       "    }\n",
       "\n",
       "    .dataframe tbody tr th {\n",
       "        vertical-align: top;\n",
       "    }\n",
       "\n",
       "    .dataframe thead th {\n",
       "        text-align: right;\n",
       "    }\n",
       "</style>\n",
       "<table border=\"1\" class=\"dataframe\">\n",
       "  <thead>\n",
       "    <tr style=\"text-align: right;\">\n",
       "      <th></th>\n",
       "      <th>POPULATION IN MILLION</th>\n",
       "    </tr>\n",
       "    <tr>\n",
       "      <th>Country</th>\n",
       "      <th></th>\n",
       "    </tr>\n",
       "  </thead>\n",
       "  <tbody>\n",
       "    <tr>\n",
       "      <th>CHINA</th>\n",
       "      <td>NaN</td>\n",
       "    </tr>\n",
       "    <tr>\n",
       "      <th>GER</th>\n",
       "      <td>NaN</td>\n",
       "    </tr>\n",
       "    <tr>\n",
       "      <th>INDIA</th>\n",
       "      <td>2.12132</td>\n",
       "    </tr>\n",
       "    <tr>\n",
       "      <th>USA</th>\n",
       "      <td>4.50925</td>\n",
       "    </tr>\n",
       "  </tbody>\n",
       "</table>\n",
       "</div>"
      ],
      "text/plain": [
       "         POPULATION IN MILLION\n",
       "Country                       \n",
       "CHINA                      NaN\n",
       "GER                        NaN\n",
       "INDIA                  2.12132\n",
       "USA                    4.50925"
      ]
     },
     "execution_count": 307,
     "metadata": {},
     "output_type": "execute_result"
    }
   ],
   "source": [
    "population_std_df"
   ]
  },
  {
   "cell_type": "code",
   "execution_count": 308,
   "metadata": {},
   "outputs": [
    {
     "data": {
      "text/html": [
       "<div>\n",
       "<style scoped>\n",
       "    .dataframe tbody tr th:only-of-type {\n",
       "        vertical-align: middle;\n",
       "    }\n",
       "\n",
       "    .dataframe tbody tr th {\n",
       "        vertical-align: top;\n",
       "    }\n",
       "\n",
       "    .dataframe thead th {\n",
       "        text-align: right;\n",
       "    }\n",
       "</style>\n",
       "<table border=\"1\" class=\"dataframe\">\n",
       "  <thead>\n",
       "    <tr style=\"text-align: right;\">\n",
       "      <th></th>\n",
       "      <th>POPULATION IN MILLION</th>\n",
       "    </tr>\n",
       "    <tr>\n",
       "      <th>Country</th>\n",
       "      <th></th>\n",
       "    </tr>\n",
       "  </thead>\n",
       "  <tbody>\n",
       "    <tr>\n",
       "      <th>CHINA</th>\n",
       "      <td>95</td>\n",
       "    </tr>\n",
       "    <tr>\n",
       "      <th>GER</th>\n",
       "      <td>10</td>\n",
       "    </tr>\n",
       "    <tr>\n",
       "      <th>INDIA</th>\n",
       "      <td>183</td>\n",
       "    </tr>\n",
       "    <tr>\n",
       "      <th>USA</th>\n",
       "      <td>104</td>\n",
       "    </tr>\n",
       "  </tbody>\n",
       "</table>\n",
       "</div>"
      ],
      "text/plain": [
       "         POPULATION IN MILLION\n",
       "Country                       \n",
       "CHINA                       95\n",
       "GER                         10\n",
       "INDIA                      183\n",
       "USA                        104"
      ]
     },
     "execution_count": 308,
     "metadata": {},
     "output_type": "execute_result"
    }
   ],
   "source": [
    "country_population_aggregated_df"
   ]
  },
  {
   "cell_type": "code",
   "execution_count": 309,
   "metadata": {},
   "outputs": [
    {
     "data": {
      "text/html": [
       "<div>\n",
       "<style scoped>\n",
       "    .dataframe tbody tr th:only-of-type {\n",
       "        vertical-align: middle;\n",
       "    }\n",
       "\n",
       "    .dataframe tbody tr th {\n",
       "        vertical-align: top;\n",
       "    }\n",
       "\n",
       "    .dataframe thead th {\n",
       "        text-align: right;\n",
       "    }\n",
       "</style>\n",
       "<table border=\"1\" class=\"dataframe\">\n",
       "  <thead>\n",
       "    <tr style=\"text-align: right;\">\n",
       "      <th></th>\n",
       "      <th>POPULATION IN MILLION</th>\n",
       "    </tr>\n",
       "    <tr>\n",
       "      <th>Country</th>\n",
       "      <th></th>\n",
       "    </tr>\n",
       "  </thead>\n",
       "  <tbody>\n",
       "    <tr>\n",
       "      <th>CHINA</th>\n",
       "      <td>NaN</td>\n",
       "    </tr>\n",
       "    <tr>\n",
       "      <th>GER</th>\n",
       "      <td>NaN</td>\n",
       "    </tr>\n",
       "    <tr>\n",
       "      <th>INDIA</th>\n",
       "      <td>2.12132</td>\n",
       "    </tr>\n",
       "    <tr>\n",
       "      <th>USA</th>\n",
       "      <td>4.50925</td>\n",
       "    </tr>\n",
       "    <tr>\n",
       "      <th>CHINA</th>\n",
       "      <td>95.00000</td>\n",
       "    </tr>\n",
       "    <tr>\n",
       "      <th>GER</th>\n",
       "      <td>10.00000</td>\n",
       "    </tr>\n",
       "    <tr>\n",
       "      <th>INDIA</th>\n",
       "      <td>183.00000</td>\n",
       "    </tr>\n",
       "    <tr>\n",
       "      <th>USA</th>\n",
       "      <td>104.00000</td>\n",
       "    </tr>\n",
       "  </tbody>\n",
       "</table>\n",
       "</div>"
      ],
      "text/plain": [
       "         POPULATION IN MILLION\n",
       "Country                       \n",
       "CHINA                      NaN\n",
       "GER                        NaN\n",
       "INDIA                  2.12132\n",
       "USA                    4.50925\n",
       "CHINA                 95.00000\n",
       "GER                   10.00000\n",
       "INDIA                183.00000\n",
       "USA                  104.00000"
      ]
     },
     "execution_count": 309,
     "metadata": {},
     "output_type": "execute_result"
    }
   ],
   "source": [
    "pd.concat([population_std_df, country_population_aggregated_df])"
   ]
  },
  {
   "cell_type": "code",
   "execution_count": 311,
   "metadata": {},
   "outputs": [],
   "source": [
    "year_df = population_df.groupby('Country')[['YEAR']].std()"
   ]
  },
  {
   "cell_type": "code",
   "execution_count": 312,
   "metadata": {},
   "outputs": [
    {
     "data": {
      "text/html": [
       "<div>\n",
       "<style scoped>\n",
       "    .dataframe tbody tr th:only-of-type {\n",
       "        vertical-align: middle;\n",
       "    }\n",
       "\n",
       "    .dataframe tbody tr th {\n",
       "        vertical-align: top;\n",
       "    }\n",
       "\n",
       "    .dataframe thead th {\n",
       "        text-align: right;\n",
       "    }\n",
       "</style>\n",
       "<table border=\"1\" class=\"dataframe\">\n",
       "  <thead>\n",
       "    <tr style=\"text-align: right;\">\n",
       "      <th></th>\n",
       "      <th>YEAR</th>\n",
       "    </tr>\n",
       "    <tr>\n",
       "      <th>Country</th>\n",
       "      <th></th>\n",
       "    </tr>\n",
       "  </thead>\n",
       "  <tbody>\n",
       "    <tr>\n",
       "      <th>CHINA</th>\n",
       "      <td>NaN</td>\n",
       "    </tr>\n",
       "    <tr>\n",
       "      <th>GER</th>\n",
       "      <td>NaN</td>\n",
       "    </tr>\n",
       "    <tr>\n",
       "      <th>INDIA</th>\n",
       "      <td>0.707107</td>\n",
       "    </tr>\n",
       "    <tr>\n",
       "      <th>USA</th>\n",
       "      <td>1.000000</td>\n",
       "    </tr>\n",
       "  </tbody>\n",
       "</table>\n",
       "</div>"
      ],
      "text/plain": [
       "             YEAR\n",
       "Country          \n",
       "CHINA         NaN\n",
       "GER           NaN\n",
       "INDIA    0.707107\n",
       "USA      1.000000"
      ]
     },
     "execution_count": 312,
     "metadata": {},
     "output_type": "execute_result"
    }
   ],
   "source": [
    "year_df"
   ]
  },
  {
   "cell_type": "code",
   "execution_count": 313,
   "metadata": {},
   "outputs": [
    {
     "name": "stderr",
     "output_type": "stream",
     "text": [
      "C:\\ProgramData\\Anaconda3\\lib\\site-packages\\ipykernel_launcher.py:1: FutureWarning: Sorting because non-concatenation axis is not aligned. A future version\n",
      "of pandas will change to not sort by default.\n",
      "\n",
      "To accept the future behavior, pass 'sort=False'.\n",
      "\n",
      "To retain the current behavior and silence the warning, pass 'sort=True'.\n",
      "\n",
      "  \"\"\"Entry point for launching an IPython kernel.\n"
     ]
    },
    {
     "data": {
      "text/html": [
       "<div>\n",
       "<style scoped>\n",
       "    .dataframe tbody tr th:only-of-type {\n",
       "        vertical-align: middle;\n",
       "    }\n",
       "\n",
       "    .dataframe tbody tr th {\n",
       "        vertical-align: top;\n",
       "    }\n",
       "\n",
       "    .dataframe thead th {\n",
       "        text-align: right;\n",
       "    }\n",
       "</style>\n",
       "<table border=\"1\" class=\"dataframe\">\n",
       "  <thead>\n",
       "    <tr style=\"text-align: right;\">\n",
       "      <th></th>\n",
       "      <th>POPULATION IN MILLION</th>\n",
       "      <th>YEAR</th>\n",
       "    </tr>\n",
       "    <tr>\n",
       "      <th>Country</th>\n",
       "      <th></th>\n",
       "      <th></th>\n",
       "    </tr>\n",
       "  </thead>\n",
       "  <tbody>\n",
       "    <tr>\n",
       "      <th>CHINA</th>\n",
       "      <td>NaN</td>\n",
       "      <td>NaN</td>\n",
       "    </tr>\n",
       "    <tr>\n",
       "      <th>GER</th>\n",
       "      <td>NaN</td>\n",
       "      <td>NaN</td>\n",
       "    </tr>\n",
       "    <tr>\n",
       "      <th>INDIA</th>\n",
       "      <td>2.12132</td>\n",
       "      <td>NaN</td>\n",
       "    </tr>\n",
       "    <tr>\n",
       "      <th>USA</th>\n",
       "      <td>4.50925</td>\n",
       "      <td>NaN</td>\n",
       "    </tr>\n",
       "    <tr>\n",
       "      <th>CHINA</th>\n",
       "      <td>NaN</td>\n",
       "      <td>NaN</td>\n",
       "    </tr>\n",
       "    <tr>\n",
       "      <th>GER</th>\n",
       "      <td>NaN</td>\n",
       "      <td>NaN</td>\n",
       "    </tr>\n",
       "    <tr>\n",
       "      <th>INDIA</th>\n",
       "      <td>NaN</td>\n",
       "      <td>0.707107</td>\n",
       "    </tr>\n",
       "    <tr>\n",
       "      <th>USA</th>\n",
       "      <td>NaN</td>\n",
       "      <td>1.000000</td>\n",
       "    </tr>\n",
       "  </tbody>\n",
       "</table>\n",
       "</div>"
      ],
      "text/plain": [
       "         POPULATION IN MILLION      YEAR\n",
       "Country                                 \n",
       "CHINA                      NaN       NaN\n",
       "GER                        NaN       NaN\n",
       "INDIA                  2.12132       NaN\n",
       "USA                    4.50925       NaN\n",
       "CHINA                      NaN       NaN\n",
       "GER                        NaN       NaN\n",
       "INDIA                      NaN  0.707107\n",
       "USA                        NaN  1.000000"
      ]
     },
     "execution_count": 313,
     "metadata": {},
     "output_type": "execute_result"
    }
   ],
   "source": [
    "pd.concat([population_std_df, year_df])"
   ]
  },
  {
   "cell_type": "code",
   "execution_count": 315,
   "metadata": {},
   "outputs": [],
   "source": [
    "df4=pd.concat([population_std_df, year_df], axis=1)"
   ]
  },
  {
   "cell_type": "code",
   "execution_count": 316,
   "metadata": {},
   "outputs": [
    {
     "data": {
      "text/html": [
       "<div>\n",
       "<style scoped>\n",
       "    .dataframe tbody tr th:only-of-type {\n",
       "        vertical-align: middle;\n",
       "    }\n",
       "\n",
       "    .dataframe tbody tr th {\n",
       "        vertical-align: top;\n",
       "    }\n",
       "\n",
       "    .dataframe thead th {\n",
       "        text-align: right;\n",
       "    }\n",
       "</style>\n",
       "<table border=\"1\" class=\"dataframe\">\n",
       "  <thead>\n",
       "    <tr style=\"text-align: right;\">\n",
       "      <th></th>\n",
       "      <th>POPULATION IN MILLION</th>\n",
       "      <th>YEAR</th>\n",
       "    </tr>\n",
       "    <tr>\n",
       "      <th>Country</th>\n",
       "      <th></th>\n",
       "      <th></th>\n",
       "    </tr>\n",
       "  </thead>\n",
       "  <tbody>\n",
       "    <tr>\n",
       "      <th>CHINA</th>\n",
       "      <td>NaN</td>\n",
       "      <td>NaN</td>\n",
       "    </tr>\n",
       "    <tr>\n",
       "      <th>GER</th>\n",
       "      <td>NaN</td>\n",
       "      <td>NaN</td>\n",
       "    </tr>\n",
       "    <tr>\n",
       "      <th>INDIA</th>\n",
       "      <td>2.12132</td>\n",
       "      <td>0.707107</td>\n",
       "    </tr>\n",
       "    <tr>\n",
       "      <th>USA</th>\n",
       "      <td>4.50925</td>\n",
       "      <td>1.000000</td>\n",
       "    </tr>\n",
       "  </tbody>\n",
       "</table>\n",
       "</div>"
      ],
      "text/plain": [
       "         POPULATION IN MILLION      YEAR\n",
       "Country                                 \n",
       "CHINA                      NaN       NaN\n",
       "GER                        NaN       NaN\n",
       "INDIA                  2.12132  0.707107\n",
       "USA                    4.50925  1.000000"
      ]
     },
     "execution_count": 316,
     "metadata": {},
     "output_type": "execute_result"
    }
   ],
   "source": [
    "df4"
   ]
  },
  {
   "cell_type": "code",
   "execution_count": 318,
   "metadata": {},
   "outputs": [
    {
     "name": "stdout",
     "output_type": "stream",
     "text": [
      "<class 'pandas.core.frame.DataFrame'>\n",
      "Index: 4 entries, CHINA to USA\n",
      "Data columns (total 2 columns):\n",
      "POPULATION IN MILLION    2 non-null float64\n",
      "YEAR                     2 non-null float64\n",
      "dtypes: float64(2)\n",
      "memory usage: 96.0+ bytes\n"
     ]
    }
   ],
   "source": [
    "df4.info()"
   ]
  },
  {
   "cell_type": "code",
   "execution_count": 320,
   "metadata": {},
   "outputs": [],
   "source": [
    "df4.columns=['population std', 'year']"
   ]
  },
  {
   "cell_type": "code",
   "execution_count": 321,
   "metadata": {},
   "outputs": [
    {
     "data": {
      "text/html": [
       "<div>\n",
       "<style scoped>\n",
       "    .dataframe tbody tr th:only-of-type {\n",
       "        vertical-align: middle;\n",
       "    }\n",
       "\n",
       "    .dataframe tbody tr th {\n",
       "        vertical-align: top;\n",
       "    }\n",
       "\n",
       "    .dataframe thead th {\n",
       "        text-align: right;\n",
       "    }\n",
       "</style>\n",
       "<table border=\"1\" class=\"dataframe\">\n",
       "  <thead>\n",
       "    <tr style=\"text-align: right;\">\n",
       "      <th></th>\n",
       "      <th>population std</th>\n",
       "      <th>year</th>\n",
       "    </tr>\n",
       "    <tr>\n",
       "      <th>Country</th>\n",
       "      <th></th>\n",
       "      <th></th>\n",
       "    </tr>\n",
       "  </thead>\n",
       "  <tbody>\n",
       "    <tr>\n",
       "      <th>CHINA</th>\n",
       "      <td>NaN</td>\n",
       "      <td>NaN</td>\n",
       "    </tr>\n",
       "    <tr>\n",
       "      <th>GER</th>\n",
       "      <td>NaN</td>\n",
       "      <td>NaN</td>\n",
       "    </tr>\n",
       "    <tr>\n",
       "      <th>INDIA</th>\n",
       "      <td>2.12132</td>\n",
       "      <td>0.707107</td>\n",
       "    </tr>\n",
       "    <tr>\n",
       "      <th>USA</th>\n",
       "      <td>4.50925</td>\n",
       "      <td>1.000000</td>\n",
       "    </tr>\n",
       "  </tbody>\n",
       "</table>\n",
       "</div>"
      ],
      "text/plain": [
       "         population std      year\n",
       "Country                          \n",
       "CHINA               NaN       NaN\n",
       "GER                 NaN       NaN\n",
       "INDIA           2.12132  0.707107\n",
       "USA             4.50925  1.000000"
      ]
     },
     "execution_count": 321,
     "metadata": {},
     "output_type": "execute_result"
    }
   ],
   "source": [
    "df4"
   ]
  },
  {
   "cell_type": "code",
   "execution_count": 323,
   "metadata": {},
   "outputs": [],
   "source": [
    "df4.reset_index(inplace=True)"
   ]
  },
  {
   "cell_type": "code",
   "execution_count": 324,
   "metadata": {},
   "outputs": [
    {
     "data": {
      "text/html": [
       "<div>\n",
       "<style scoped>\n",
       "    .dataframe tbody tr th:only-of-type {\n",
       "        vertical-align: middle;\n",
       "    }\n",
       "\n",
       "    .dataframe tbody tr th {\n",
       "        vertical-align: top;\n",
       "    }\n",
       "\n",
       "    .dataframe thead th {\n",
       "        text-align: right;\n",
       "    }\n",
       "</style>\n",
       "<table border=\"1\" class=\"dataframe\">\n",
       "  <thead>\n",
       "    <tr style=\"text-align: right;\">\n",
       "      <th></th>\n",
       "      <th>Country</th>\n",
       "      <th>population std</th>\n",
       "      <th>year</th>\n",
       "    </tr>\n",
       "  </thead>\n",
       "  <tbody>\n",
       "    <tr>\n",
       "      <th>0</th>\n",
       "      <td>CHINA</td>\n",
       "      <td>NaN</td>\n",
       "      <td>NaN</td>\n",
       "    </tr>\n",
       "    <tr>\n",
       "      <th>1</th>\n",
       "      <td>GER</td>\n",
       "      <td>NaN</td>\n",
       "      <td>NaN</td>\n",
       "    </tr>\n",
       "    <tr>\n",
       "      <th>2</th>\n",
       "      <td>INDIA</td>\n",
       "      <td>2.12132</td>\n",
       "      <td>0.707107</td>\n",
       "    </tr>\n",
       "    <tr>\n",
       "      <th>3</th>\n",
       "      <td>USA</td>\n",
       "      <td>4.50925</td>\n",
       "      <td>1.000000</td>\n",
       "    </tr>\n",
       "  </tbody>\n",
       "</table>\n",
       "</div>"
      ],
      "text/plain": [
       "  Country  population std      year\n",
       "0   CHINA             NaN       NaN\n",
       "1     GER             NaN       NaN\n",
       "2   INDIA         2.12132  0.707107\n",
       "3     USA         4.50925  1.000000"
      ]
     },
     "execution_count": 324,
     "metadata": {},
     "output_type": "execute_result"
    }
   ],
   "source": [
    "df4"
   ]
  },
  {
   "cell_type": "code",
   "execution_count": 326,
   "metadata": {},
   "outputs": [],
   "source": [
    "country_population_aggregated_df.reset_index(inplace=True)"
   ]
  },
  {
   "cell_type": "code",
   "execution_count": 327,
   "metadata": {},
   "outputs": [
    {
     "data": {
      "text/html": [
       "<div>\n",
       "<style scoped>\n",
       "    .dataframe tbody tr th:only-of-type {\n",
       "        vertical-align: middle;\n",
       "    }\n",
       "\n",
       "    .dataframe tbody tr th {\n",
       "        vertical-align: top;\n",
       "    }\n",
       "\n",
       "    .dataframe thead th {\n",
       "        text-align: right;\n",
       "    }\n",
       "</style>\n",
       "<table border=\"1\" class=\"dataframe\">\n",
       "  <thead>\n",
       "    <tr style=\"text-align: right;\">\n",
       "      <th></th>\n",
       "      <th>Country</th>\n",
       "      <th>POPULATION IN MILLION</th>\n",
       "    </tr>\n",
       "  </thead>\n",
       "  <tbody>\n",
       "    <tr>\n",
       "      <th>0</th>\n",
       "      <td>CHINA</td>\n",
       "      <td>95</td>\n",
       "    </tr>\n",
       "    <tr>\n",
       "      <th>1</th>\n",
       "      <td>GER</td>\n",
       "      <td>10</td>\n",
       "    </tr>\n",
       "    <tr>\n",
       "      <th>2</th>\n",
       "      <td>INDIA</td>\n",
       "      <td>183</td>\n",
       "    </tr>\n",
       "    <tr>\n",
       "      <th>3</th>\n",
       "      <td>USA</td>\n",
       "      <td>104</td>\n",
       "    </tr>\n",
       "  </tbody>\n",
       "</table>\n",
       "</div>"
      ],
      "text/plain": [
       "  Country  POPULATION IN MILLION\n",
       "0   CHINA                     95\n",
       "1     GER                     10\n",
       "2   INDIA                    183\n",
       "3     USA                    104"
      ]
     },
     "execution_count": 327,
     "metadata": {},
     "output_type": "execute_result"
    }
   ],
   "source": [
    "country_population_aggregated_df"
   ]
  },
  {
   "cell_type": "code",
   "execution_count": 341,
   "metadata": {},
   "outputs": [],
   "source": [
    "country_population_aggregated_df.drop([2], inplace=True)"
   ]
  },
  {
   "cell_type": "code",
   "execution_count": 342,
   "metadata": {},
   "outputs": [
    {
     "data": {
      "text/html": [
       "<div>\n",
       "<style scoped>\n",
       "    .dataframe tbody tr th:only-of-type {\n",
       "        vertical-align: middle;\n",
       "    }\n",
       "\n",
       "    .dataframe tbody tr th {\n",
       "        vertical-align: top;\n",
       "    }\n",
       "\n",
       "    .dataframe thead th {\n",
       "        text-align: right;\n",
       "    }\n",
       "</style>\n",
       "<table border=\"1\" class=\"dataframe\">\n",
       "  <thead>\n",
       "    <tr style=\"text-align: right;\">\n",
       "      <th></th>\n",
       "      <th>Country</th>\n",
       "      <th>POPULATION IN MILLION</th>\n",
       "    </tr>\n",
       "  </thead>\n",
       "  <tbody>\n",
       "    <tr>\n",
       "      <th>0</th>\n",
       "      <td>CHINA</td>\n",
       "      <td>95</td>\n",
       "    </tr>\n",
       "    <tr>\n",
       "      <th>1</th>\n",
       "      <td>GER</td>\n",
       "      <td>10</td>\n",
       "    </tr>\n",
       "    <tr>\n",
       "      <th>3</th>\n",
       "      <td>USA</td>\n",
       "      <td>104</td>\n",
       "    </tr>\n",
       "  </tbody>\n",
       "</table>\n",
       "</div>"
      ],
      "text/plain": [
       "  Country  POPULATION IN MILLION\n",
       "0   CHINA                     95\n",
       "1     GER                     10\n",
       "3     USA                    104"
      ]
     },
     "execution_count": 342,
     "metadata": {},
     "output_type": "execute_result"
    }
   ],
   "source": [
    "country_population_aggregated_df"
   ]
  },
  {
   "cell_type": "code",
   "execution_count": 328,
   "metadata": {},
   "outputs": [
    {
     "data": {
      "text/html": [
       "<div>\n",
       "<style scoped>\n",
       "    .dataframe tbody tr th:only-of-type {\n",
       "        vertical-align: middle;\n",
       "    }\n",
       "\n",
       "    .dataframe tbody tr th {\n",
       "        vertical-align: top;\n",
       "    }\n",
       "\n",
       "    .dataframe thead th {\n",
       "        text-align: right;\n",
       "    }\n",
       "</style>\n",
       "<table border=\"1\" class=\"dataframe\">\n",
       "  <thead>\n",
       "    <tr style=\"text-align: right;\">\n",
       "      <th></th>\n",
       "      <th>Country</th>\n",
       "      <th>POPULATION IN MILLION</th>\n",
       "      <th>population std</th>\n",
       "      <th>year</th>\n",
       "    </tr>\n",
       "  </thead>\n",
       "  <tbody>\n",
       "    <tr>\n",
       "      <th>0</th>\n",
       "      <td>CHINA</td>\n",
       "      <td>95</td>\n",
       "      <td>NaN</td>\n",
       "      <td>NaN</td>\n",
       "    </tr>\n",
       "    <tr>\n",
       "      <th>1</th>\n",
       "      <td>GER</td>\n",
       "      <td>10</td>\n",
       "      <td>NaN</td>\n",
       "      <td>NaN</td>\n",
       "    </tr>\n",
       "    <tr>\n",
       "      <th>2</th>\n",
       "      <td>INDIA</td>\n",
       "      <td>183</td>\n",
       "      <td>2.12132</td>\n",
       "      <td>0.707107</td>\n",
       "    </tr>\n",
       "    <tr>\n",
       "      <th>3</th>\n",
       "      <td>USA</td>\n",
       "      <td>104</td>\n",
       "      <td>4.50925</td>\n",
       "      <td>1.000000</td>\n",
       "    </tr>\n",
       "  </tbody>\n",
       "</table>\n",
       "</div>"
      ],
      "text/plain": [
       "  Country  POPULATION IN MILLION  population std      year\n",
       "0   CHINA                     95             NaN       NaN\n",
       "1     GER                     10             NaN       NaN\n",
       "2   INDIA                    183         2.12132  0.707107\n",
       "3     USA                    104         4.50925  1.000000"
      ]
     },
     "execution_count": 328,
     "metadata": {},
     "output_type": "execute_result"
    }
   ],
   "source": [
    "pd.merge(country_population_aggregated_df, df4, on='Country')"
   ]
  },
  {
   "cell_type": "code",
   "execution_count": 331,
   "metadata": {},
   "outputs": [],
   "source": [
    "df5=df4.dropna()"
   ]
  },
  {
   "cell_type": "code",
   "execution_count": 332,
   "metadata": {},
   "outputs": [
    {
     "data": {
      "text/html": [
       "<div>\n",
       "<style scoped>\n",
       "    .dataframe tbody tr th:only-of-type {\n",
       "        vertical-align: middle;\n",
       "    }\n",
       "\n",
       "    .dataframe tbody tr th {\n",
       "        vertical-align: top;\n",
       "    }\n",
       "\n",
       "    .dataframe thead th {\n",
       "        text-align: right;\n",
       "    }\n",
       "</style>\n",
       "<table border=\"1\" class=\"dataframe\">\n",
       "  <thead>\n",
       "    <tr style=\"text-align: right;\">\n",
       "      <th></th>\n",
       "      <th>Country</th>\n",
       "      <th>population std</th>\n",
       "      <th>year</th>\n",
       "    </tr>\n",
       "  </thead>\n",
       "  <tbody>\n",
       "    <tr>\n",
       "      <th>2</th>\n",
       "      <td>INDIA</td>\n",
       "      <td>2.12132</td>\n",
       "      <td>0.707107</td>\n",
       "    </tr>\n",
       "    <tr>\n",
       "      <th>3</th>\n",
       "      <td>USA</td>\n",
       "      <td>4.50925</td>\n",
       "      <td>1.000000</td>\n",
       "    </tr>\n",
       "  </tbody>\n",
       "</table>\n",
       "</div>"
      ],
      "text/plain": [
       "  Country  population std      year\n",
       "2   INDIA         2.12132  0.707107\n",
       "3     USA         4.50925  1.000000"
      ]
     },
     "execution_count": 332,
     "metadata": {},
     "output_type": "execute_result"
    }
   ],
   "source": [
    "df5"
   ]
  },
  {
   "cell_type": "code",
   "execution_count": 344,
   "metadata": {},
   "outputs": [
    {
     "data": {
      "text/html": [
       "<div>\n",
       "<style scoped>\n",
       "    .dataframe tbody tr th:only-of-type {\n",
       "        vertical-align: middle;\n",
       "    }\n",
       "\n",
       "    .dataframe tbody tr th {\n",
       "        vertical-align: top;\n",
       "    }\n",
       "\n",
       "    .dataframe thead th {\n",
       "        text-align: right;\n",
       "    }\n",
       "</style>\n",
       "<table border=\"1\" class=\"dataframe\">\n",
       "  <thead>\n",
       "    <tr style=\"text-align: right;\">\n",
       "      <th></th>\n",
       "      <th>Country</th>\n",
       "      <th>POPULATION IN MILLION</th>\n",
       "    </tr>\n",
       "  </thead>\n",
       "  <tbody>\n",
       "    <tr>\n",
       "      <th>0</th>\n",
       "      <td>CHINA</td>\n",
       "      <td>95</td>\n",
       "    </tr>\n",
       "    <tr>\n",
       "      <th>1</th>\n",
       "      <td>GER</td>\n",
       "      <td>10</td>\n",
       "    </tr>\n",
       "    <tr>\n",
       "      <th>3</th>\n",
       "      <td>USA</td>\n",
       "      <td>104</td>\n",
       "    </tr>\n",
       "  </tbody>\n",
       "</table>\n",
       "</div>"
      ],
      "text/plain": [
       "  Country  POPULATION IN MILLION\n",
       "0   CHINA                     95\n",
       "1     GER                     10\n",
       "3     USA                    104"
      ]
     },
     "execution_count": 344,
     "metadata": {},
     "output_type": "execute_result"
    }
   ],
   "source": [
    "country_population_aggregated_df"
   ]
  },
  {
   "cell_type": "code",
   "execution_count": 343,
   "metadata": {},
   "outputs": [
    {
     "data": {
      "text/html": [
       "<div>\n",
       "<style scoped>\n",
       "    .dataframe tbody tr th:only-of-type {\n",
       "        vertical-align: middle;\n",
       "    }\n",
       "\n",
       "    .dataframe tbody tr th {\n",
       "        vertical-align: top;\n",
       "    }\n",
       "\n",
       "    .dataframe thead th {\n",
       "        text-align: right;\n",
       "    }\n",
       "</style>\n",
       "<table border=\"1\" class=\"dataframe\">\n",
       "  <thead>\n",
       "    <tr style=\"text-align: right;\">\n",
       "      <th></th>\n",
       "      <th>Country</th>\n",
       "      <th>POPULATION IN MILLION</th>\n",
       "      <th>population std</th>\n",
       "      <th>year</th>\n",
       "    </tr>\n",
       "  </thead>\n",
       "  <tbody>\n",
       "    <tr>\n",
       "      <th>0</th>\n",
       "      <td>USA</td>\n",
       "      <td>104</td>\n",
       "      <td>4.50925</td>\n",
       "      <td>1.0</td>\n",
       "    </tr>\n",
       "  </tbody>\n",
       "</table>\n",
       "</div>"
      ],
      "text/plain": [
       "  Country  POPULATION IN MILLION  population std  year\n",
       "0     USA                    104         4.50925   1.0"
      ]
     },
     "execution_count": 343,
     "metadata": {},
     "output_type": "execute_result"
    }
   ],
   "source": [
    "pd.merge(country_population_aggregated_df, df5, on='Country', how='inner')"
   ]
  },
  {
   "cell_type": "code",
   "execution_count": null,
   "metadata": {},
   "outputs": [],
   "source": [
    "#sql"
   ]
  },
  {
   "cell_type": "code",
   "execution_count": 345,
   "metadata": {},
   "outputs": [
    {
     "data": {
      "text/html": [
       "<div>\n",
       "<style scoped>\n",
       "    .dataframe tbody tr th:only-of-type {\n",
       "        vertical-align: middle;\n",
       "    }\n",
       "\n",
       "    .dataframe tbody tr th {\n",
       "        vertical-align: top;\n",
       "    }\n",
       "\n",
       "    .dataframe thead th {\n",
       "        text-align: right;\n",
       "    }\n",
       "</style>\n",
       "<table border=\"1\" class=\"dataframe\">\n",
       "  <thead>\n",
       "    <tr style=\"text-align: right;\">\n",
       "      <th></th>\n",
       "      <th>Country</th>\n",
       "      <th>POPULATION IN MILLION</th>\n",
       "      <th>population std</th>\n",
       "      <th>year</th>\n",
       "    </tr>\n",
       "  </thead>\n",
       "  <tbody>\n",
       "    <tr>\n",
       "      <th>0</th>\n",
       "      <td>CHINA</td>\n",
       "      <td>95</td>\n",
       "      <td>NaN</td>\n",
       "      <td>NaN</td>\n",
       "    </tr>\n",
       "    <tr>\n",
       "      <th>1</th>\n",
       "      <td>GER</td>\n",
       "      <td>10</td>\n",
       "      <td>NaN</td>\n",
       "      <td>NaN</td>\n",
       "    </tr>\n",
       "    <tr>\n",
       "      <th>2</th>\n",
       "      <td>USA</td>\n",
       "      <td>104</td>\n",
       "      <td>4.50925</td>\n",
       "      <td>1.0</td>\n",
       "    </tr>\n",
       "  </tbody>\n",
       "</table>\n",
       "</div>"
      ],
      "text/plain": [
       "  Country  POPULATION IN MILLION  population std  year\n",
       "0   CHINA                     95             NaN   NaN\n",
       "1     GER                     10             NaN   NaN\n",
       "2     USA                    104         4.50925   1.0"
      ]
     },
     "execution_count": 345,
     "metadata": {},
     "output_type": "execute_result"
    }
   ],
   "source": [
    "pd.merge(country_population_aggregated_df, df5, on='Country', how='left')"
   ]
  },
  {
   "cell_type": "code",
   "execution_count": 346,
   "metadata": {},
   "outputs": [
    {
     "data": {
      "text/html": [
       "<div>\n",
       "<style scoped>\n",
       "    .dataframe tbody tr th:only-of-type {\n",
       "        vertical-align: middle;\n",
       "    }\n",
       "\n",
       "    .dataframe tbody tr th {\n",
       "        vertical-align: top;\n",
       "    }\n",
       "\n",
       "    .dataframe thead th {\n",
       "        text-align: right;\n",
       "    }\n",
       "</style>\n",
       "<table border=\"1\" class=\"dataframe\">\n",
       "  <thead>\n",
       "    <tr style=\"text-align: right;\">\n",
       "      <th></th>\n",
       "      <th>Country</th>\n",
       "      <th>POPULATION IN MILLION</th>\n",
       "      <th>population std</th>\n",
       "      <th>year</th>\n",
       "    </tr>\n",
       "  </thead>\n",
       "  <tbody>\n",
       "    <tr>\n",
       "      <th>0</th>\n",
       "      <td>USA</td>\n",
       "      <td>104.0</td>\n",
       "      <td>4.50925</td>\n",
       "      <td>1.000000</td>\n",
       "    </tr>\n",
       "    <tr>\n",
       "      <th>1</th>\n",
       "      <td>INDIA</td>\n",
       "      <td>NaN</td>\n",
       "      <td>2.12132</td>\n",
       "      <td>0.707107</td>\n",
       "    </tr>\n",
       "  </tbody>\n",
       "</table>\n",
       "</div>"
      ],
      "text/plain": [
       "  Country  POPULATION IN MILLION  population std      year\n",
       "0     USA                  104.0         4.50925  1.000000\n",
       "1   INDIA                    NaN         2.12132  0.707107"
      ]
     },
     "execution_count": 346,
     "metadata": {},
     "output_type": "execute_result"
    }
   ],
   "source": [
    "pd.merge(country_population_aggregated_df, df5, on='Country', how='right')"
   ]
  },
  {
   "cell_type": "code",
   "execution_count": 347,
   "metadata": {},
   "outputs": [
    {
     "data": {
      "text/html": [
       "<div>\n",
       "<style scoped>\n",
       "    .dataframe tbody tr th:only-of-type {\n",
       "        vertical-align: middle;\n",
       "    }\n",
       "\n",
       "    .dataframe tbody tr th {\n",
       "        vertical-align: top;\n",
       "    }\n",
       "\n",
       "    .dataframe thead th {\n",
       "        text-align: right;\n",
       "    }\n",
       "</style>\n",
       "<table border=\"1\" class=\"dataframe\">\n",
       "  <thead>\n",
       "    <tr style=\"text-align: right;\">\n",
       "      <th></th>\n",
       "      <th>Country</th>\n",
       "      <th>POPULATION IN MILLION</th>\n",
       "      <th>population std</th>\n",
       "      <th>year</th>\n",
       "    </tr>\n",
       "  </thead>\n",
       "  <tbody>\n",
       "    <tr>\n",
       "      <th>0</th>\n",
       "      <td>CHINA</td>\n",
       "      <td>95.0</td>\n",
       "      <td>NaN</td>\n",
       "      <td>NaN</td>\n",
       "    </tr>\n",
       "    <tr>\n",
       "      <th>1</th>\n",
       "      <td>GER</td>\n",
       "      <td>10.0</td>\n",
       "      <td>NaN</td>\n",
       "      <td>NaN</td>\n",
       "    </tr>\n",
       "    <tr>\n",
       "      <th>2</th>\n",
       "      <td>USA</td>\n",
       "      <td>104.0</td>\n",
       "      <td>4.50925</td>\n",
       "      <td>1.000000</td>\n",
       "    </tr>\n",
       "    <tr>\n",
       "      <th>3</th>\n",
       "      <td>INDIA</td>\n",
       "      <td>NaN</td>\n",
       "      <td>2.12132</td>\n",
       "      <td>0.707107</td>\n",
       "    </tr>\n",
       "  </tbody>\n",
       "</table>\n",
       "</div>"
      ],
      "text/plain": [
       "  Country  POPULATION IN MILLION  population std      year\n",
       "0   CHINA                   95.0             NaN       NaN\n",
       "1     GER                   10.0             NaN       NaN\n",
       "2     USA                  104.0         4.50925  1.000000\n",
       "3   INDIA                    NaN         2.12132  0.707107"
      ]
     },
     "execution_count": 347,
     "metadata": {},
     "output_type": "execute_result"
    }
   ],
   "source": [
    "pd.merge(country_population_aggregated_df, df5, on='Country', how='outer')"
   ]
  },
  {
   "cell_type": "code",
   "execution_count": 348,
   "metadata": {},
   "outputs": [
    {
     "data": {
      "text/plain": [
       "Series([], dtype: float64)"
      ]
     },
     "execution_count": 348,
     "metadata": {},
     "output_type": "execute_result"
    }
   ],
   "source": [
    "pd.Series([])"
   ]
  },
  {
   "cell_type": "code",
   "execution_count": null,
   "metadata": {},
   "outputs": [],
   "source": []
  },
  {
   "cell_type": "code",
   "execution_count": null,
   "metadata": {},
   "outputs": [],
   "source": []
  },
  {
   "cell_type": "code",
   "execution_count": 349,
   "metadata": {},
   "outputs": [],
   "source": [
    "dataset = pd.read_csv('AllCountries.csv')"
   ]
  },
  {
   "cell_type": "code",
   "execution_count": 356,
   "metadata": {},
   "outputs": [
    {
     "data": {
      "text/plain": [
       "(215, 12)"
      ]
     },
     "execution_count": 356,
     "metadata": {},
     "output_type": "execute_result"
    }
   ],
   "source": [
    "dataset.shape"
   ]
  },
  {
   "cell_type": "code",
   "execution_count": 350,
   "metadata": {},
   "outputs": [
    {
     "name": "stdout",
     "output_type": "stream",
     "text": [
      "<class 'pandas.core.frame.DataFrame'>\n",
      "RangeIndex: 215 entries, 0 to 214\n",
      "Data columns (total 12 columns):\n",
      "Country           215 non-null object\n",
      "LandArea          215 non-null float64\n",
      "Population        215 non-null float64\n",
      "GDP               186 non-null float64\n",
      "Rural             215 non-null float64\n",
      "Internet          203 non-null float64\n",
      "BirthRate         202 non-null float64\n",
      "DeathRate         203 non-null float64\n",
      "ElderlyPop        195 non-null float64\n",
      "LifeExpectancy    199 non-null float64\n",
      "FemaleLabor       186 non-null float64\n",
      "Unemployment      108 non-null float64\n",
      "dtypes: float64(11), object(1)\n",
      "memory usage: 20.2+ KB\n"
     ]
    }
   ],
   "source": [
    "dataset.info()"
   ]
  },
  {
   "cell_type": "code",
   "execution_count": 351,
   "metadata": {},
   "outputs": [
    {
     "data": {
      "text/html": [
       "<div>\n",
       "<style scoped>\n",
       "    .dataframe tbody tr th:only-of-type {\n",
       "        vertical-align: middle;\n",
       "    }\n",
       "\n",
       "    .dataframe tbody tr th {\n",
       "        vertical-align: top;\n",
       "    }\n",
       "\n",
       "    .dataframe thead th {\n",
       "        text-align: right;\n",
       "    }\n",
       "</style>\n",
       "<table border=\"1\" class=\"dataframe\">\n",
       "  <thead>\n",
       "    <tr style=\"text-align: right;\">\n",
       "      <th></th>\n",
       "      <th>Country</th>\n",
       "      <th>LandArea</th>\n",
       "      <th>Population</th>\n",
       "      <th>GDP</th>\n",
       "      <th>Rural</th>\n",
       "      <th>Internet</th>\n",
       "      <th>BirthRate</th>\n",
       "      <th>DeathRate</th>\n",
       "      <th>ElderlyPop</th>\n",
       "      <th>LifeExpectancy</th>\n",
       "      <th>FemaleLabor</th>\n",
       "      <th>Unemployment</th>\n",
       "    </tr>\n",
       "  </thead>\n",
       "  <tbody>\n",
       "    <tr>\n",
       "      <th>0</th>\n",
       "      <td>Afghanistan</td>\n",
       "      <td>652.86</td>\n",
       "      <td>30.552</td>\n",
       "      <td>665.0</td>\n",
       "      <td>74.1</td>\n",
       "      <td>5.9</td>\n",
       "      <td>34.1</td>\n",
       "      <td>7.8</td>\n",
       "      <td>2.3</td>\n",
       "      <td>60.9</td>\n",
       "      <td>16.2</td>\n",
       "      <td>NaN</td>\n",
       "    </tr>\n",
       "    <tr>\n",
       "      <th>1</th>\n",
       "      <td>Albania</td>\n",
       "      <td>27.40</td>\n",
       "      <td>2.897</td>\n",
       "      <td>4460.0</td>\n",
       "      <td>44.6</td>\n",
       "      <td>60.1</td>\n",
       "      <td>12.9</td>\n",
       "      <td>6.9</td>\n",
       "      <td>10.7</td>\n",
       "      <td>77.5</td>\n",
       "      <td>51.7</td>\n",
       "      <td>13.4</td>\n",
       "    </tr>\n",
       "    <tr>\n",
       "      <th>2</th>\n",
       "      <td>Algeria</td>\n",
       "      <td>2381.74</td>\n",
       "      <td>39.208</td>\n",
       "      <td>5361.0</td>\n",
       "      <td>30.5</td>\n",
       "      <td>16.5</td>\n",
       "      <td>24.3</td>\n",
       "      <td>5.9</td>\n",
       "      <td>4.6</td>\n",
       "      <td>71.0</td>\n",
       "      <td>16.2</td>\n",
       "      <td>11.0</td>\n",
       "    </tr>\n",
       "    <tr>\n",
       "      <th>3</th>\n",
       "      <td>American Samoa</td>\n",
       "      <td>0.20</td>\n",
       "      <td>0.055</td>\n",
       "      <td>NaN</td>\n",
       "      <td>12.7</td>\n",
       "      <td>NaN</td>\n",
       "      <td>NaN</td>\n",
       "      <td>NaN</td>\n",
       "      <td>NaN</td>\n",
       "      <td>NaN</td>\n",
       "      <td>NaN</td>\n",
       "      <td>NaN</td>\n",
       "    </tr>\n",
       "    <tr>\n",
       "      <th>4</th>\n",
       "      <td>Andorra</td>\n",
       "      <td>0.47</td>\n",
       "      <td>0.079</td>\n",
       "      <td>NaN</td>\n",
       "      <td>13.8</td>\n",
       "      <td>94.0</td>\n",
       "      <td>NaN</td>\n",
       "      <td>NaN</td>\n",
       "      <td>NaN</td>\n",
       "      <td>NaN</td>\n",
       "      <td>NaN</td>\n",
       "      <td>NaN</td>\n",
       "    </tr>\n",
       "  </tbody>\n",
       "</table>\n",
       "</div>"
      ],
      "text/plain": [
       "          Country  LandArea  Population     GDP  Rural  Internet  BirthRate  \\\n",
       "0     Afghanistan    652.86      30.552   665.0   74.1       5.9       34.1   \n",
       "1         Albania     27.40       2.897  4460.0   44.6      60.1       12.9   \n",
       "2         Algeria   2381.74      39.208  5361.0   30.5      16.5       24.3   \n",
       "3  American Samoa      0.20       0.055     NaN   12.7       NaN        NaN   \n",
       "4         Andorra      0.47       0.079     NaN   13.8      94.0        NaN   \n",
       "\n",
       "   DeathRate  ElderlyPop  LifeExpectancy  FemaleLabor  Unemployment  \n",
       "0        7.8         2.3            60.9         16.2           NaN  \n",
       "1        6.9        10.7            77.5         51.7          13.4  \n",
       "2        5.9         4.6            71.0         16.2          11.0  \n",
       "3        NaN         NaN             NaN          NaN           NaN  \n",
       "4        NaN         NaN             NaN          NaN           NaN  "
      ]
     },
     "execution_count": 351,
     "metadata": {},
     "output_type": "execute_result"
    }
   ],
   "source": [
    "dataset.head()"
   ]
  },
  {
   "cell_type": "code",
   "execution_count": 352,
   "metadata": {},
   "outputs": [
    {
     "data": {
      "text/plain": [
       "Country            object\n",
       "LandArea          float64\n",
       "Population        float64\n",
       "GDP               float64\n",
       "Rural             float64\n",
       "Internet          float64\n",
       "BirthRate         float64\n",
       "DeathRate         float64\n",
       "ElderlyPop        float64\n",
       "LifeExpectancy    float64\n",
       "FemaleLabor       float64\n",
       "Unemployment      float64\n",
       "dtype: object"
      ]
     },
     "execution_count": 352,
     "metadata": {},
     "output_type": "execute_result"
    }
   ],
   "source": [
    "dataset.dtypes"
   ]
  },
  {
   "cell_type": "code",
   "execution_count": 353,
   "metadata": {},
   "outputs": [
    {
     "data": {
      "text/html": [
       "<div>\n",
       "<style scoped>\n",
       "    .dataframe tbody tr th:only-of-type {\n",
       "        vertical-align: middle;\n",
       "    }\n",
       "\n",
       "    .dataframe tbody tr th {\n",
       "        vertical-align: top;\n",
       "    }\n",
       "\n",
       "    .dataframe thead th {\n",
       "        text-align: right;\n",
       "    }\n",
       "</style>\n",
       "<table border=\"1\" class=\"dataframe\">\n",
       "  <thead>\n",
       "    <tr style=\"text-align: right;\">\n",
       "      <th></th>\n",
       "      <th>LandArea</th>\n",
       "      <th>Population</th>\n",
       "      <th>GDP</th>\n",
       "      <th>Rural</th>\n",
       "      <th>Internet</th>\n",
       "      <th>BirthRate</th>\n",
       "      <th>DeathRate</th>\n",
       "      <th>ElderlyPop</th>\n",
       "      <th>LifeExpectancy</th>\n",
       "      <th>FemaleLabor</th>\n",
       "      <th>Unemployment</th>\n",
       "    </tr>\n",
       "  </thead>\n",
       "  <tbody>\n",
       "    <tr>\n",
       "      <th>count</th>\n",
       "      <td>215.000000</td>\n",
       "      <td>215.000000</td>\n",
       "      <td>186.000000</td>\n",
       "      <td>215.000000</td>\n",
       "      <td>203.000000</td>\n",
       "      <td>202.000000</td>\n",
       "      <td>203.000000</td>\n",
       "      <td>195.000000</td>\n",
       "      <td>199.000000</td>\n",
       "      <td>186.000000</td>\n",
       "      <td>108.000000</td>\n",
       "    </tr>\n",
       "    <tr>\n",
       "      <th>mean</th>\n",
       "      <td>604.660335</td>\n",
       "      <td>33.042014</td>\n",
       "      <td>14333.672043</td>\n",
       "      <td>41.228372</td>\n",
       "      <td>43.024138</td>\n",
       "      <td>21.250990</td>\n",
       "      <td>8.072906</td>\n",
       "      <td>7.976923</td>\n",
       "      <td>70.841709</td>\n",
       "      <td>58.076882</td>\n",
       "      <td>9.687963</td>\n",
       "    </tr>\n",
       "    <tr>\n",
       "      <th>std</th>\n",
       "      <td>1759.001021</td>\n",
       "      <td>130.424120</td>\n",
       "      <td>20501.708730</td>\n",
       "      <td>24.478096</td>\n",
       "      <td>29.258941</td>\n",
       "      <td>10.513622</td>\n",
       "      <td>3.133041</td>\n",
       "      <td>5.512164</td>\n",
       "      <td>9.096521</td>\n",
       "      <td>17.079121</td>\n",
       "      <td>6.681859</td>\n",
       "    </tr>\n",
       "    <tr>\n",
       "      <th>min</th>\n",
       "      <td>0.002000</td>\n",
       "      <td>0.010000</td>\n",
       "      <td>226.000000</td>\n",
       "      <td>0.000000</td>\n",
       "      <td>0.900000</td>\n",
       "      <td>7.900000</td>\n",
       "      <td>1.000000</td>\n",
       "      <td>0.400000</td>\n",
       "      <td>45.600000</td>\n",
       "      <td>14.300000</td>\n",
       "      <td>0.200000</td>\n",
       "    </tr>\n",
       "    <tr>\n",
       "      <th>25%</th>\n",
       "      <td>10.858500</td>\n",
       "      <td>0.836500</td>\n",
       "      <td>1846.500000</td>\n",
       "      <td>21.550000</td>\n",
       "      <td>15.350000</td>\n",
       "      <td>12.225000</td>\n",
       "      <td>5.950000</td>\n",
       "      <td>3.400000</td>\n",
       "      <td>65.300000</td>\n",
       "      <td>49.725000</td>\n",
       "      <td>5.175000</td>\n",
       "    </tr>\n",
       "    <tr>\n",
       "      <th>50%</th>\n",
       "      <td>94.280000</td>\n",
       "      <td>6.202000</td>\n",
       "      <td>5736.000000</td>\n",
       "      <td>41.600000</td>\n",
       "      <td>43.500000</td>\n",
       "      <td>19.350000</td>\n",
       "      <td>7.500000</td>\n",
       "      <td>5.500000</td>\n",
       "      <td>73.800000</td>\n",
       "      <td>60.350000</td>\n",
       "      <td>7.800000</td>\n",
       "    </tr>\n",
       "    <tr>\n",
       "      <th>75%</th>\n",
       "      <td>440.310000</td>\n",
       "      <td>21.863000</td>\n",
       "      <td>16072.500000</td>\n",
       "      <td>61.200000</td>\n",
       "      <td>66.600000</td>\n",
       "      <td>27.500000</td>\n",
       "      <td>9.700000</td>\n",
       "      <td>12.300000</td>\n",
       "      <td>77.250000</td>\n",
       "      <td>70.175000</td>\n",
       "      <td>13.400000</td>\n",
       "    </tr>\n",
       "    <tr>\n",
       "      <th>max</th>\n",
       "      <td>16376.870000</td>\n",
       "      <td>1357.380000</td>\n",
       "      <td>110665.000000</td>\n",
       "      <td>91.300000</td>\n",
       "      <td>96.500000</td>\n",
       "      <td>49.700000</td>\n",
       "      <td>17.200000</td>\n",
       "      <td>25.100000</td>\n",
       "      <td>83.800000</td>\n",
       "      <td>89.900000</td>\n",
       "      <td>31.000000</td>\n",
       "    </tr>\n",
       "  </tbody>\n",
       "</table>\n",
       "</div>"
      ],
      "text/plain": [
       "           LandArea   Population            GDP       Rural    Internet  \\\n",
       "count    215.000000   215.000000     186.000000  215.000000  203.000000   \n",
       "mean     604.660335    33.042014   14333.672043   41.228372   43.024138   \n",
       "std     1759.001021   130.424120   20501.708730   24.478096   29.258941   \n",
       "min        0.002000     0.010000     226.000000    0.000000    0.900000   \n",
       "25%       10.858500     0.836500    1846.500000   21.550000   15.350000   \n",
       "50%       94.280000     6.202000    5736.000000   41.600000   43.500000   \n",
       "75%      440.310000    21.863000   16072.500000   61.200000   66.600000   \n",
       "max    16376.870000  1357.380000  110665.000000   91.300000   96.500000   \n",
       "\n",
       "        BirthRate   DeathRate  ElderlyPop  LifeExpectancy  FemaleLabor  \\\n",
       "count  202.000000  203.000000  195.000000      199.000000   186.000000   \n",
       "mean    21.250990    8.072906    7.976923       70.841709    58.076882   \n",
       "std     10.513622    3.133041    5.512164        9.096521    17.079121   \n",
       "min      7.900000    1.000000    0.400000       45.600000    14.300000   \n",
       "25%     12.225000    5.950000    3.400000       65.300000    49.725000   \n",
       "50%     19.350000    7.500000    5.500000       73.800000    60.350000   \n",
       "75%     27.500000    9.700000   12.300000       77.250000    70.175000   \n",
       "max     49.700000   17.200000   25.100000       83.800000    89.900000   \n",
       "\n",
       "       Unemployment  \n",
       "count    108.000000  \n",
       "mean       9.687963  \n",
       "std        6.681859  \n",
       "min        0.200000  \n",
       "25%        5.175000  \n",
       "50%        7.800000  \n",
       "75%       13.400000  \n",
       "max       31.000000  "
      ]
     },
     "execution_count": 353,
     "metadata": {},
     "output_type": "execute_result"
    }
   ],
   "source": [
    "dataset.describe()"
   ]
  },
  {
   "cell_type": "code",
   "execution_count": 355,
   "metadata": {},
   "outputs": [
    {
     "data": {
      "text/plain": [
       "Country             0\n",
       "LandArea            0\n",
       "Population          0\n",
       "GDP                29\n",
       "Rural               0\n",
       "Internet           12\n",
       "BirthRate          13\n",
       "DeathRate          12\n",
       "ElderlyPop         20\n",
       "LifeExpectancy     16\n",
       "FemaleLabor        29\n",
       "Unemployment      107\n",
       "dtype: int64"
      ]
     },
     "execution_count": 355,
     "metadata": {},
     "output_type": "execute_result"
    }
   ],
   "source": [
    "dataset.isna().sum()"
   ]
  },
  {
   "cell_type": "code",
   "execution_count": 358,
   "metadata": {},
   "outputs": [],
   "source": [
    "selected_dataset = dataset.loc[:,['LandArea' ,'Country']]"
   ]
  },
  {
   "cell_type": "code",
   "execution_count": 359,
   "metadata": {},
   "outputs": [],
   "source": [
    "selected_dataset = dataset[['LandArea' ,'Country']]"
   ]
  },
  {
   "cell_type": "code",
   "execution_count": 361,
   "metadata": {},
   "outputs": [
    {
     "data": {
      "text/html": [
       "<div>\n",
       "<style scoped>\n",
       "    .dataframe tbody tr th:only-of-type {\n",
       "        vertical-align: middle;\n",
       "    }\n",
       "\n",
       "    .dataframe tbody tr th {\n",
       "        vertical-align: top;\n",
       "    }\n",
       "\n",
       "    .dataframe thead th {\n",
       "        text-align: right;\n",
       "    }\n",
       "</style>\n",
       "<table border=\"1\" class=\"dataframe\">\n",
       "  <thead>\n",
       "    <tr style=\"text-align: right;\">\n",
       "      <th></th>\n",
       "      <th>LandArea</th>\n",
       "      <th>Country</th>\n",
       "    </tr>\n",
       "  </thead>\n",
       "  <tbody>\n",
       "    <tr>\n",
       "      <th>0</th>\n",
       "      <td>652.86</td>\n",
       "      <td>Afghanistan</td>\n",
       "    </tr>\n",
       "    <tr>\n",
       "      <th>1</th>\n",
       "      <td>27.40</td>\n",
       "      <td>Albania</td>\n",
       "    </tr>\n",
       "    <tr>\n",
       "      <th>2</th>\n",
       "      <td>2381.74</td>\n",
       "      <td>Algeria</td>\n",
       "    </tr>\n",
       "    <tr>\n",
       "      <th>3</th>\n",
       "      <td>0.20</td>\n",
       "      <td>American Samoa</td>\n",
       "    </tr>\n",
       "    <tr>\n",
       "      <th>4</th>\n",
       "      <td>0.47</td>\n",
       "      <td>Andorra</td>\n",
       "    </tr>\n",
       "  </tbody>\n",
       "</table>\n",
       "</div>"
      ],
      "text/plain": [
       "   LandArea         Country\n",
       "0    652.86     Afghanistan\n",
       "1     27.40         Albania\n",
       "2   2381.74         Algeria\n",
       "3      0.20  American Samoa\n",
       "4      0.47         Andorra"
      ]
     },
     "execution_count": 361,
     "metadata": {},
     "output_type": "execute_result"
    }
   ],
   "source": [
    "selected_dataset.head()"
   ]
  },
  {
   "cell_type": "code",
   "execution_count": 365,
   "metadata": {},
   "outputs": [
    {
     "name": "stdout",
     "output_type": "stream",
     "text": [
      "Algeria\n",
      "Argentina\n",
      "Australia\n",
      "Brazil\n",
      "Canada\n",
      "China\n",
      "Congo, Dem. Rep.\n",
      "India\n",
      "Kazakhstan\n",
      "Russian Federation\n",
      "Saudi Arabia\n",
      "Sudan\n",
      "United States\n"
     ]
    }
   ],
   "source": [
    "for row_tuples in selected_dataset.itertuples():\n",
    "    if row_tuples[1]>2000:\n",
    "        print(row_tuples[2])"
   ]
  },
  {
   "cell_type": "code",
   "execution_count": 369,
   "metadata": {},
   "outputs": [
    {
     "data": {
      "text/plain": [
       "0       652.860\n",
       "1        27.400\n",
       "2      2381.740\n",
       "3         0.200\n",
       "4         0.470\n",
       "5      1246.700\n",
       "6         0.440\n",
       "7      2736.690\n",
       "8        28.470\n",
       "9         0.180\n",
       "10     7682.300\n",
       "11       82.409\n",
       "12       82.658\n",
       "13       10.010\n",
       "14        0.760\n",
       "15      130.170\n",
       "16        0.430\n",
       "17      202.910\n",
       "18       30.280\n",
       "19       22.810\n",
       "20      112.760\n",
       "21        0.050\n",
       "22       38.117\n",
       "23     1083.300\n",
       "24       51.000\n",
       "25      566.730\n",
       "26     8358.140\n",
       "27        5.270\n",
       "28      108.560\n",
       "29      273.600\n",
       "         ...   \n",
       "185     407.340\n",
       "186      39.516\n",
       "187     183.630\n",
       "188     139.960\n",
       "189     885.800\n",
       "190     510.890\n",
       "191      14.870\n",
       "192      54.390\n",
       "193       0.720\n",
       "194       5.130\n",
       "195     155.360\n",
       "196     769.630\n",
       "197     469.930\n",
       "198       0.950\n",
       "199       0.030\n",
       "200     199.810\n",
       "201     579.320\n",
       "202      83.600\n",
       "203     241.930\n",
       "204    9147.420\n",
       "205     175.020\n",
       "206     425.400\n",
       "207      12.190\n",
       "208     882.050\n",
       "209     310.070\n",
       "210       0.350\n",
       "211       6.020\n",
       "212     527.970\n",
       "213     743.390\n",
       "214     386.850\n",
       "Name: LandArea, Length: 215, dtype: float64"
      ]
     },
     "execution_count": 369,
     "metadata": {},
     "output_type": "execute_result"
    }
   ],
   "source": [
    "dataset['LandArea']"
   ]
  },
  {
   "cell_type": "code",
   "execution_count": 371,
   "metadata": {},
   "outputs": [],
   "source": [
    "boolean_ser=dataset['LandArea']>2000"
   ]
  },
  {
   "cell_type": "code",
   "execution_count": 372,
   "metadata": {},
   "outputs": [
    {
     "data": {
      "text/plain": [
       "0      False\n",
       "1      False\n",
       "2       True\n",
       "3      False\n",
       "4      False\n",
       "5      False\n",
       "6      False\n",
       "7       True\n",
       "8      False\n",
       "9      False\n",
       "10      True\n",
       "11     False\n",
       "12     False\n",
       "13     False\n",
       "14     False\n",
       "15     False\n",
       "16     False\n",
       "17     False\n",
       "18     False\n",
       "19     False\n",
       "20     False\n",
       "21     False\n",
       "22     False\n",
       "23     False\n",
       "24     False\n",
       "25     False\n",
       "26      True\n",
       "27     False\n",
       "28     False\n",
       "29     False\n",
       "       ...  \n",
       "185    False\n",
       "186    False\n",
       "187    False\n",
       "188    False\n",
       "189    False\n",
       "190    False\n",
       "191    False\n",
       "192    False\n",
       "193    False\n",
       "194    False\n",
       "195    False\n",
       "196    False\n",
       "197    False\n",
       "198    False\n",
       "199    False\n",
       "200    False\n",
       "201    False\n",
       "202    False\n",
       "203    False\n",
       "204     True\n",
       "205    False\n",
       "206    False\n",
       "207    False\n",
       "208    False\n",
       "209    False\n",
       "210    False\n",
       "211    False\n",
       "212    False\n",
       "213    False\n",
       "214    False\n",
       "Name: LandArea, Length: 215, dtype: bool"
      ]
     },
     "execution_count": 372,
     "metadata": {},
     "output_type": "execute_result"
    }
   ],
   "source": [
    "boolean_ser"
   ]
  },
  {
   "cell_type": "code",
   "execution_count": 374,
   "metadata": {},
   "outputs": [],
   "source": [
    "sub_df=dataset[boolean_ser]"
   ]
  },
  {
   "cell_type": "code",
   "execution_count": 375,
   "metadata": {},
   "outputs": [
    {
     "data": {
      "text/html": [
       "<div>\n",
       "<style scoped>\n",
       "    .dataframe tbody tr th:only-of-type {\n",
       "        vertical-align: middle;\n",
       "    }\n",
       "\n",
       "    .dataframe tbody tr th {\n",
       "        vertical-align: top;\n",
       "    }\n",
       "\n",
       "    .dataframe thead th {\n",
       "        text-align: right;\n",
       "    }\n",
       "</style>\n",
       "<table border=\"1\" class=\"dataframe\">\n",
       "  <thead>\n",
       "    <tr style=\"text-align: right;\">\n",
       "      <th></th>\n",
       "      <th>Country</th>\n",
       "      <th>LandArea</th>\n",
       "      <th>Population</th>\n",
       "      <th>GDP</th>\n",
       "      <th>Rural</th>\n",
       "      <th>Internet</th>\n",
       "      <th>BirthRate</th>\n",
       "      <th>DeathRate</th>\n",
       "      <th>ElderlyPop</th>\n",
       "      <th>LifeExpectancy</th>\n",
       "      <th>FemaleLabor</th>\n",
       "      <th>Unemployment</th>\n",
       "    </tr>\n",
       "  </thead>\n",
       "  <tbody>\n",
       "    <tr>\n",
       "      <th>2</th>\n",
       "      <td>Algeria</td>\n",
       "      <td>2381.740</td>\n",
       "      <td>39.208</td>\n",
       "      <td>5361.0</td>\n",
       "      <td>30.5</td>\n",
       "      <td>16.5</td>\n",
       "      <td>24.3</td>\n",
       "      <td>5.9</td>\n",
       "      <td>4.6</td>\n",
       "      <td>71.0</td>\n",
       "      <td>16.2</td>\n",
       "      <td>11.0</td>\n",
       "    </tr>\n",
       "    <tr>\n",
       "      <th>7</th>\n",
       "      <td>Argentina</td>\n",
       "      <td>2736.690</td>\n",
       "      <td>41.446</td>\n",
       "      <td>14715.0</td>\n",
       "      <td>8.5</td>\n",
       "      <td>59.9</td>\n",
       "      <td>16.8</td>\n",
       "      <td>7.7</td>\n",
       "      <td>10.9</td>\n",
       "      <td>76.2</td>\n",
       "      <td>55.1</td>\n",
       "      <td>7.2</td>\n",
       "    </tr>\n",
       "    <tr>\n",
       "      <th>10</th>\n",
       "      <td>Australia</td>\n",
       "      <td>7682.300</td>\n",
       "      <td>23.129</td>\n",
       "      <td>67463.0</td>\n",
       "      <td>10.8</td>\n",
       "      <td>83.0</td>\n",
       "      <td>13.2</td>\n",
       "      <td>6.3</td>\n",
       "      <td>14.3</td>\n",
       "      <td>82.2</td>\n",
       "      <td>70.5</td>\n",
       "      <td>5.2</td>\n",
       "    </tr>\n",
       "    <tr>\n",
       "      <th>26</th>\n",
       "      <td>Brazil</td>\n",
       "      <td>8358.140</td>\n",
       "      <td>200.362</td>\n",
       "      <td>11208.0</td>\n",
       "      <td>14.8</td>\n",
       "      <td>51.6</td>\n",
       "      <td>14.9</td>\n",
       "      <td>6.5</td>\n",
       "      <td>7.5</td>\n",
       "      <td>73.9</td>\n",
       "      <td>65.0</td>\n",
       "      <td>NaN</td>\n",
       "    </tr>\n",
       "    <tr>\n",
       "      <th>34</th>\n",
       "      <td>Canada</td>\n",
       "      <td>9093.510</td>\n",
       "      <td>35.154</td>\n",
       "      <td>51964.0</td>\n",
       "      <td>18.5</td>\n",
       "      <td>85.8</td>\n",
       "      <td>10.9</td>\n",
       "      <td>7.2</td>\n",
       "      <td>15.2</td>\n",
       "      <td>81.4</td>\n",
       "      <td>74.5</td>\n",
       "      <td>7.2</td>\n",
       "    </tr>\n",
       "    <tr>\n",
       "      <th>40</th>\n",
       "      <td>China</td>\n",
       "      <td>9388.211</td>\n",
       "      <td>1357.380</td>\n",
       "      <td>6807.0</td>\n",
       "      <td>46.8</td>\n",
       "      <td>45.8</td>\n",
       "      <td>12.1</td>\n",
       "      <td>7.2</td>\n",
       "      <td>8.9</td>\n",
       "      <td>75.4</td>\n",
       "      <td>70.2</td>\n",
       "      <td>NaN</td>\n",
       "    </tr>\n",
       "    <tr>\n",
       "      <th>43</th>\n",
       "      <td>Congo, Dem. Rep.</td>\n",
       "      <td>2267.050</td>\n",
       "      <td>67.514</td>\n",
       "      <td>484.0</td>\n",
       "      <td>58.5</td>\n",
       "      <td>2.2</td>\n",
       "      <td>42.7</td>\n",
       "      <td>15.4</td>\n",
       "      <td>2.9</td>\n",
       "      <td>49.9</td>\n",
       "      <td>71.5</td>\n",
       "      <td>NaN</td>\n",
       "    </tr>\n",
       "    <tr>\n",
       "      <th>86</th>\n",
       "      <td>India</td>\n",
       "      <td>2973.190</td>\n",
       "      <td>1252.140</td>\n",
       "      <td>1498.0</td>\n",
       "      <td>68.0</td>\n",
       "      <td>15.1</td>\n",
       "      <td>20.4</td>\n",
       "      <td>7.9</td>\n",
       "      <td>5.3</td>\n",
       "      <td>66.5</td>\n",
       "      <td>28.5</td>\n",
       "      <td>3.6</td>\n",
       "    </tr>\n",
       "    <tr>\n",
       "      <th>97</th>\n",
       "      <td>Kazakhstan</td>\n",
       "      <td>2699.700</td>\n",
       "      <td>17.035</td>\n",
       "      <td>13612.0</td>\n",
       "      <td>46.6</td>\n",
       "      <td>54.0</td>\n",
       "      <td>22.7</td>\n",
       "      <td>8.0</td>\n",
       "      <td>6.7</td>\n",
       "      <td>70.5</td>\n",
       "      <td>75.1</td>\n",
       "      <td>5.3</td>\n",
       "    </tr>\n",
       "    <tr>\n",
       "      <th>158</th>\n",
       "      <td>Russian Federation</td>\n",
       "      <td>16376.870</td>\n",
       "      <td>143.500</td>\n",
       "      <td>14612.0</td>\n",
       "      <td>26.1</td>\n",
       "      <td>61.4</td>\n",
       "      <td>13.2</td>\n",
       "      <td>13.0</td>\n",
       "      <td>13.0</td>\n",
       "      <td>71.1</td>\n",
       "      <td>68.6</td>\n",
       "      <td>5.5</td>\n",
       "    </tr>\n",
       "    <tr>\n",
       "      <th>163</th>\n",
       "      <td>Saudi Arabia</td>\n",
       "      <td>2149.690</td>\n",
       "      <td>28.829</td>\n",
       "      <td>25962.0</td>\n",
       "      <td>17.3</td>\n",
       "      <td>60.5</td>\n",
       "      <td>19.4</td>\n",
       "      <td>3.2</td>\n",
       "      <td>2.9</td>\n",
       "      <td>75.7</td>\n",
       "      <td>21.3</td>\n",
       "      <td>5.6</td>\n",
       "    </tr>\n",
       "    <tr>\n",
       "      <th>182</th>\n",
       "      <td>Sudan</td>\n",
       "      <td>2376.000</td>\n",
       "      <td>37.964</td>\n",
       "      <td>1753.0</td>\n",
       "      <td>66.5</td>\n",
       "      <td>22.7</td>\n",
       "      <td>33.5</td>\n",
       "      <td>8.4</td>\n",
       "      <td>3.2</td>\n",
       "      <td>62.0</td>\n",
       "      <td>32.6</td>\n",
       "      <td>NaN</td>\n",
       "    </tr>\n",
       "    <tr>\n",
       "      <th>204</th>\n",
       "      <td>United States</td>\n",
       "      <td>9147.420</td>\n",
       "      <td>316.129</td>\n",
       "      <td>53042.0</td>\n",
       "      <td>18.7</td>\n",
       "      <td>84.2</td>\n",
       "      <td>12.5</td>\n",
       "      <td>8.2</td>\n",
       "      <td>14.0</td>\n",
       "      <td>78.8</td>\n",
       "      <td>66.1</td>\n",
       "      <td>8.1</td>\n",
       "    </tr>\n",
       "  </tbody>\n",
       "</table>\n",
       "</div>"
      ],
      "text/plain": [
       "                Country   LandArea  Population      GDP  Rural  Internet  \\\n",
       "2               Algeria   2381.740      39.208   5361.0   30.5      16.5   \n",
       "7             Argentina   2736.690      41.446  14715.0    8.5      59.9   \n",
       "10            Australia   7682.300      23.129  67463.0   10.8      83.0   \n",
       "26               Brazil   8358.140     200.362  11208.0   14.8      51.6   \n",
       "34               Canada   9093.510      35.154  51964.0   18.5      85.8   \n",
       "40                China   9388.211    1357.380   6807.0   46.8      45.8   \n",
       "43     Congo, Dem. Rep.   2267.050      67.514    484.0   58.5       2.2   \n",
       "86                India   2973.190    1252.140   1498.0   68.0      15.1   \n",
       "97           Kazakhstan   2699.700      17.035  13612.0   46.6      54.0   \n",
       "158  Russian Federation  16376.870     143.500  14612.0   26.1      61.4   \n",
       "163        Saudi Arabia   2149.690      28.829  25962.0   17.3      60.5   \n",
       "182               Sudan   2376.000      37.964   1753.0   66.5      22.7   \n",
       "204       United States   9147.420     316.129  53042.0   18.7      84.2   \n",
       "\n",
       "     BirthRate  DeathRate  ElderlyPop  LifeExpectancy  FemaleLabor  \\\n",
       "2         24.3        5.9         4.6            71.0         16.2   \n",
       "7         16.8        7.7        10.9            76.2         55.1   \n",
       "10        13.2        6.3        14.3            82.2         70.5   \n",
       "26        14.9        6.5         7.5            73.9         65.0   \n",
       "34        10.9        7.2        15.2            81.4         74.5   \n",
       "40        12.1        7.2         8.9            75.4         70.2   \n",
       "43        42.7       15.4         2.9            49.9         71.5   \n",
       "86        20.4        7.9         5.3            66.5         28.5   \n",
       "97        22.7        8.0         6.7            70.5         75.1   \n",
       "158       13.2       13.0        13.0            71.1         68.6   \n",
       "163       19.4        3.2         2.9            75.7         21.3   \n",
       "182       33.5        8.4         3.2            62.0         32.6   \n",
       "204       12.5        8.2        14.0            78.8         66.1   \n",
       "\n",
       "     Unemployment  \n",
       "2            11.0  \n",
       "7             7.2  \n",
       "10            5.2  \n",
       "26            NaN  \n",
       "34            7.2  \n",
       "40            NaN  \n",
       "43            NaN  \n",
       "86            3.6  \n",
       "97            5.3  \n",
       "158           5.5  \n",
       "163           5.6  \n",
       "182           NaN  \n",
       "204           8.1  "
      ]
     },
     "execution_count": 375,
     "metadata": {},
     "output_type": "execute_result"
    }
   ],
   "source": [
    "sub_df"
   ]
  },
  {
   "cell_type": "code",
   "execution_count": 376,
   "metadata": {},
   "outputs": [
    {
     "data": {
      "text/plain": [
       "2                 Algeria\n",
       "7               Argentina\n",
       "10              Australia\n",
       "26                 Brazil\n",
       "34                 Canada\n",
       "40                  China\n",
       "43       Congo, Dem. Rep.\n",
       "86                  India\n",
       "97             Kazakhstan\n",
       "158    Russian Federation\n",
       "163          Saudi Arabia\n",
       "182                 Sudan\n",
       "204         United States\n",
       "Name: Country, dtype: object"
      ]
     },
     "execution_count": 376,
     "metadata": {},
     "output_type": "execute_result"
    }
   ],
   "source": [
    "sub_df['Country']"
   ]
  },
  {
   "cell_type": "code",
   "execution_count": 377,
   "metadata": {},
   "outputs": [
    {
     "data": {
      "text/plain": [
       "array(['Algeria', 'Argentina', 'Australia', 'Brazil', 'Canada', 'China',\n",
       "       'Congo, Dem. Rep.', 'India', 'Kazakhstan', 'Russian Federation',\n",
       "       'Saudi Arabia', 'Sudan', 'United States'], dtype=object)"
      ]
     },
     "execution_count": 377,
     "metadata": {},
     "output_type": "execute_result"
    }
   ],
   "source": [
    "sub_df['Country'].values"
   ]
  },
  {
   "cell_type": "code",
   "execution_count": 380,
   "metadata": {},
   "outputs": [
    {
     "data": {
      "text/plain": [
       "2                 Algeria\n",
       "7               Argentina\n",
       "10              Australia\n",
       "26                 Brazil\n",
       "34                 Canada\n",
       "40                  China\n",
       "43       Congo, Dem. Rep.\n",
       "86                  India\n",
       "97             Kazakhstan\n",
       "158    Russian Federation\n",
       "163          Saudi Arabia\n",
       "182                 Sudan\n",
       "204         United States\n",
       "Name: Country, dtype: object"
      ]
     },
     "execution_count": 380,
     "metadata": {},
     "output_type": "execute_result"
    }
   ],
   "source": [
    "dataset[dataset['LandArea']>2000]['Country']"
   ]
  },
  {
   "cell_type": "code",
   "execution_count": 381,
   "metadata": {},
   "outputs": [
    {
     "data": {
      "text/html": [
       "<div>\n",
       "<style scoped>\n",
       "    .dataframe tbody tr th:only-of-type {\n",
       "        vertical-align: middle;\n",
       "    }\n",
       "\n",
       "    .dataframe tbody tr th {\n",
       "        vertical-align: top;\n",
       "    }\n",
       "\n",
       "    .dataframe thead th {\n",
       "        text-align: right;\n",
       "    }\n",
       "</style>\n",
       "<table border=\"1\" class=\"dataframe\">\n",
       "  <thead>\n",
       "    <tr style=\"text-align: right;\">\n",
       "      <th></th>\n",
       "      <th>Country</th>\n",
       "      <th>LandArea</th>\n",
       "      <th>Population</th>\n",
       "      <th>GDP</th>\n",
       "      <th>Rural</th>\n",
       "      <th>Internet</th>\n",
       "      <th>BirthRate</th>\n",
       "      <th>DeathRate</th>\n",
       "      <th>ElderlyPop</th>\n",
       "      <th>LifeExpectancy</th>\n",
       "      <th>FemaleLabor</th>\n",
       "      <th>Unemployment</th>\n",
       "    </tr>\n",
       "  </thead>\n",
       "  <tbody>\n",
       "    <tr>\n",
       "      <th>0</th>\n",
       "      <td>Afghanistan</td>\n",
       "      <td>652.86</td>\n",
       "      <td>30.552</td>\n",
       "      <td>665.0</td>\n",
       "      <td>74.1</td>\n",
       "      <td>5.9</td>\n",
       "      <td>34.1</td>\n",
       "      <td>7.8</td>\n",
       "      <td>2.3</td>\n",
       "      <td>60.9</td>\n",
       "      <td>16.2</td>\n",
       "      <td>NaN</td>\n",
       "    </tr>\n",
       "    <tr>\n",
       "      <th>1</th>\n",
       "      <td>Albania</td>\n",
       "      <td>27.40</td>\n",
       "      <td>2.897</td>\n",
       "      <td>4460.0</td>\n",
       "      <td>44.6</td>\n",
       "      <td>60.1</td>\n",
       "      <td>12.9</td>\n",
       "      <td>6.9</td>\n",
       "      <td>10.7</td>\n",
       "      <td>77.5</td>\n",
       "      <td>51.7</td>\n",
       "      <td>13.4</td>\n",
       "    </tr>\n",
       "    <tr>\n",
       "      <th>2</th>\n",
       "      <td>Algeria</td>\n",
       "      <td>2381.74</td>\n",
       "      <td>39.208</td>\n",
       "      <td>5361.0</td>\n",
       "      <td>30.5</td>\n",
       "      <td>16.5</td>\n",
       "      <td>24.3</td>\n",
       "      <td>5.9</td>\n",
       "      <td>4.6</td>\n",
       "      <td>71.0</td>\n",
       "      <td>16.2</td>\n",
       "      <td>11.0</td>\n",
       "    </tr>\n",
       "    <tr>\n",
       "      <th>3</th>\n",
       "      <td>American Samoa</td>\n",
       "      <td>0.20</td>\n",
       "      <td>0.055</td>\n",
       "      <td>NaN</td>\n",
       "      <td>12.7</td>\n",
       "      <td>NaN</td>\n",
       "      <td>NaN</td>\n",
       "      <td>NaN</td>\n",
       "      <td>NaN</td>\n",
       "      <td>NaN</td>\n",
       "      <td>NaN</td>\n",
       "      <td>NaN</td>\n",
       "    </tr>\n",
       "    <tr>\n",
       "      <th>4</th>\n",
       "      <td>Andorra</td>\n",
       "      <td>0.47</td>\n",
       "      <td>0.079</td>\n",
       "      <td>NaN</td>\n",
       "      <td>13.8</td>\n",
       "      <td>94.0</td>\n",
       "      <td>NaN</td>\n",
       "      <td>NaN</td>\n",
       "      <td>NaN</td>\n",
       "      <td>NaN</td>\n",
       "      <td>NaN</td>\n",
       "      <td>NaN</td>\n",
       "    </tr>\n",
       "  </tbody>\n",
       "</table>\n",
       "</div>"
      ],
      "text/plain": [
       "          Country  LandArea  Population     GDP  Rural  Internet  BirthRate  \\\n",
       "0     Afghanistan    652.86      30.552   665.0   74.1       5.9       34.1   \n",
       "1         Albania     27.40       2.897  4460.0   44.6      60.1       12.9   \n",
       "2         Algeria   2381.74      39.208  5361.0   30.5      16.5       24.3   \n",
       "3  American Samoa      0.20       0.055     NaN   12.7       NaN        NaN   \n",
       "4         Andorra      0.47       0.079     NaN   13.8      94.0        NaN   \n",
       "\n",
       "   DeathRate  ElderlyPop  LifeExpectancy  FemaleLabor  Unemployment  \n",
       "0        7.8         2.3            60.9         16.2           NaN  \n",
       "1        6.9        10.7            77.5         51.7          13.4  \n",
       "2        5.9         4.6            71.0         16.2          11.0  \n",
       "3        NaN         NaN             NaN          NaN           NaN  \n",
       "4        NaN         NaN             NaN          NaN           NaN  "
      ]
     },
     "execution_count": 381,
     "metadata": {},
     "output_type": "execute_result"
    }
   ],
   "source": [
    "dataset.head()"
   ]
  },
  {
   "cell_type": "code",
   "execution_count": 387,
   "metadata": {},
   "outputs": [
    {
     "data": {
      "image/png": "[encoded data removed]",
      "text/plain": [
       "<Figure size 432x288 with 1 Axes>"
      ]
     },
     "metadata": {
      "needs_background": "light"
     },
     "output_type": "display_data"
    }
   ],
   "source": [
    "#draw scatter plot of gdp and birthrate\n",
    "plt.scatter(dataset['GDP'], dataset['BirthRate'])\n",
    "plt.xlabel('GDP')\n",
    "plt.ylabel('BirthRate')\n",
    "plt.show()"
   ]
  },
  {
   "cell_type": "code",
   "execution_count": 388,
   "metadata": {},
   "outputs": [
    {
     "data": {
      "image/png": "[encoded data removed]",
      "text/plain": [
       "<Figure size 432x288 with 1 Axes>"
      ]
     },
     "metadata": {
      "needs_background": "light"
     },
     "output_type": "display_data"
    }
   ],
   "source": [
    "#draw scatter plot of gdp and birthrate\n",
    "plt.scatter(dataset['GDP'], dataset['BirthRate'])\n",
    "plt.xlabel('GDP')\n",
    "plt.ylabel('BirthRate')\n",
    "plt.xlim(0, 20000)\n",
    "plt.show()"
   ]
  },
  {
   "cell_type": "code",
   "execution_count": 389,
   "metadata": {},
   "outputs": [],
   "source": [
    "#correlation"
   ]
  },
  {
   "cell_type": "code",
   "execution_count": 390,
   "metadata": {},
   "outputs": [
    {
     "data": {
      "text/html": [
       "<div>\n",
       "<style scoped>\n",
       "    .dataframe tbody tr th:only-of-type {\n",
       "        vertical-align: middle;\n",
       "    }\n",
       "\n",
       "    .dataframe tbody tr th {\n",
       "        vertical-align: top;\n",
       "    }\n",
       "\n",
       "    .dataframe thead th {\n",
       "        text-align: right;\n",
       "    }\n",
       "</style>\n",
       "<table border=\"1\" class=\"dataframe\">\n",
       "  <thead>\n",
       "    <tr style=\"text-align: right;\">\n",
       "      <th></th>\n",
       "      <th>LandArea</th>\n",
       "      <th>Population</th>\n",
       "      <th>GDP</th>\n",
       "      <th>Rural</th>\n",
       "      <th>Internet</th>\n",
       "      <th>BirthRate</th>\n",
       "      <th>DeathRate</th>\n",
       "      <th>ElderlyPop</th>\n",
       "      <th>LifeExpectancy</th>\n",
       "      <th>FemaleLabor</th>\n",
       "      <th>Unemployment</th>\n",
       "    </tr>\n",
       "  </thead>\n",
       "  <tbody>\n",
       "    <tr>\n",
       "      <th>LandArea</th>\n",
       "      <td>1.000000</td>\n",
       "      <td>0.458195</td>\n",
       "      <td>0.088703</td>\n",
       "      <td>-0.091602</td>\n",
       "      <td>0.059605</td>\n",
       "      <td>-0.051409</td>\n",
       "      <td>0.051291</td>\n",
       "      <td>0.058014</td>\n",
       "      <td>0.025023</td>\n",
       "      <td>0.046910</td>\n",
       "      <td>-0.109369</td>\n",
       "    </tr>\n",
       "    <tr>\n",
       "      <th>Population</th>\n",
       "      <td>0.458195</td>\n",
       "      <td>1.000000</td>\n",
       "      <td>-0.047333</td>\n",
       "      <td>0.059786</td>\n",
       "      <td>-0.045358</td>\n",
       "      <td>-0.051046</td>\n",
       "      <td>-0.010516</td>\n",
       "      <td>-0.001293</td>\n",
       "      <td>0.002827</td>\n",
       "      <td>-0.052950</td>\n",
       "      <td>-0.129642</td>\n",
       "    </tr>\n",
       "    <tr>\n",
       "      <th>GDP</th>\n",
       "      <td>0.088703</td>\n",
       "      <td>-0.047333</td>\n",
       "      <td>1.000000</td>\n",
       "      <td>-0.603933</td>\n",
       "      <td>0.740396</td>\n",
       "      <td>-0.529835</td>\n",
       "      <td>-0.183316</td>\n",
       "      <td>0.532274</td>\n",
       "      <td>0.586833</td>\n",
       "      <td>0.182978</td>\n",
       "      <td>-0.262437</td>\n",
       "    </tr>\n",
       "    <tr>\n",
       "      <th>Rural</th>\n",
       "      <td>-0.091602</td>\n",
       "      <td>0.059786</td>\n",
       "      <td>-0.603933</td>\n",
       "      <td>1.000000</td>\n",
       "      <td>-0.644627</td>\n",
       "      <td>0.566755</td>\n",
       "      <td>0.251919</td>\n",
       "      <td>-0.496840</td>\n",
       "      <td>-0.596651</td>\n",
       "      <td>0.099388</td>\n",
       "      <td>0.067508</td>\n",
       "    </tr>\n",
       "    <tr>\n",
       "      <th>Internet</th>\n",
       "      <td>0.059605</td>\n",
       "      <td>-0.045358</td>\n",
       "      <td>0.740396</td>\n",
       "      <td>-0.644627</td>\n",
       "      <td>1.000000</td>\n",
       "      <td>-0.808097</td>\n",
       "      <td>-0.196859</td>\n",
       "      <td>0.736317</td>\n",
       "      <td>0.801546</td>\n",
       "      <td>0.064052</td>\n",
       "      <td>-0.088488</td>\n",
       "    </tr>\n",
       "    <tr>\n",
       "      <th>BirthRate</th>\n",
       "      <td>-0.051409</td>\n",
       "      <td>-0.051046</td>\n",
       "      <td>-0.529835</td>\n",
       "      <td>0.566755</td>\n",
       "      <td>-0.808097</td>\n",
       "      <td>1.000000</td>\n",
       "      <td>0.211728</td>\n",
       "      <td>-0.781126</td>\n",
       "      <td>-0.856993</td>\n",
       "      <td>-0.005823</td>\n",
       "      <td>-0.010533</td>\n",
       "    </tr>\n",
       "    <tr>\n",
       "      <th>DeathRate</th>\n",
       "      <td>0.051291</td>\n",
       "      <td>-0.010516</td>\n",
       "      <td>-0.183316</td>\n",
       "      <td>0.251919</td>\n",
       "      <td>-0.196859</td>\n",
       "      <td>0.211728</td>\n",
       "      <td>1.000000</td>\n",
       "      <td>0.224388</td>\n",
       "      <td>-0.534594</td>\n",
       "      <td>0.343934</td>\n",
       "      <td>0.276330</td>\n",
       "    </tr>\n",
       "    <tr>\n",
       "      <th>ElderlyPop</th>\n",
       "      <td>0.058014</td>\n",
       "      <td>-0.001293</td>\n",
       "      <td>0.532274</td>\n",
       "      <td>-0.496840</td>\n",
       "      <td>0.736317</td>\n",
       "      <td>-0.781126</td>\n",
       "      <td>0.224388</td>\n",
       "      <td>1.000000</td>\n",
       "      <td>0.683090</td>\n",
       "      <td>0.221729</td>\n",
       "      <td>0.102701</td>\n",
       "    </tr>\n",
       "    <tr>\n",
       "      <th>LifeExpectancy</th>\n",
       "      <td>0.025023</td>\n",
       "      <td>0.002827</td>\n",
       "      <td>0.586833</td>\n",
       "      <td>-0.596651</td>\n",
       "      <td>0.801546</td>\n",
       "      <td>-0.856993</td>\n",
       "      <td>-0.534594</td>\n",
       "      <td>0.683090</td>\n",
       "      <td>1.000000</td>\n",
       "      <td>-0.086760</td>\n",
       "      <td>-0.159965</td>\n",
       "    </tr>\n",
       "    <tr>\n",
       "      <th>FemaleLabor</th>\n",
       "      <td>0.046910</td>\n",
       "      <td>-0.052950</td>\n",
       "      <td>0.182978</td>\n",
       "      <td>0.099388</td>\n",
       "      <td>0.064052</td>\n",
       "      <td>-0.005823</td>\n",
       "      <td>0.343934</td>\n",
       "      <td>0.221729</td>\n",
       "      <td>-0.086760</td>\n",
       "      <td>1.000000</td>\n",
       "      <td>-0.187880</td>\n",
       "    </tr>\n",
       "    <tr>\n",
       "      <th>Unemployment</th>\n",
       "      <td>-0.109369</td>\n",
       "      <td>-0.129642</td>\n",
       "      <td>-0.262437</td>\n",
       "      <td>0.067508</td>\n",
       "      <td>-0.088488</td>\n",
       "      <td>-0.010533</td>\n",
       "      <td>0.276330</td>\n",
       "      <td>0.102701</td>\n",
       "      <td>-0.159965</td>\n",
       "      <td>-0.187880</td>\n",
       "      <td>1.000000</td>\n",
       "    </tr>\n",
       "  </tbody>\n",
       "</table>\n",
       "</div>"
      ],
      "text/plain": [
       "                LandArea  Population       GDP     Rural  Internet  BirthRate  \\\n",
       "LandArea        1.000000    0.458195  0.088703 -0.091602  0.059605  -0.051409   \n",
       "Population      0.458195    1.000000 -0.047333  0.059786 -0.045358  -0.051046   \n",
       "GDP             0.088703   -0.047333  1.000000 -0.603933  0.740396  -0.529835   \n",
       "Rural          -0.091602    0.059786 -0.603933  1.000000 -0.644627   0.566755   \n",
       "Internet        0.059605   -0.045358  0.740396 -0.644627  1.000000  -0.808097   \n",
       "BirthRate      -0.051409   -0.051046 -0.529835  0.566755 -0.808097   1.000000   \n",
       "DeathRate       0.051291   -0.010516 -0.183316  0.251919 -0.196859   0.211728   \n",
       "ElderlyPop      0.058014   -0.001293  0.532274 -0.496840  0.736317  -0.781126   \n",
       "LifeExpectancy  0.025023    0.002827  0.586833 -0.596651  0.801546  -0.856993   \n",
       "FemaleLabor     0.046910   -0.052950  0.182978  0.099388  0.064052  -0.005823   \n",
       "Unemployment   -0.109369   -0.129642 -0.262437  0.067508 -0.088488  -0.010533   \n",
       "\n",
       "                DeathRate  ElderlyPop  LifeExpectancy  FemaleLabor  \\\n",
       "LandArea         0.051291    0.058014        0.025023     0.046910   \n",
       "Population      -0.010516   -0.001293        0.002827    -0.052950   \n",
       "GDP             -0.183316    0.532274        0.586833     0.182978   \n",
       "Rural            0.251919   -0.496840       -0.596651     0.099388   \n",
       "Internet        -0.196859    0.736317        0.801546     0.064052   \n",
       "BirthRate        0.211728   -0.781126       -0.856993    -0.005823   \n",
       "DeathRate        1.000000    0.224388       -0.534594     0.343934   \n",
       "ElderlyPop       0.224388    1.000000        0.683090     0.221729   \n",
       "LifeExpectancy  -0.534594    0.683090        1.000000    -0.086760   \n",
       "FemaleLabor      0.343934    0.221729       -0.086760     1.000000   \n",
       "Unemployment     0.276330    0.102701       -0.159965    -0.187880   \n",
       "\n",
       "                Unemployment  \n",
       "LandArea           -0.109369  \n",
       "Population         -0.129642  \n",
       "GDP                -0.262437  \n",
       "Rural               0.067508  \n",
       "Internet           -0.088488  \n",
       "BirthRate          -0.010533  \n",
       "DeathRate           0.276330  \n",
       "ElderlyPop          0.102701  \n",
       "LifeExpectancy     -0.159965  \n",
       "FemaleLabor        -0.187880  \n",
       "Unemployment        1.000000  "
      ]
     },
     "execution_count": 390,
     "metadata": {},
     "output_type": "execute_result"
    }
   ],
   "source": [
    "dataset.corr()"
   ]
  },
  {
   "cell_type": "code",
   "execution_count": 392,
   "metadata": {},
   "outputs": [
    {
     "data": {
      "text/html": [
       "<div>\n",
       "<style scoped>\n",
       "    .dataframe tbody tr th:only-of-type {\n",
       "        vertical-align: middle;\n",
       "    }\n",
       "\n",
       "    .dataframe tbody tr th {\n",
       "        vertical-align: top;\n",
       "    }\n",
       "\n",
       "    .dataframe thead th {\n",
       "        text-align: right;\n",
       "    }\n",
       "</style>\n",
       "<table border=\"1\" class=\"dataframe\">\n",
       "  <thead>\n",
       "    <tr style=\"text-align: right;\">\n",
       "      <th></th>\n",
       "      <th>GDP</th>\n",
       "      <th>BirthRate</th>\n",
       "    </tr>\n",
       "  </thead>\n",
       "  <tbody>\n",
       "    <tr>\n",
       "      <th>GDP</th>\n",
       "      <td>1.000000</td>\n",
       "      <td>-0.529835</td>\n",
       "    </tr>\n",
       "    <tr>\n",
       "      <th>BirthRate</th>\n",
       "      <td>-0.529835</td>\n",
       "      <td>1.000000</td>\n",
       "    </tr>\n",
       "  </tbody>\n",
       "</table>\n",
       "</div>"
      ],
      "text/plain": [
       "                GDP  BirthRate\n",
       "GDP        1.000000  -0.529835\n",
       "BirthRate -0.529835   1.000000"
      ]
     },
     "execution_count": 392,
     "metadata": {},
     "output_type": "execute_result"
    }
   ],
   "source": [
    "dataset[['GDP', 'BirthRate']].corr()"
   ]
  },
  {
   "cell_type": "code",
   "execution_count": 399,
   "metadata": {},
   "outputs": [],
   "source": [
    "top_10_gdp=dataset.sort_values(by='GDP')[['GDP', 'Country']].dropna().tail(10)"
   ]
  },
  {
   "cell_type": "code",
   "execution_count": 400,
   "metadata": {},
   "outputs": [
    {
     "data": {
      "text/html": [
       "<div>\n",
       "<style scoped>\n",
       "    .dataframe tbody tr th:only-of-type {\n",
       "        vertical-align: middle;\n",
       "    }\n",
       "\n",
       "    .dataframe tbody tr th {\n",
       "        vertical-align: top;\n",
       "    }\n",
       "\n",
       "    .dataframe thead th {\n",
       "        text-align: right;\n",
       "    }\n",
       "</style>\n",
       "<table border=\"1\" class=\"dataframe\">\n",
       "  <thead>\n",
       "    <tr style=\"text-align: right;\">\n",
       "      <th></th>\n",
       "      <th>GDP</th>\n",
       "      <th>Country</th>\n",
       "    </tr>\n",
       "  </thead>\n",
       "  <tbody>\n",
       "    <tr>\n",
       "      <th>204</th>\n",
       "      <td>53042.0</td>\n",
       "      <td>United States</td>\n",
       "    </tr>\n",
       "    <tr>\n",
       "      <th>168</th>\n",
       "      <td>55182.0</td>\n",
       "      <td>Singapore</td>\n",
       "    </tr>\n",
       "    <tr>\n",
       "      <th>52</th>\n",
       "      <td>59819.0</td>\n",
       "      <td>Denmark</td>\n",
       "    </tr>\n",
       "    <tr>\n",
       "      <th>185</th>\n",
       "      <td>60381.0</td>\n",
       "      <td>Sweden</td>\n",
       "    </tr>\n",
       "    <tr>\n",
       "      <th>10</th>\n",
       "      <td>67463.0</td>\n",
       "      <td>Australia</td>\n",
       "    </tr>\n",
       "    <tr>\n",
       "      <th>186</th>\n",
       "      <td>84748.0</td>\n",
       "      <td>Switzerland</td>\n",
       "    </tr>\n",
       "    <tr>\n",
       "      <th>114</th>\n",
       "      <td>91376.0</td>\n",
       "      <td>Macao SAR, China</td>\n",
       "    </tr>\n",
       "    <tr>\n",
       "      <th>156</th>\n",
       "      <td>93714.0</td>\n",
       "      <td>Qatar</td>\n",
       "    </tr>\n",
       "    <tr>\n",
       "      <th>143</th>\n",
       "      <td>100898.0</td>\n",
       "      <td>Norway</td>\n",
       "    </tr>\n",
       "    <tr>\n",
       "      <th>113</th>\n",
       "      <td>110665.0</td>\n",
       "      <td>Luxembourg</td>\n",
       "    </tr>\n",
       "  </tbody>\n",
       "</table>\n",
       "</div>"
      ],
      "text/plain": [
       "          GDP           Country\n",
       "204   53042.0     United States\n",
       "168   55182.0         Singapore\n",
       "52    59819.0           Denmark\n",
       "185   60381.0            Sweden\n",
       "10    67463.0         Australia\n",
       "186   84748.0       Switzerland\n",
       "114   91376.0  Macao SAR, China\n",
       "156   93714.0             Qatar\n",
       "143  100898.0            Norway\n",
       "113  110665.0        Luxembourg"
      ]
     },
     "execution_count": 400,
     "metadata": {},
     "output_type": "execute_result"
    }
   ],
   "source": [
    "top_10_gdp"
   ]
  },
  {
   "cell_type": "code",
   "execution_count": 404,
   "metadata": {},
   "outputs": [
    {
     "data": {
      "text/plain": [
       "<BarContainer object of 10 artists>"
      ]
     },
     "execution_count": 404,
     "metadata": {},
     "output_type": "execute_result"
    },
    {
     "data": {
      "image/png": "[encoded data removed]",
      "text/plain": [
       "<Figure size 1440x360 with 1 Axes>"
      ]
     },
     "metadata": {
      "needs_background": "light"
     },
     "output_type": "display_data"
    }
   ],
   "source": [
    "plt.figure(figsize=(20,5))\n",
    "plt.bar(x=top_10_gdp['Country'], height=top_10_gdp['GDP'])"
   ]
  },
  {
   "cell_type": "code",
   "execution_count": 406,
   "metadata": {},
   "outputs": [
    {
     "data": {
      "image/png": "[encoded data removed]",
      "text/plain": [
       "<Figure size 432x288 with 1 Axes>"
      ]
     },
     "metadata": {},
     "output_type": "display_data"
    }
   ],
   "source": [
    "plt.pie(x=top_10_gdp['GDP'], labels=top_10_gdp['Country'])\n",
    "plt.show()"
   ]
  },
  {
   "cell_type": "code",
   "execution_count": null,
   "metadata": {},
   "outputs": [],
   "source": []
  }
 ],
 "metadata": {
  "kernelspec": {
   "display_name": "Python 3",
   "language": "python",
   "name": "python3"
  },
  "language_info": {
   "codemirror_mode": {
    "name": "ipython",
    "version": 3
   },
   "file_extension": ".py",
   "mimetype": "text/x-python",
   "name": "python",
   "nbconvert_exporter": "python",
   "pygments_lexer": "ipython3",
   "version": "3.7.1"
  }
 },
 "nbformat": 4,
 "nbformat_minor": 2
}
